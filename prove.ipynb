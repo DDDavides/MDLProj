{
 "cells": [
  {
   "cell_type": "markdown",
   "metadata": {},
   "source": [
    "# Import e funzioni ausiliarie"
   ]
  },
  {
   "cell_type": "code",
   "execution_count": 1,
   "metadata": {},
   "outputs": [],
   "source": [
    "from tensorflow import keras as k\n",
    "import tensorflow as tf\n",
    "import pandas as pd\n",
    "import numpy as np\n",
    "import matplotlib.pyplot as plt\n"
   ]
  },
  {
   "cell_type": "code",
   "execution_count": 2,
   "metadata": {},
   "outputs": [],
   "source": [
    "x = np.linspace(0,10,100)\n",
    "y = np.power(x,2)"
   ]
  },
  {
   "cell_type": "code",
   "execution_count": 3,
   "metadata": {},
   "outputs": [
    {
     "data": {
      "text/plain": [
       "[<matplotlib.lines.Line2D at 0x2bc928670>]"
      ]
     },
     "execution_count": 3,
     "metadata": {},
     "output_type": "execute_result"
    },
    {
     "data": {
      "image/png": "[encoded data removed]",
      "text/plain": [
       "<Figure size 640x480 with 1 Axes>"
      ]
     },
     "metadata": {},
     "output_type": "display_data"
    }
   ],
   "source": [
    "plt.plot(x,y)"
   ]
  },
  {
   "cell_type": "code",
   "execution_count": 4,
   "metadata": {},
   "outputs": [],
   "source": [
    "def time_step(data, label, step=10):\n",
    "    x,y = [],[]\n",
    "    for i in range(data.shape[0]-(step+1)):\n",
    "        x.append(data[i:i+step])\n",
    "        y.append(label[i+step+1])\n",
    "    return np.array(x),np.array(y)"
   ]
  },
  {
   "cell_type": "code",
   "execution_count": 5,
   "metadata": {},
   "outputs": [],
   "source": [
    "xt,yt = time_step(x,y)\n",
    "xt = xt.reshape(*xt.shape, 1)"
   ]
  },
  {
   "cell_type": "code",
   "execution_count": 6,
   "metadata": {},
   "outputs": [
    {
     "name": "stdout",
     "output_type": "stream",
     "text": [
      "Metal device set to: Apple M1 Pro\n",
      "\n",
      "systemMemory: 16.00 GB\n",
      "maxCacheSize: 5.33 GB\n",
      "\n"
     ]
    },
    {
     "name": "stderr",
     "output_type": "stream",
     "text": [
      "2022-11-23 20:20:13.426877: I tensorflow/core/common_runtime/pluggable_device/pluggable_device_factory.cc:306] Could not identify NUMA node of platform GPU ID 0, defaulting to 0. Your kernel may not have been built with NUMA support.\n",
      "2022-11-23 20:20:13.427015: I tensorflow/core/common_runtime/pluggable_device/pluggable_device_factory.cc:272] Created TensorFlow device (/job:localhost/replica:0/task:0/device:GPU:0 with 0 MB memory) -> physical PluggableDevice (device: 0, name: METAL, pci bus id: <undefined>)\n"
     ]
    }
   ],
   "source": [
    "model = k.models.Sequential(\n",
    "    [\n",
    "        k.layers.Flatten(),\n",
    "        k.layers.Dense(500, activation=\"relu\"),\n",
    "        k.layers.Dense(300, activation=\"relu\"),\n",
    "        k.layers.Dense(250, activation=\"relu\"),\n",
    "        k.layers.Dense(100, activation=\"relu\"),\n",
    "        k.layers.Dense(100, activation=\"relu\"),\n",
    "        k.layers.Dense(100, activation=\"relu\"),\n",
    "        k.layers.Dense(1)\n",
    "    ]\n",
    ")"
   ]
  },
  {
   "cell_type": "code",
   "execution_count": 7,
   "metadata": {},
   "outputs": [
    {
     "name": "stdout",
     "output_type": "stream",
     "text": [
      "Model: \"sequential\"\n",
      "_________________________________________________________________\n",
      " Layer (type)                Output Shape              Param #   \n",
      "=================================================================\n",
      " flatten (Flatten)           (89, 10)                  0         \n",
      "                                                                 \n",
      " dense (Dense)               (89, 500)                 5500      \n",
      "                                                                 \n",
      " dense_1 (Dense)             (89, 300)                 150300    \n",
      "                                                                 \n",
      " dense_2 (Dense)             (89, 250)                 75250     \n",
      "                                                                 \n",
      " dense_3 (Dense)             (89, 100)                 25100     \n",
      "                                                                 \n",
      " dense_4 (Dense)             (89, 100)                 10100     \n",
      "                                                                 \n",
      " dense_5 (Dense)             (89, 100)                 10100     \n",
      "                                                                 \n",
      " dense_6 (Dense)             (89, 1)                   101       \n",
      "                                                                 \n",
      "=================================================================\n",
      "Total params: 276,451\n",
      "Trainable params: 276,451\n",
      "Non-trainable params: 0\n",
      "_________________________________________________________________\n"
     ]
    }
   ],
   "source": [
    "model.compile(\n",
    "    loss='mse',\n",
    "    optimizer=tf.keras.optimizers.Adam(0.0001),\n",
    "    metrics=['mse']\n",
    ")\n",
    "model(xt)\n",
    "model.summary()"
   ]
  },
  {
   "cell_type": "code",
   "execution_count": 8,
   "metadata": {},
   "outputs": [
    {
     "name": "stdout",
     "output_type": "stream",
     "text": [
      "Epoch 1/500\n"
     ]
    },
    {
     "name": "stderr",
     "output_type": "stream",
     "text": [
      "2022-11-23 20:20:13.902679: W tensorflow/core/platform/profile_utils/cpu_utils.cc:128] Failed to get CPU frequency: 0 Hz\n",
      "2022-11-23 20:20:14.174910: I tensorflow/core/grappler/optimizers/custom_graph_optimizer_registry.cc:114] Plugin optimizer for device_type GPU is enabled.\n"
     ]
    },
    {
     "name": "stdout",
     "output_type": "stream",
     "text": [
      "3/3 [==============================] - 1s 67ms/step - loss: 2255.1536 - mse: 2255.1536\n",
      "Epoch 2/500\n",
      "3/3 [==============================] - 0s 10ms/step - loss: 2226.8142 - mse: 2226.8142\n",
      "Epoch 3/500\n",
      "3/3 [==============================] - 0s 8ms/step - loss: 2203.8223 - mse: 2203.8225\n",
      "Epoch 4/500\n",
      "3/3 [==============================] - 0s 9ms/step - loss: 2179.6914 - mse: 2179.6914\n",
      "Epoch 5/500\n",
      "3/3 [==============================] - 0s 8ms/step - loss: 2153.2104 - mse: 2153.2104\n",
      "Epoch 6/500\n",
      "3/3 [==============================] - 0s 9ms/step - loss: 2122.8049 - mse: 2122.8049\n",
      "Epoch 7/500\n",
      "3/3 [==============================] - 0s 8ms/step - loss: 2084.2661 - mse: 2084.2661\n",
      "Epoch 8/500\n",
      "3/3 [==============================] - 0s 8ms/step - loss: 2039.5852 - mse: 2039.5852\n",
      "Epoch 9/500\n",
      "3/3 [==============================] - 0s 8ms/step - loss: 1987.3090 - mse: 1987.3090\n",
      "Epoch 10/500\n",
      "3/3 [==============================] - 0s 8ms/step - loss: 1923.9607 - mse: 1923.9607\n",
      "Epoch 11/500\n",
      "3/3 [==============================] - 0s 9ms/step - loss: 1855.3564 - mse: 1855.3564\n",
      "Epoch 12/500\n",
      "3/3 [==============================] - 0s 9ms/step - loss: 1767.8965 - mse: 1767.8965\n",
      "Epoch 13/500\n",
      "3/3 [==============================] - 0s 9ms/step - loss: 1672.6230 - mse: 1672.6230\n",
      "Epoch 14/500\n",
      "3/3 [==============================] - 0s 9ms/step - loss: 1552.0453 - mse: 1552.0453\n",
      "Epoch 15/500\n",
      "3/3 [==============================] - 0s 8ms/step - loss: 1417.0376 - mse: 1417.0376\n",
      "Epoch 16/500\n",
      "3/3 [==============================] - 0s 8ms/step - loss: 1266.8159 - mse: 1266.8159\n",
      "Epoch 17/500\n",
      "3/3 [==============================] - 0s 8ms/step - loss: 1108.2042 - mse: 1108.2042\n",
      "Epoch 18/500\n",
      "3/3 [==============================] - 0s 9ms/step - loss: 926.1220 - mse: 926.1220\n",
      "Epoch 19/500\n",
      "3/3 [==============================] - 0s 8ms/step - loss: 724.7353 - mse: 724.7353\n",
      "Epoch 20/500\n",
      "3/3 [==============================] - 0s 8ms/step - loss: 539.8279 - mse: 539.8279\n",
      "Epoch 21/500\n",
      "3/3 [==============================] - 0s 8ms/step - loss: 373.7124 - mse: 373.7124\n",
      "Epoch 22/500\n",
      "3/3 [==============================] - 0s 8ms/step - loss: 238.7129 - mse: 238.7129\n",
      "Epoch 23/500\n",
      "3/3 [==============================] - 0s 8ms/step - loss: 148.2207 - mse: 148.2207\n",
      "Epoch 24/500\n",
      "3/3 [==============================] - 0s 9ms/step - loss: 103.5121 - mse: 103.5121\n",
      "Epoch 25/500\n",
      "3/3 [==============================] - 0s 8ms/step - loss: 115.3738 - mse: 115.3738\n",
      "Epoch 26/500\n",
      "3/3 [==============================] - 0s 8ms/step - loss: 139.1106 - mse: 139.1106\n",
      "Epoch 27/500\n",
      "3/3 [==============================] - 0s 8ms/step - loss: 149.1194 - mse: 149.1194\n",
      "Epoch 28/500\n",
      "3/3 [==============================] - 0s 8ms/step - loss: 137.6225 - mse: 137.6225\n",
      "Epoch 29/500\n",
      "3/3 [==============================] - 0s 8ms/step - loss: 120.5637 - mse: 120.5637\n",
      "Epoch 30/500\n",
      "3/3 [==============================] - 0s 8ms/step - loss: 105.4265 - mse: 105.4265\n",
      "Epoch 31/500\n",
      "3/3 [==============================] - 0s 9ms/step - loss: 103.6738 - mse: 103.6738\n",
      "Epoch 32/500\n",
      "3/3 [==============================] - 0s 8ms/step - loss: 105.6831 - mse: 105.6831\n",
      "Epoch 33/500\n",
      "3/3 [==============================] - 0s 9ms/step - loss: 108.4344 - mse: 108.4344\n",
      "Epoch 34/500\n",
      "3/3 [==============================] - 0s 8ms/step - loss: 108.5436 - mse: 108.5436\n"
     ]
    },
    {
     "data": {
      "text/plain": [
       "<keras.callbacks.History at 0x2c047cdc0>"
      ]
     },
     "execution_count": 8,
     "metadata": {},
     "output_type": "execute_result"
    }
   ],
   "source": [
    "callback = tf.keras.callbacks.EarlyStopping(monitor='loss', patience=10)\n",
    "model.fit(xt,yt,epochs=500, callbacks=[callback])"
   ]
  },
  {
   "cell_type": "code",
   "execution_count": 9,
   "metadata": {},
   "outputs": [
    {
     "name": "stdout",
     "output_type": "stream",
     "text": [
      "3/3 [==============================] - 0s 10ms/step\n"
     ]
    },
    {
     "name": "stderr",
     "output_type": "stream",
     "text": [
      "2022-11-23 20:20:15.983226: I tensorflow/core/grappler/optimizers/custom_graph_optimizer_registry.cc:114] Plugin optimizer for device_type GPU is enabled.\n"
     ]
    },
    {
     "data": {
      "text/plain": [
       "[<matplotlib.lines.Line2D at 0x2c1b52ee0>]"
      ]
     },
     "execution_count": 9,
     "metadata": {},
     "output_type": "execute_result"
    },
    {
     "data": {
      "image/png": "[encoded data removed]",
      "text/plain": [
       "<Figure size 640x480 with 1 Axes>"
      ]
     },
     "metadata": {},
     "output_type": "display_data"
    }
   ],
   "source": [
    "predicted = model.predict(xt)\n",
    "plt.plot(x[11:], predicted)\n",
    "plt.plot(x,y)"
   ]
  }
 ],
 "metadata": {
  "kernelspec": {
   "display_name": "Python 3.8.13 ('dl')",
   "language": "python",
   "name": "python3"
  },
  "language_info": {
   "codemirror_mode": {
    "name": "ipython",
    "version": 3
   },
   "file_extension": ".py",
   "mimetype": "text/x-python",
   "name": "python",
   "nbconvert_exporter": "python",
   "pygments_lexer": "ipython3",
   "version": "3.8.13"
  },
  "orig_nbformat": 4,
  "vscode": {
   "interpreter": {
    "hash": "b2b3490ab97e9e12756aa89c01d5382ca6cf08cdaa9c454d9749392520b38d26"
   }
  }
 },
 "nbformat": 4,
 "nbformat_minor": 2
}
