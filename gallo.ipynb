{
 "cells": [
  {
   "cell_type": "markdown",
   "metadata": {},
   "source": [
    "# Import e funzioni ausiliarie"
   ]
  },
  {
   "cell_type": "code",
   "execution_count": 1,
   "metadata": {},
   "outputs": [],
   "source": [
    "from sklearn.model_selection import train_test_split\n",
    "from sklearn.metrics import classification_report\n",
    "from sklearn.model_selection import GridSearchCV\n",
    "\n",
    "from sklearn.preprocessing import OneHotEncoder\n",
    "from sklearn.impute import SimpleImputer\n",
    "\n",
    "from sklearn.svm import SVC, LinearSVC\n",
    "from sklearn.linear_model import SGDClassifier, RidgeClassifier\n",
    "from sklearn.ensemble import RandomForestClassifier, AdaBoostClassifier\n",
    "\n",
    "from tensorflow import keras as k\n",
    "\n",
    "import tensorflow as tf\n",
    "import pandas as pd\n",
    "import numpy as np\n",
    "\n",
    "# %pip install d2l==1.0.0a1.post0\n",
    "from d2l import tensorflow as d2l\n"
   ]
  },
  {
   "cell_type": "code",
   "execution_count": 2,
   "metadata": {},
   "outputs": [],
   "source": [
    "data = pd.read_csv('./input/dataset.csv')\n",
    "# dataImputed = pd.read_csv('./input/datasetImputed.csv')"
   ]
  },
  {
   "cell_type": "code",
   "execution_count": 3,
   "metadata": {},
   "outputs": [],
   "source": [
    "def reshape_to_inputshape(a_prev,season):\n",
    "    # e.g. (a_prev=x_train, season=trn_ssn)\n",
    "    totalMatches = len(season)*38\n",
    "    input_step = int(a_prev.shape[0]/totalMatches)\n",
    "    prev_f = a_prev.shape[1]\n",
    "    return np.reshape(a_prev, (totalMatches, input_step, prev_f))"
   ]
  },
  {
   "cell_type": "code",
   "execution_count": 4,
   "metadata": {},
   "outputs": [],
   "source": [
    "def encode(x):\n",
    "    if x == 0:\n",
    "        v = [1,0,0]\n",
    "    elif x == 1:\n",
    "        v = [0,1,0]\n",
    "    elif x == 2:\n",
    "        v = [0,0,1]\n",
    "    return v\n",
    "\n",
    "def encode_list(l):\n",
    "    r = []\n",
    "    for i in l:\n",
    "        r.append(encode(i))\n",
    "    return r"
   ]
  },
  {
   "cell_type": "code",
   "execution_count": 55,
   "metadata": {},
   "outputs": [],
   "source": [
    "def report(model, x_train, y_train, x_test, y_test, encoder):\n",
    "    # TRAIN\n",
    "    y_pred_train = model.predict(x_train)\n",
    "    y_predm_train = np.asarray(y_pred_train)\n",
    "    y_predm_train = np.argmax(y_predm_train, axis=1)\n",
    "    y_predm_train = encode_list(y_predm_train.reshape(-1))\n",
    "    y_predm_train = np.array(y_predm_train)\n",
    "\n",
    "    y_trainm = np.argmax(y_train, axis=1)\n",
    "    y_trainm = encode_list(y_trainm.reshape(-1))\n",
    "    y_trainm = np.array(y_trainm)\n",
    "\n",
    "    # Inverse One-hot transform - TRAIN\n",
    "    y_predm_train = encoder.inverse_transform(y_predm_train)\n",
    "    y_trainm = encoder.inverse_transform(y_trainm)\n",
    "\n",
    "    # TEST\n",
    "    y_pred = model.predict(x_test)\n",
    "    y_predm = np.asarray(y_pred)\n",
    "    y_predm = np.argmax(y_predm, axis=1)\n",
    "    y_predm = encode_list(y_predm.reshape(-1))\n",
    "    y_predm = np.array(y_predm)\n",
    "    \n",
    "    y_testm = np.argmax(y_test, axis=1)\n",
    "    y_testm = encode_list(y_testm.reshape(-1))\n",
    "    y_testm = np.array(y_testm)\n",
    "\n",
    "    # Inverse One-hot transform - TEST\n",
    "    y_predm = encoder.inverse_transform(y_predm)\n",
    "    y_testm = encoder.inverse_transform(y_testm)\n",
    "\n",
    "    #Model Metrics test\n",
    "    print(\"TEST REPORT\")\n",
    "    print(classification_report(y_testm, y_predm, digits=3))\n",
    "    print(\"--------------------------------------------------\")\n",
    "\n",
    "    #Model Metrics train\n",
    "    print(\"TRAINING REPORT\")\n",
    "    print(classification_report(y_trainm, y_predm_train, digits=3))\n",
    "    print(\"--------------------------------------------------\")"
   ]
  },
  {
   "cell_type": "markdown",
   "metadata": {},
   "source": [
    "# Preprocessamento dati"
   ]
  },
  {
   "cell_type": "code",
   "execution_count": 13,
   "metadata": {},
   "outputs": [
    {
     "name": "stdout",
     "output_type": "stream",
     "text": [
      "      HTeamEloScore  ATeamEloScore  HTdaysSinceLastMatch  \\\n",
      "0         10.000000     -10.000000                   NaN   \n",
      "1         10.000000     -10.000000                   NaN   \n",
      "2        -10.000000      10.000000                   NaN   \n",
      "3         10.000000     -10.000000                   NaN   \n",
      "4         10.000000     -10.000000                   NaN   \n",
      "...             ...            ...                   ...   \n",
      "4175    -160.435965     -50.589179                   8.0   \n",
      "4176     -19.797491     115.180619                   6.0   \n",
      "4177     238.315260     -19.773266                   8.0   \n",
      "4178      99.808261    -128.614330                   7.0   \n",
      "4179     -70.454854    -214.666430                   8.0   \n",
      "\n",
      "      ATdaysSinceLastMatch  HTW_rate  ATW_rate  ATD_rate  HTD_rate  \\\n",
      "0                      NaN       NaN       NaN       NaN       NaN   \n",
      "1                      NaN       NaN       NaN       NaN       NaN   \n",
      "2                      NaN       NaN       NaN       NaN       NaN   \n",
      "3                      NaN       NaN       NaN       NaN       NaN   \n",
      "4                      NaN       NaN       NaN       NaN       NaN   \n",
      "...                    ...       ...       ...       ...       ...   \n",
      "4175                   8.0  0.184211  0.289474  0.236842  0.131579   \n",
      "4176                   7.0  0.394737  0.552632  0.210526  0.157895   \n",
      "4177                   8.0  0.763158  0.421053  0.236842  0.184211   \n",
      "4178                   8.0  0.500000  0.236842  0.105263  0.236842   \n",
      "4179                   7.0  0.236842  0.078947  0.157895  0.289474   \n",
      "\n",
      "      7_HTW_rate  12_HTW_rate  ...  AwayTeam_Southampton  AwayTeam_Stoke  \\\n",
      "0            NaN          NaN  ...                     0               0   \n",
      "1            NaN          NaN  ...                     0               1   \n",
      "2            NaN          NaN  ...                     0               0   \n",
      "3            NaN          NaN  ...                     0               0   \n",
      "4            NaN          NaN  ...                     0               0   \n",
      "...          ...          ...  ...                   ...             ...   \n",
      "4175    0.428571     0.250000  ...                     0               0   \n",
      "4176    0.571429     0.500000  ...                     0               0   \n",
      "4177    1.000000     0.833333  ...                     0               0   \n",
      "4178    0.285714     0.416667  ...                     0               0   \n",
      "4179    0.285714     0.333333  ...                     0               0   \n",
      "\n",
      "      AwayTeam_Sunderland  AwayTeam_Swansea  AwayTeam_Tottenham  \\\n",
      "0                       0                 0                   0   \n",
      "1                       0                 0                   0   \n",
      "2                       0                 0                   0   \n",
      "3                       0                 0                   0   \n",
      "4                       0                 0                   1   \n",
      "...                   ...               ...                 ...   \n",
      "4175                    0                 0                   0   \n",
      "4176                    0                 0                   0   \n",
      "4177                    0                 0                   0   \n",
      "4178                    0                 0                   0   \n",
      "4179                    0                 0                   0   \n",
      "\n",
      "      AwayTeam_Watford  AwayTeam_West Brom  AwayTeam_West Ham  AwayTeam_Wigan  \\\n",
      "0                    0                   1                  0               0   \n",
      "1                    0                   0                  0               0   \n",
      "2                    0                   0                  0               0   \n",
      "3                    0                   0                  0               0   \n",
      "4                    0                   0                  0               0   \n",
      "...                ...                 ...                ...             ...   \n",
      "4175                 0                   0                  0               0   \n",
      "4176                 0                   0                  0               0   \n",
      "4177                 0                   0                  0               0   \n",
      "4178                 0                   0                  0               0   \n",
      "4179                 0                   0                  0               0   \n",
      "\n",
      "      AwayTeam_Wolves  \n",
      "0                   0  \n",
      "1                   0  \n",
      "2                   0  \n",
      "3                   0  \n",
      "4                   0  \n",
      "...               ...  \n",
      "4175                0  \n",
      "4176                0  \n",
      "4177                1  \n",
      "4178                0  \n",
      "4179                0  \n",
      "\n",
      "[4180 rows x 94 columns]\n",
      "<class 'pandas.core.frame.DataFrame'>\n"
     ]
    }
   ],
   "source": [
    "features = ['HomeTeam', 'AwayTeam', \n",
    "            'HTeamEloScore', 'ATeamEloScore', \n",
    "            'HTdaysSinceLastMatch', 'ATdaysSinceLastMatch', \n",
    "            'HTW_rate', 'ATW_rate', 'ATD_rate', 'HTD_rate', \n",
    "            '7_HTW_rate', '12_HTW_rate', '7_ATW_rate', '12_ATW_rate', \n",
    "            '7_HTD_rate', '12_HTD_rate', '7_ATD_rate', '12_ATD_rate',\n",
    "            '7_HTL_rate', '12_HTL_rate', '7_ATL_rate', '12_ATL_rate',\n",
    "            '5_HTHW_rate', '5_ATAW_rate']\n",
    "\n",
    "X = pd.get_dummies(data[features])\n",
    "print(X)\n",
    "print(type(X))\n",
    "\n",
    "# Se non cambiamo nulla il OneHotEncoder assegna:\n",
    "# A -> 1 0 0\n",
    "# D -> 0 1 0\n",
    "# H -> 0 0 1\n",
    "y = data[['FTR']].to_numpy().ravel().reshape(-1, 1)\n",
    "enc = OneHotEncoder(sparse=False)\n",
    "y = enc.fit_transform(y)\n",
    "X_imputed = SimpleImputer().fit_transform(X)\n"
   ]
  },
  {
   "cell_type": "code",
   "execution_count": 7,
   "metadata": {},
   "outputs": [],
   "source": [
    "trn_ssn = [2008, 2009, 2010, 2011, 2012, 2013, 2014, 2015]\n",
    "trn_ssn_len = len(trn_ssn)\n",
    "tst_ssn = [2016,2017,2018] \n",
    "tst_ssn_len = len(tst_ssn)\n",
    "\n",
    "test_size = float(tst_ssn_len)/(tst_ssn_len+trn_ssn_len)\n",
    "\n",
    "#Split X and Y into training and Test Sets\n",
    "x_train, x_test, y_train, y_test = train_test_split(X_imputed, y, shuffle=False, test_size=test_size)"
   ]
  },
  {
   "cell_type": "markdown",
   "metadata": {},
   "source": [
    "# RandomForestClassifier"
   ]
  },
  {
   "cell_type": "code",
   "execution_count": null,
   "metadata": {},
   "outputs": [],
   "source": [
    "forest = RandomForestClassifier(n_estimators=2, random_state=2)\n",
    "forest = forest.fit(x_train, y_train)\n",
    "\n",
    "\n",
    "#Forest Model Metrics\n",
    "print(\"Forest Classifier\")\n",
    "print(\"Train Score: \", forest.score(x_train, y_train))\n",
    "print(\"Test Score: \", forest.score(x_test, y_test))"
   ]
  },
  {
   "cell_type": "code",
   "execution_count": null,
   "metadata": {},
   "outputs": [],
   "source": [
    "n = 10\n",
    "m = 5\n",
    "max_depth = 10\n",
    "forests = []\n",
    "grid = [{\"n_estimators\": list(range(1, n)), \"random_state\": list(range(0, m)), \"max_depth\": list(range(1, max_depth))}]\n",
    "gridSearch = GridSearchCV(RandomForestClassifier(), param_grid=grid, n_jobs=10, return_train_score=True)\n",
    "gridSearch.fit(x_train, y_train)\n",
    "\n",
    "print(\"Forest Classifiers Best Score: \", gridSearch.best_score_)\n",
    "print(\"Forest Classifiers Best Params: \", gridSearch.best_params_)\n",
    "print(\"Forest Classifiers Best Params: \", gridSearch.best_estimator_)"
   ]
  },
  {
   "cell_type": "markdown",
   "metadata": {},
   "source": [
    "# Neural Network"
   ]
  },
  {
   "cell_type": "code",
   "execution_count": null,
   "metadata": {},
   "outputs": [],
   "source": [
    "y_nn = ((data[['ordinalHR']]).to_numpy()*2)\n",
    "#Split X and Y into training and Test Sets\n",
    "# y_nn = OneHotEncoder(sparse=True).fit_transform(y_nn)\n",
    "x_train_nn, x_test_nn, y_train_nn, y_test_nn = train_test_split(X_imputed, y_nn, shuffle=True)"
   ]
  },
  {
   "cell_type": "code",
   "execution_count": null,
   "metadata": {},
   "outputs": [],
   "source": [
    "nn = k.models.Sequential([\n",
    "    k.layers.Flatten(),\n",
    "    k.layers.Dense(41, activation='relu'),\n",
    "    k.layers.Dense(75, activation='relu'),\n",
    "    k.layers.Dropout(0.3),\n",
    "    k.layers.Dense(3, activation='softmax'),\n",
    "])"
   ]
  },
  {
   "cell_type": "code",
   "execution_count": null,
   "metadata": {},
   "outputs": [],
   "source": [
    "learning_rate=0.01\n",
    "\n",
    "nn.compile(\n",
    "    loss='sparse_categorical_crossentropy',\n",
    "    optimizer=k.optimizers.Adam(learning_rate),\n",
    "    metrics=['accuracy']\n",
    ")\n",
    "nn(x_train_nn)\n",
    "nn.summary()"
   ]
  },
  {
   "cell_type": "code",
   "execution_count": null,
   "metadata": {},
   "outputs": [],
   "source": [
    "epochs=10\n",
    "batch_size=50\n",
    "nn.fit(x_train_nn, y_train_nn, epochs=epochs, batch_size=batch_size)"
   ]
  },
  {
   "cell_type": "code",
   "execution_count": null,
   "metadata": {},
   "outputs": [],
   "source": [
    "print(nn.evaluate(x_test_nn, y_test_nn))"
   ]
  },
  {
   "cell_type": "markdown",
   "metadata": {},
   "source": [
    "# Lstm preprocessing 😍"
   ]
  },
  {
   "cell_type": "code",
   "execution_count": 151,
   "metadata": {},
   "outputs": [],
   "source": [
    "def time_step(data, label, step=10):\n",
    "    x,y = [],[]\n",
    "    for i in range(data.shape[0]-(step+1)):\n",
    "        x.append(data[i:i+step])\n",
    "        y.append(label[i+step+1])\n",
    "    return np.array(x),np.array(y)"
   ]
  },
  {
   "cell_type": "code",
   "execution_count": 152,
   "metadata": {},
   "outputs": [],
   "source": [
    "def create_dataset(team_name):\n",
    "    ht = data.loc[data['HomeTeam']==team_name]\n",
    "    at = data.loc[data['AwayTeam']==team_name]\n",
    "    team_data = pd.concat([ht,at])\n",
    "    team_data_label = team_data['FTR']\n",
    "    team_data_featured = pd.get_dummies(team_data[features])\n",
    "    return team_data_featured,team_data_label"
   ]
  },
  {
   "cell_type": "code",
   "execution_count": 161,
   "metadata": {},
   "outputs": [
    {
     "name": "stdout",
     "output_type": "stream",
     "text": [
      "(407, 10, 94)\n",
      "(407,)\n"
     ]
    }
   ],
   "source": [
    "team_name = 'Chelsea'\n",
    "data_f, data_l = create_dataset(team_name)\n",
    "data_f = SimpleImputer().fit_transform(data_f)\n",
    "x_ars, y_ars = time_step(data_f, data_l.to_numpy())\n",
    "print(x_ars.shape)\n",
    "print(y_ars.shape)"
   ]
  },
  {
   "cell_type": "code",
   "execution_count": 162,
   "metadata": {},
   "outputs": [],
   "source": [
    "y_ars = enc.fit_transform(y_ars.reshape(-1,1))"
   ]
  },
  {
   "cell_type": "code",
   "execution_count": 163,
   "metadata": {},
   "outputs": [],
   "source": [
    "x_train_lstm, x_test_lstm, y_train_lstm, y_test_lstm = train_test_split(x_ars, y_ars, shuffle=False, test_size=test_size)"
   ]
  },
  {
   "cell_type": "code",
   "execution_count": 164,
   "metadata": {},
   "outputs": [],
   "source": [
    "Tx = x_train_lstm.shape[1] #Time steps\n",
    "Ty = y_train_lstm.shape[1] #Time Steps"
   ]
  },
  {
   "cell_type": "markdown",
   "metadata": {},
   "source": [
    "# LSTM"
   ]
  },
  {
   "cell_type": "code",
   "execution_count": null,
   "metadata": {},
   "outputs": [],
   "source": [
    "model_path = './models/lstm/'\n",
    "# Check se il modello è già salvato\n",
    "model = k.models.load_model(model_path)\n",
    "if model == None:\n",
    "    model = k.models.Sequential(\n",
    "        [\n",
    "            k.layers.LSTM(64, return_sequences=True),\n",
    "            k.layers.Dropout(0.4),\n",
    "            k.layers.Dense(1000, activation=\"relu\"),\n",
    "            k.layers.Dropout(0.3),\n",
    "            k.layers.Dense(250, activation=\"relu\"),\n",
    "            k.layers.Dropout(0.2),\n",
    "            k.layers.Dense(3, activation=\"softmax\")\n",
    "        ]\n",
    "    )\n",
    "\n",
    "    model.compile(\n",
    "        loss='categorical_crossentropy',\n",
    "        optimizer=tf.keras.optimizers.Adam(0.0001),\n",
    "        metrics=[\"accuracy\"]\n",
    "    )\n",
    "\n",
    "    callback = tf.keras.callbacks.EarlyStopping(monitor='loss', patience=5)\n",
    "\n",
    "    model.fit(x_train_lstm, y_train_lstm, epochs=10, callbacks=[callback])\n",
    "    model.save('./models/lstm')"
   ]
  },
  {
   "cell_type": "code",
   "execution_count": null,
   "metadata": {},
   "outputs": [],
   "source": [
    "model.evaluate(x_test_lstm, y_test_lstm)\n",
    "report(model, x_train_lstm, y_train_lstm, x_test_lstm, y_test_lstm, enc)"
   ]
  },
  {
   "cell_type": "markdown",
   "metadata": {},
   "source": [
    "## 2 LSTM concatenate + dense e dropout in sequenza"
   ]
  },
  {
   "cell_type": "code",
   "execution_count": null,
   "metadata": {},
   "outputs": [],
   "source": [
    "inputs = k.layers.Input(shape=(10,94))\n",
    "lstm1 = k.layers.LSTM(100, return_sequences=True, activation=\"relu\")(inputs)\n",
    "lstm2 = k.layers.LSTM(50, return_sequences=True, activation=\"relu\")(inputs)\n",
    "concateneted = k.layers.Concatenate()([\n",
    "    lstm1,\n",
    "    lstm2\n",
    "])\n",
    "\n",
    "out = k.layers.Dropout(0.5)(concateneted)\n",
    "out = k.layers.Dense(1000, activation=\"relu\")(out)\n",
    "out = k.layers.Dropout(0.5)(out)\n",
    "out = k.layers.Dense(250, activation=\"relu\")(out)\n",
    "out = k.layers.Dropout(0.5)(out)\n",
    "out = k.layers.Dense(3, activation=\"softmax\")(out)\n",
    "\n",
    "model = k.models.Model(inputs=inputs, outputs=out)"
   ]
  },
  {
   "cell_type": "code",
   "execution_count": null,
   "metadata": {},
   "outputs": [],
   "source": [
    "model.summary()"
   ]
  },
  {
   "cell_type": "code",
   "execution_count": null,
   "metadata": {},
   "outputs": [],
   "source": [
    "model.compile(\n",
    "    loss='categorical_crossentropy',\n",
    "    optimizer=tf.keras.optimizers.Adam(0.0001),\n",
    "    metrics=[\"accuracy\"]\n",
    ")\n",
    "\n",
    "callback = tf.keras.callbacks.EarlyStopping(monitor='loss', patience=5)\n",
    "\n",
    "model.fit(x_train_lstm, y_train_lstm, epochs=500, callbacks=[callback])"
   ]
  },
  {
   "cell_type": "code",
   "execution_count": null,
   "metadata": {},
   "outputs": [],
   "source": [
    "model.evaluate(x_test_lstm, y_test_lstm)\n",
    "report(model, x_train_lstm, y_train_lstm, x_test_lstm, y_test_lstm, enc)"
   ]
  },
  {
   "cell_type": "markdown",
   "metadata": {},
   "source": [
    "### Fit\n",
    "loss: 0.9373 - accuracy: 0.5609\n",
    "### Evaluate\n",
    "loss: 0.9192 - accuracy: 0.5930\n",
    "### Classification report\n",
    "\n",
    "| | precision | recall | f1-score | support |\n",
    "| - | ----------- | ------ | -------- | ------- |\n",
    "| A | 0.609 | 0.614 | 0.612 | 345 |\n",
    "| D | 0.321 | 0.201 | 0.247 | 254 |\n",
    "| H | 0.652 | 0.763 | 0.704 | 541 |\n",
    "| accuracy | |  | 0.593 | 1140 |\n",
    "| macro avg | 0.527 | 0.526 | 0.521 | 1140 |\n",
    "| weighted avg | 0.565 | 0.593 | 0.574 | 1140 |"
   ]
  },
  {
   "cell_type": "markdown",
   "metadata": {},
   "source": [
    "## LSTM in parallelo"
   ]
  },
  {
   "cell_type": "code",
   "execution_count": null,
   "metadata": {},
   "outputs": [],
   "source": [
    "inputs = k.layers.Input(shape=(10,94))\n",
    "x = []\n",
    "for t in range(Tx):\n",
    "    module = k.layers.LSTM((t+1)*10, return_sequences=True)(inputs)\n",
    "    module = k.layers.Dropout(0.7)(module)\n",
    "    x.append(module)\n",
    "x = k.layers.Concatenate()(x)\n",
    "\n",
    "out = k.layers.Dense(1000, activation=\"relu\")(x)\n",
    "out = k.layers.Dropout(0.7)(out)\n",
    "out = k.layers.Dense(250, activation=\"relu\")(out)\n",
    "out = k.layers.Dense(3, activation=\"softmax\")(out)\n",
    "\n",
    "txLstm = k.models.Model(inputs=inputs, outputs=out)"
   ]
  },
  {
   "cell_type": "code",
   "execution_count": null,
   "metadata": {},
   "outputs": [],
   "source": [
    "txLstm.summary()"
   ]
  },
  {
   "cell_type": "code",
   "execution_count": null,
   "metadata": {},
   "outputs": [],
   "source": [
    "txLstm.compile(\n",
    "    loss='categorical_crossentropy',\n",
    "    optimizer=tf.keras.optimizers.Adam(0.0001),\n",
    "    metrics=[\"accuracy\"]\n",
    ")\n",
    "\n",
    "callback = tf.keras.callbacks.EarlyStopping(monitor='accuracy', patience=3)\n",
    "\n",
    "txLstm.fit(x_train_lstm, y_train_lstm, epochs=500, callbacks=[callback], batch_size=16)"
   ]
  },
  {
   "cell_type": "code",
   "execution_count": null,
   "metadata": {},
   "outputs": [],
   "source": [
    "txLstm.evaluate(y_test_lstm, y_test_lstm)\n",
    "report(txLstm, x_train_lstm, y_train_lstm, x_test_lstm, y_test_lstm, enc)"
   ]
  },
  {
   "cell_type": "markdown",
   "metadata": {},
   "source": [
    "# GRU"
   ]
  },
  {
   "cell_type": "code",
   "execution_count": null,
   "metadata": {},
   "outputs": [],
   "source": [
    "gru = k.models.Sequential([\n",
    "    k.layers.GRU(100, return_sequences=True, activation=\"relu\"),\n",
    "    k.layers.Dropout(0.4),\n",
    "    k.layers.Dense(1000, activation=\"relu\"),\n",
    "    k.layers.Dropout(0.3),\n",
    "    k.layers.Dense(250, activation=\"relu\"),\n",
    "    k.layers.Dropout(0.2),\n",
    "    k.layers.Dense(3, activation=\"softmax\")\n",
    "])"
   ]
  },
  {
   "cell_type": "code",
   "execution_count": null,
   "metadata": {},
   "outputs": [],
   "source": [
    "gru(x_train_lstm)\n",
    "gru.summary()"
   ]
  },
  {
   "cell_type": "code",
   "execution_count": null,
   "metadata": {},
   "outputs": [],
   "source": [
    "gru.compile(\n",
    "    loss='categorical_crossentropy',\n",
    "    optimizer=tf.keras.optimizers.Adam(0.0001),\n",
    "    metrics=[\"accuracy\"]\n",
    ")\n",
    "\n",
    "callback = tf.keras.callbacks.EarlyStopping(monitor='loss', patience=5)\n",
    "\n",
    "gru.fit(x_train_lstm, y_train_lstm, epochs=500, callbacks=[callback])"
   ]
  },
  {
   "cell_type": "code",
   "execution_count": null,
   "metadata": {},
   "outputs": [],
   "source": [
    "gru.evaluate(x_test_lstm, y_test_lstm)\n",
    "report(gru, x_train_lstm, y_train_lstm, x_test_lstm, y_test_lstm, enc)"
   ]
  },
  {
   "cell_type": "markdown",
   "metadata": {},
   "source": [
    "# Time distributed"
   ]
  },
  {
   "cell_type": "code",
   "execution_count": 165,
   "metadata": {},
   "outputs": [],
   "source": [
    "model = k.models.Sequential(\n",
    "    [\n",
    "        k.layers.GRU(128, dropout=0.5, return_sequences=True),\n",
    "        k.layers.Flatten(),\n",
    "        k.layers.Dense(40, activation=\"relu\"),\n",
    "        k.layers.Dropout(0.4),\n",
    "        k.layers.Dense(20, activation=\"relu\"),\n",
    "        k.layers.Dropout(0.2),\n",
    "        k.layers.Dense(10, activation=\"relu\"),\n",
    "        k.layers.Dense(3, activation=\"softmax\")\n",
    "    ]\n",
    ")"
   ]
  },
  {
   "cell_type": "code",
   "execution_count": 166,
   "metadata": {},
   "outputs": [
    {
     "name": "stdout",
     "output_type": "stream",
     "text": [
      "Model: \"sequential_24\"\n",
      "_________________________________________________________________\n",
      " Layer (type)                Output Shape              Param #   \n",
      "=================================================================\n",
      " gru_6 (GRU)                 (296, 10, 128)            86016     \n",
      "                                                                 \n",
      " flatten_5 (Flatten)         (296, 1280)               0         \n",
      "                                                                 \n",
      " dense_55 (Dense)            (296, 40)                 51240     \n",
      "                                                                 \n",
      " dropout_24 (Dropout)        (296, 40)                 0         \n",
      "                                                                 \n",
      " dense_56 (Dense)            (296, 20)                 820       \n",
      "                                                                 \n",
      " dropout_25 (Dropout)        (296, 20)                 0         \n",
      "                                                                 \n",
      " dense_57 (Dense)            (296, 10)                 210       \n",
      "                                                                 \n",
      " dense_58 (Dense)            (296, 3)                  33        \n",
      "                                                                 \n",
      "=================================================================\n",
      "Total params: 138,319\n",
      "Trainable params: 138,319\n",
      "Non-trainable params: 0\n",
      "_________________________________________________________________\n"
     ]
    }
   ],
   "source": [
    "model.compile(\n",
    "    loss='categorical_crossentropy',\n",
    "    optimizer=tf.keras.optimizers.Adam(0.0001),\n",
    "    metrics=[\"accuracy\"]\n",
    ")\n",
    "model(x_train_lstm)\n",
    "model.summary()"
   ]
  },
  {
   "cell_type": "code",
   "execution_count": 167,
   "metadata": {},
   "outputs": [
    {
     "name": "stdout",
     "output_type": "stream",
     "text": [
      "Epoch 1/1000\n"
     ]
    },
    {
     "name": "stderr",
     "output_type": "stream",
     "text": [
      "2022-11-23 19:28:06.185058: I tensorflow/core/grappler/optimizers/custom_graph_optimizer_registry.cc:114] Plugin optimizer for device_type GPU is enabled.\n",
      "2022-11-23 19:28:06.362577: I tensorflow/core/grappler/optimizers/custom_graph_optimizer_registry.cc:114] Plugin optimizer for device_type GPU is enabled.\n"
     ]
    },
    {
     "name": "stdout",
     "output_type": "stream",
     "text": [
      " 1/10 [==>...........................] - ETA: 14s - loss: 1.1049 - accuracy: 0.2812"
     ]
    },
    {
     "name": "stderr",
     "output_type": "stream",
     "text": [
      "2022-11-23 19:28:06.757084: I tensorflow/core/grappler/optimizers/custom_graph_optimizer_registry.cc:114] Plugin optimizer for device_type GPU is enabled.\n"
     ]
    },
    {
     "name": "stdout",
     "output_type": "stream",
     "text": [
      "10/10 [==============================] - 2s 71ms/step - loss: 1.1486 - accuracy: 0.3682\n",
      "Epoch 2/1000\n",
      "10/10 [==============================] - 0s 50ms/step - loss: 1.1078 - accuracy: 0.4122\n",
      "Epoch 3/1000\n",
      "10/10 [==============================] - 0s 28ms/step - loss: 1.0633 - accuracy: 0.4122\n",
      "Epoch 4/1000\n",
      "10/10 [==============================] - 0s 24ms/step - loss: 1.0509 - accuracy: 0.4696\n",
      "Epoch 5/1000\n",
      "10/10 [==============================] - 0s 21ms/step - loss: 1.0521 - accuracy: 0.4730\n",
      "Epoch 6/1000\n",
      "10/10 [==============================] - 0s 25ms/step - loss: 1.0301 - accuracy: 0.5101\n",
      "Epoch 7/1000\n",
      "10/10 [==============================] - 0s 22ms/step - loss: 1.0253 - accuracy: 0.5068\n",
      "Epoch 8/1000\n",
      "10/10 [==============================] - 0s 22ms/step - loss: 1.0187 - accuracy: 0.5169\n",
      "Epoch 9/1000\n",
      "10/10 [==============================] - 0s 20ms/step - loss: 0.9483 - accuracy: 0.5439\n",
      "Epoch 10/1000\n",
      "10/10 [==============================] - 0s 22ms/step - loss: 0.9944 - accuracy: 0.5777\n",
      "Epoch 11/1000\n",
      "10/10 [==============================] - 0s 23ms/step - loss: 0.9959 - accuracy: 0.5405\n",
      "Epoch 12/1000\n",
      "10/10 [==============================] - 0s 21ms/step - loss: 0.9999 - accuracy: 0.5338\n",
      "Epoch 13/1000\n",
      "10/10 [==============================] - 0s 21ms/step - loss: 0.9603 - accuracy: 0.5405\n",
      "Epoch 14/1000\n",
      "10/10 [==============================] - 0s 25ms/step - loss: 0.9500 - accuracy: 0.5878\n",
      "Epoch 15/1000\n",
      "10/10 [==============================] - 0s 21ms/step - loss: 0.9761 - accuracy: 0.5439\n",
      "Epoch 16/1000\n",
      "10/10 [==============================] - 0s 21ms/step - loss: 0.9588 - accuracy: 0.5709\n",
      "Epoch 17/1000\n",
      "10/10 [==============================] - 0s 20ms/step - loss: 0.9831 - accuracy: 0.5541\n",
      "Epoch 18/1000\n",
      "10/10 [==============================] - 0s 20ms/step - loss: 0.9702 - accuracy: 0.5574\n",
      "Epoch 19/1000\n",
      "10/10 [==============================] - 0s 21ms/step - loss: 0.9979 - accuracy: 0.5372\n"
     ]
    },
    {
     "data": {
      "text/plain": [
       "<keras.callbacks.History at 0x411e29160>"
      ]
     },
     "execution_count": 167,
     "metadata": {},
     "output_type": "execute_result"
    }
   ],
   "source": [
    "callback = tf.keras.callbacks.EarlyStopping(monitor='loss', patience=10)\n",
    "\n",
    "model.fit(x_train_lstm, y_train_lstm, epochs=1000, callbacks=[callback])"
   ]
  },
  {
   "cell_type": "code",
   "execution_count": 168,
   "metadata": {},
   "outputs": [
    {
     "name": "stdout",
     "output_type": "stream",
     "text": [
      "1/4 [======>.......................] - ETA: 1s - loss: 1.0185 - accuracy: 0.6562"
     ]
    },
    {
     "name": "stderr",
     "output_type": "stream",
     "text": [
      "2022-11-23 19:28:12.045044: I tensorflow/core/grappler/optimizers/custom_graph_optimizer_registry.cc:114] Plugin optimizer for device_type GPU is enabled.\n",
      "2022-11-23 19:28:12.099787: I tensorflow/core/grappler/optimizers/custom_graph_optimizer_registry.cc:114] Plugin optimizer for device_type GPU is enabled.\n"
     ]
    },
    {
     "name": "stdout",
     "output_type": "stream",
     "text": [
      "4/4 [==============================] - 0s 48ms/step - loss: 1.0811 - accuracy: 0.5405\n",
      " 1/10 [==>...........................] - ETA: 2s"
     ]
    },
    {
     "name": "stderr",
     "output_type": "stream",
     "text": [
      "2022-11-23 19:28:12.513809: I tensorflow/core/grappler/optimizers/custom_graph_optimizer_registry.cc:114] Plugin optimizer for device_type GPU is enabled.\n",
      "2022-11-23 19:28:12.556108: I tensorflow/core/grappler/optimizers/custom_graph_optimizer_registry.cc:114] Plugin optimizer for device_type GPU is enabled.\n"
     ]
    },
    {
     "name": "stdout",
     "output_type": "stream",
     "text": [
      "10/10 [==============================] - 0s 13ms/step\n",
      "4/4 [==============================] - 0s 28ms/step\n",
      "TEST REPORT\n",
      "              precision    recall  f1-score   support\n",
      "\n",
      "           A      0.541     0.983     0.698        60\n",
      "           D      0.000     0.000     0.000        21\n",
      "           H      1.000     0.033     0.065        30\n",
      "\n",
      "    accuracy                          0.541       111\n",
      "   macro avg      0.514     0.339     0.254       111\n",
      "weighted avg      0.563     0.541     0.395       111\n",
      "\n",
      "--------------------------------------------------\n",
      "TRAINING REPORT\n",
      "              precision    recall  f1-score   support\n",
      "\n",
      "           A      0.453     0.565     0.503        69\n",
      "           D      0.500     0.016     0.030        64\n",
      "           H      0.654     0.834     0.733       163\n",
      "\n",
      "    accuracy                          0.595       296\n",
      "   macro avg      0.536     0.472     0.422       296\n",
      "weighted avg      0.574     0.595     0.528       296\n",
      "\n",
      "--------------------------------------------------\n"
     ]
    }
   ],
   "source": [
    "model.evaluate(x_test_lstm, y_test_lstm)\n",
    "report(model, x_train_lstm, y_train_lstm, x_test_lstm, y_test_lstm, enc)"
   ]
  },
  {
   "cell_type": "code",
   "execution_count": null,
   "metadata": {},
   "outputs": [],
   "source": []
  },
  {
   "cell_type": "code",
   "execution_count": null,
   "metadata": {},
   "outputs": [],
   "source": []
  }
 ],
 "metadata": {
  "kernelspec": {
   "display_name": "Python 3.8.13 ('dl')",
   "language": "python",
   "name": "python3"
  },
  "language_info": {
   "codemirror_mode": {
    "name": "ipython",
    "version": 3
   },
   "file_extension": ".py",
   "mimetype": "text/x-python",
   "name": "python",
   "nbconvert_exporter": "python",
   "pygments_lexer": "ipython3",
   "version": "3.8.13"
  },
  "orig_nbformat": 4,
  "vscode": {
   "interpreter": {
    "hash": "b2b3490ab97e9e12756aa89c01d5382ca6cf08cdaa9c454d9749392520b38d26"
   }
  }
 },
 "nbformat": 4,
 "nbformat_minor": 2
}
