{
 "cells": [
  {
   "cell_type": "code",
   "execution_count": null,
   "metadata": {},
   "outputs": [],
   "source": [
    "from sklearn.model_selection import train_test_split\n",
    "from sklearn.metrics import classification_report\n",
    "from sklearn.model_selection import GridSearchCV\n",
    "\n",
    "from sklearn.preprocessing import OneHotEncoder\n",
    "from sklearn.impute import SimpleImputer\n",
    "\n",
    "from sklearn.svm import SVC, LinearSVC\n",
    "from sklearn.linear_model import SGDClassifier, RidgeClassifier\n",
    "from sklearn.ensemble import RandomForestClassifier, AdaBoostClassifier\n",
    "\n",
    "from tensorflow import keras as k\n",
    "\n",
    "import tensorflow as tf\n",
    "import pandas as pd\n",
    "import numpy as np\n",
    "\n",
    "# %pip install d2l==1.0.0a1.post0\n",
    "from d2l import tensorflow as d2l\n"
   ]
  },
  {
   "cell_type": "code",
   "execution_count": null,
   "metadata": {},
   "outputs": [],
   "source": [
    "data = pd.read_csv('./input/dataset.csv')\n",
    "# dataImputed = pd.read_csv('./input/datasetImputed.csv')"
   ]
  },
  {
   "cell_type": "code",
   "execution_count": null,
   "metadata": {},
   "outputs": [],
   "source": [
    "# è stata riscritta una funzione di reshape inutile \n",
    "# e.g. (a_prev=x_train, season=trn_ssn)\n",
    "def reshape_to_inputshape(a_prev,season):\n",
    "    totalMatches = len(season)*38\n",
    "    input_step = int(a_prev.shape[0]/totalMatches)\n",
    "    prev_f = a_prev.shape[1]\n",
    "    return np.reshape(a_prev, (totalMatches, input_step, prev_f))"
   ]
  },
  {
   "cell_type": "code",
   "execution_count": null,
   "metadata": {},
   "outputs": [],
   "source": [
    "features = ['HomeTeam', 'AwayTeam', \n",
    "            'HTeamEloScore', 'ATeamEloScore', \n",
    "            'HTdaysSinceLastMatch', 'ATdaysSinceLastMatch', \n",
    "            'HTW_rate', 'ATW_rate', 'ATD_rate', 'HTD_rate', \n",
    "            '7_HTW_rate', '12_HTW_rate', '7_ATW_rate', '12_ATW_rate', \n",
    "            '7_HTD_rate', '12_HTD_rate', '7_ATD_rate', '12_ATD_rate',\n",
    "            '7_HTL_rate', '12_HTL_rate', '7_ATL_rate', '12_ATL_rate',\n",
    "            '5_HTHW_rate', '5_ATAW_rate']\n",
    "\n",
    "X = pd.get_dummies(data[features])\n",
    "\n",
    "# Se non cambiamo nulla il OneHotEncoder assegna:\n",
    "# A -> 1 0 0\n",
    "# D -> 0 1 0\n",
    "# H -> 0 0 1\n",
    "y = data[['FTR']].to_numpy().ravel().reshape(-1, 1)\n",
    "y = OneHotEncoder(sparse=False).fit_transform(y)\n",
    "X_imputed = SimpleImputer().fit_transform(X)\n",
    "\n"
   ]
  },
  {
   "cell_type": "code",
   "execution_count": null,
   "metadata": {},
   "outputs": [],
   "source": [
    "trn_ssn = [2008, 2009, 2010, 2011, 2012, 2013, 2014, 2015]\n",
    "trn_ssn_len = len(trn_ssn)\n",
    "tst_ssn = [2016,2017,2018] \n",
    "tst_ssn_len = len(tst_ssn)\n",
    "\n",
    "test_size = float(tst_ssn_len)/(tst_ssn_len+trn_ssn_len)\n",
    "\n",
    "#Split X and Y into training and Test Sets\n",
    "x_train, x_test, y_train, y_test = train_test_split(X_imputed, y, shuffle=False, test_size=test_size)"
   ]
  },
  {
   "cell_type": "code",
   "execution_count": null,
   "metadata": {},
   "outputs": [],
   "source": [
    "def time_step(a_prev,season):\n",
    "    a_prev = a_prev[np.newaxis, ...]\n",
    "    totalMatches = len(season)*38\n",
    "\n",
    "    prev_f = a_prev.shape[2]\n",
    "    input_step = int(a_prev.shape[1]/totalMatches)\n",
    "    step = 0\n",
    "    a_new = np.zeros((totalMatches, input_step, prev_f))\n",
    "    for i in range(totalMatches):\n",
    "        # rows divise in porzioni di totalMatches rows\n",
    "        step += input_step\n",
    "        \n",
    "        # per tutte le righe nell'intervallo di righe che stiamo guardando ora \n",
    "        # va in ogni porzione di righe di volta in volta\n",
    "        for j in range(step-input_step,step):\n",
    "\n",
    "            # per ogni colonna\n",
    "            for k in range(prev_f):\n",
    "                a_new[i, j - input_step * i, k] = a_prev[:, j, k]\n",
    "    \n",
    "    return a_new"
   ]
  },
  {
   "cell_type": "code",
   "execution_count": null,
   "metadata": {},
   "outputs": [],
   "source": [
    "#Setup XY to have 10 game steps\n",
    "lstm_x_train = reshape_to_inputshape(x_train,trn_ssn)\n",
    "lstm_y_train = reshape_to_inputshape(y_train,trn_ssn)\n",
    "# y_train = np.moveaxis(y_train, 0, 1)\n",
    "\n",
    "lstm_x_test = reshape_to_inputshape(x_test,tst_ssn)\n",
    "lstm_y_test = reshape_to_inputshape(y_test,tst_ssn)\n",
    "# y_test = np.moveaxis(y_test, 0, 1)\n",
    "\n",
    "Tx = lstm_x_train.shape[1] #Time steps\n",
    "Ty = lstm_y_train.shape[0] #Time Steps\n",
    "\n",
    "num_features = lstm_x_train.shape[2] #Features per step\n",
    "inputs = tf.keras.Input(shape=(Tx, num_features))"
   ]
  },
  {
   "cell_type": "code",
   "execution_count": null,
   "metadata": {},
   "outputs": [],
   "source": [
    "print(lstm_x_train.shape)\n",
    "print(lstm_y_train.shape)"
   ]
  },
  {
   "cell_type": "markdown",
   "metadata": {},
   "source": [
    "# Prova di tensorflow"
   ]
  },
  {
   "cell_type": "code",
   "execution_count": null,
   "metadata": {},
   "outputs": [],
   "source": [
    "inputs = tf.random.normal((32, 10, 8))\n",
    "lstm = tf.keras.layers.LSTM(18)\n",
    "output = lstm(inputs)\n",
    "print(output.shape)"
   ]
  },
  {
   "cell_type": "code",
   "execution_count": null,
   "metadata": {},
   "outputs": [],
   "source": [
    "inputs = np.array([[[0, 1], [0, 1]], [[1, 2], [1, 2]], [[2, 3], [2, 3]]], dtype=np.float64)\n",
    "lstm = k.models.Sequential([\n",
    "    tf.keras.layers.LSTM(2)\n",
    "])\n",
    "out = lstm(inputs)\n",
    "print(out)\n"
   ]
  },
  {
   "cell_type": "code",
   "execution_count": null,
   "metadata": {},
   "outputs": [],
   "source": [
    "MLP = tf.keras.models.Sequential([\n",
    "    k.layers.Dense(4000),\n",
    "    k.layers.Dropout(.7),\n",
    "    k.layers.Dense(100),\n",
    "    k.layers.Dense(3, activation='softmax')\n",
    "])"
   ]
  },
  {
   "cell_type": "code",
   "execution_count": null,
   "metadata": {},
   "outputs": [],
   "source": [
    "MLP.compile(\n",
    "    loss='categorical_crossentropy',\n",
    "    optimizer=tf.keras.optimizers.Adam(0.001),\n",
    "    metrics=[tf.keras.metrics.Accuracy()]\n",
    ")\n",
    "MLP(x_train)\n",
    "MLP.summary()"
   ]
  },
  {
   "cell_type": "code",
   "execution_count": null,
   "metadata": {},
   "outputs": [],
   "source": [
    "MLP.fit(lstm_x_train, lstm_y_train)"
   ]
  },
  {
   "cell_type": "markdown",
   "metadata": {},
   "source": [
    "# RandomForestClassifieri"
   ]
  },
  {
   "cell_type": "code",
   "execution_count": null,
   "metadata": {},
   "outputs": [],
   "source": [
    "forest = RandomForestClassifier(n_estimators=2, random_state=2)\n",
    "forest = forest.fit(x_train, y_train)\n",
    "\n",
    "\n",
    "#Forest Model Metrics\n",
    "print(\"Forest Classifier\")\n",
    "print(\"Train Score: \", forest.score(x_train, y_train))\n",
    "print(\"Test Score: \", forest.score(x_test, y_test))"
   ]
  },
  {
   "cell_type": "code",
   "execution_count": null,
   "metadata": {},
   "outputs": [],
   "source": [
    "n = 10\n",
    "m = 5\n",
    "max_depth = 10\n",
    "forests = []\n",
    "grid = [{\"n_estimators\": list(range(1, n)), \"random_state\": list(range(0, m)), \"max_depth\": list(range(1, max_depth))}]\n",
    "gridSearch = GridSearchCV(RandomForestClassifier(), param_grid=grid, n_jobs=10, return_train_score=True)\n",
    "gridSearch.fit(x_train, y_train)\n",
    "# for i in range(1, n+1):\n",
    "#     for j in range(m):\n",
    "#         forest = RandomForestClassifier(n_estimators=i, random_state=j)\n",
    "#         forest = forest.fit(x_train, y_train)\n",
    "#         forests.append(forest)\n",
    "#         print(\"Forest Classifier, n_estimators: \", i, \"random_state: \", j)\n",
    "#         print(\"Train Score: \", forest.score(x_train, y_train))\n",
    "#         print(\"Test Score: \", forest.score(x_test, y_test))\n",
    "\n",
    "# #Forest Model Metrics\n",
    "# print(\"Forest Classifier\")\n",
    "# print(\"Train Score: \", forest.score(x_train, y_train))\n",
    "# print(\"Test Score: \", forest.score(x_test, y_test))\n",
    "print(\"Forest Classifiers Best Score: \", gridSearch.best_score_)\n",
    "print(\"Forest Classifiers Best Params: \", gridSearch.best_params_)\n",
    "print(\"Forest Classifiers Best Params: \", gridSearch.best_estimator_)"
   ]
  },
  {
   "cell_type": "markdown",
   "metadata": {},
   "source": [
    "# LSTM"
   ]
  },
  {
   "cell_type": "code",
   "execution_count": null,
   "metadata": {},
   "outputs": [],
   "source": [
    "x_prova = reshape_to_inputshape(x_train, trn_ssn)\n",
    "y_prova = reshape_to_inputshape(y_train, trn_ssn)\n",
    "x_prova_test = reshape_to_inputshape(x_test, tst_ssn)\n",
    "y_prova_test = reshape_to_inputshape(y_test, tst_ssn)"
   ]
  },
  {
   "cell_type": "code",
   "execution_count": null,
   "metadata": {},
   "outputs": [],
   "source": [
    "model = k.models.Sequential(\n",
    "    [\n",
    "        k.layers.GRU(64, return_sequences=True),\n",
    "        k.layers.Dropout(0.4),\n",
    "        k.layers.Dense(1000, activation=\"relu\"),\n",
    "        k.layers.Dropout(0.3),\n",
    "        k.layers.Dense(250, activation=\"relu\"),\n",
    "        k.layers.Dropout(0.2),\n",
    "        k.layers.Dense(3, activation=\"softmax\")\n",
    "    ]\n",
    ")\n",
    "\n",
    "model.compile(\n",
    "    loss='categorical_crossentropy',\n",
    "    optimizer=tf.keras.optimizers.Adam(0.0001),\n",
    "    metrics=[\"accuracy\"]\n",
    ")\n",
    "\n",
    "callback = tf.keras.callbacks.EarlyStopping(monitor='loss', patience=5)\n",
    "\n",
    "model.fit(x_prova, y_prova, epochs=500, callbacks=[callback])"
   ]
  },
  {
   "cell_type": "code",
   "execution_count": null,
   "metadata": {},
   "outputs": [],
   "source": [
    "model.evaluate(x_prova_test, y_prova_test)"
   ]
  },
  {
   "cell_type": "code",
   "execution_count": null,
   "metadata": {},
   "outputs": [],
   "source": [
    "print(x_prova_test.shape)\n",
    "result = model.predict(x_prova_test)\n",
    "print(result)"
   ]
  },
  {
   "cell_type": "code",
   "execution_count": null,
   "metadata": {},
   "outputs": [],
   "source": [
    "def revert_yoh(Y):\n",
    "    Y_new = np.empty([Y.shape[0],Y.shape[1]], dtype=\"<U1\")\n",
    "    #Y_new = np.zeros((Y.shape[0],Y.shape[1]))\n",
    "    for i in range(Y.shape[0]):\n",
    "        for j in range(Y.shape[1]):\n",
    "            if (Y[i, j] == 0):\n",
    "                Y_new[i, j]= 'A'\n",
    "            elif (Y[i, j] == 1):\n",
    "                Y_new[i, j]= 'D'\n",
    "            elif (Y[i, j] == 2):\n",
    "                Y_new[i, j]='H'\n",
    "    return Y_new\n",
    "\n",
    "y_pred = model.predict(x_prova_test)\n",
    "y_predm = np.asarray(y_pred)\n",
    "y_predm = np.argmax(y_predm, axis=2)\n",
    "y_testm = np.argmax(y_prova_test, axis=2)\n",
    "\n",
    "y_pred_train = model.predict(x_prova)\n",
    "y_pred_train = np.asarray(y_pred_train)\n",
    "y_predm_train = np.argmax(y_pred_train, axis=2)\n",
    "y_trainm = np.argmax(y_prova, axis = 2)\n",
    "\n",
    "y_predm = revert_yoh(y_predm).ravel()\n",
    "y_testm = revert_yoh(y_testm).ravel()\n",
    "\n",
    "y_predm_train = revert_yoh(y_predm_train).ravel()\n",
    "y_trainm = revert_yoh(y_trainm).ravel()\n",
    "\n",
    "#Model Metrics\n",
    "print(classification_report(y_testm, y_predm, digits=3))"
   ]
  },
  {
   "cell_type": "markdown",
   "metadata": {},
   "source": [
    "# Neural Network"
   ]
  },
  {
   "cell_type": "code",
   "execution_count": null,
   "metadata": {},
   "outputs": [],
   "source": [
    "y_nn = ((data[['ordinalHR']]).to_numpy()*2)\n",
    "#Split X and Y into training and Test Sets\n",
    "y_nn = OneHotEncoder(sparse=True).fit_transform(y_nn)\n",
    "x_train, x_test, y_train, y_test = train_test_split(X_imputed, y_nn, shuffle=True)"
   ]
  },
  {
   "cell_type": "code",
   "execution_count": null,
   "metadata": {},
   "outputs": [],
   "source": [
    "nn = k.models.Sequential([\n",
    "    k.layers.Input(shape=[x_train.shape[1]]),\n",
    "    k.layers.Flatten(),\n",
    "    k.layers.Dense(41, activation='relu'),\n",
    "    k.layers.Dense(75, activation='relu'),\n",
    "    k.layers.Dropout(0.3),\n",
    "    k.layers.Dense(3, activation='softmax'),\n",
    "])"
   ]
  },
  {
   "cell_type": "code",
   "execution_count": null,
   "metadata": {},
   "outputs": [],
   "source": [
    "learning_rate=0.01\n",
    "\n",
    "nn.compile(\n",
    "    loss='categorical_crossentropy',\n",
    "    optimizer=k.optimizers.Adam(learning_rate),\n",
    "    metrics=['categorical_accuracy']\n",
    ")\n",
    "nn.summary()"
   ]
  },
  {
   "cell_type": "code",
   "execution_count": null,
   "metadata": {},
   "outputs": [],
   "source": [
    "epochs=1000\n",
    "batch_size=50\n",
    "nn.fit(x_train, y_train, epochs=epochs, batch_size=batch_size)"
   ]
  },
  {
   "cell_type": "code",
   "execution_count": null,
   "metadata": {},
   "outputs": [],
   "source": [
    "print(nn.evaluate(x_test, y_test))"
   ]
  },
  {
   "cell_type": "markdown",
   "metadata": {},
   "source": [
    "# 2 LSTM concatenate + dense e dropout in sequenza"
   ]
  },
  {
   "cell_type": "code",
   "execution_count": null,
   "metadata": {},
   "outputs": [],
   "source": [
    "inputs = k.layers.Input(shape=(10,94))\n",
    "lstm1 = k.layers.LSTM(100, return_sequences=True)(inputs)\n",
    "lstm2 = k.layers.LSTM(50, return_sequences=True)(inputs)\n",
    "concateneted = k.layers.Concatenate()([\n",
    "    lstm1,\n",
    "    lstm2\n",
    "])\n",
    "\n",
    "out = k.layers.Dropout(0.5)(concateneted)\n",
    "out = k.layers.Dense(1000, activation=\"relu\")(out)\n",
    "out = k.layers.Dropout(0.5)(out)\n",
    "out = k.layers.Dense(250, activation=\"relu\")(out)\n",
    "out = k.layers.Dropout(0.5)(out)\n",
    "out = k.layers.Dense(3, activation=\"softmax\")(out)\n",
    "\n",
    "model = k.models.Model(inputs=inputs, outputs=out)"
   ]
  },
  {
   "cell_type": "code",
   "execution_count": null,
   "metadata": {},
   "outputs": [],
   "source": [
    "model.summary()"
   ]
  },
  {
   "cell_type": "code",
   "execution_count": null,
   "metadata": {},
   "outputs": [],
   "source": [
    "model.compile(\n",
    "    loss='categorical_crossentropy',\n",
    "    optimizer=tf.keras.optimizers.Adam(0.0001),\n",
    "    metrics=[\"accuracy\"]\n",
    ")\n",
    "\n",
    "callback = tf.keras.callbacks.EarlyStopping(monitor='loss', patience=5)\n",
    "\n",
    "model.fit(x_prova, y_prova, epochs=500, callbacks=[callback])"
   ]
  },
  {
   "cell_type": "code",
   "execution_count": null,
   "metadata": {},
   "outputs": [],
   "source": [
    "model.evaluate(x_prova_test, y_prova_test)"
   ]
  },
  {
   "cell_type": "code",
   "execution_count": null,
   "metadata": {},
   "outputs": [],
   "source": [
    "def revert_yoh(Y):\n",
    "    Y_new = np.empty([Y.shape[0],Y.shape[1]], dtype=\"<U1\")\n",
    "    #Y_new = np.zeros((Y.shape[0],Y.shape[1]))\n",
    "    for i in range(Y.shape[0]):\n",
    "        for j in range(Y.shape[1]):\n",
    "            if (Y[i, j] == 0):\n",
    "                Y_new[i, j]= 'A'\n",
    "            elif (Y[i, j] == 1):\n",
    "                Y_new[i, j]= 'D'\n",
    "            elif (Y[i, j] == 2):\n",
    "                Y_new[i, j]='H'\n",
    "    return Y_new\n",
    "\n",
    "y_pred = model.predict(x_prova_test)\n",
    "y_predm = np.asarray(y_pred)\n",
    "y_predm = np.argmax(y_predm, axis=2)\n",
    "y_testm = np.argmax(y_prova_test, axis=2)\n",
    "\n",
    "y_pred_train = model.predict(x_prova)\n",
    "y_pred_train = np.asarray(y_pred_train)\n",
    "y_predm_train = np.argmax(y_pred_train, axis=2)\n",
    "y_trainm = np.argmax(y_prova, axis = 2)\n",
    "\n",
    "y_predm = revert_yoh(y_predm).ravel()\n",
    "y_testm = revert_yoh(y_testm).ravel()\n",
    "\n",
    "y_predm_train = revert_yoh(y_predm_train).ravel()\n",
    "y_trainm = revert_yoh(y_trainm).ravel()\n",
    "\n",
    "#Model Metrics\n",
    "print(classification_report(y_testm, y_predm, digits=3))"
   ]
  },
  {
   "cell_type": "markdown",
   "metadata": {},
   "source": [
    "## Fit\n",
    "loss: 0.9373 - accuracy: 0.5609\n",
    "## Evaluate\n",
    "loss: 0.9192 - accuracy: 0.5930\n",
    "## Classification report\n",
    "\n",
    "| | precision | recall | f1-score | support |\n",
    "| - | ----------- | ------ | -------- | ------- |\n",
    "| A | 0.609 | 0.614 | 0.612 | 345 |\n",
    "| D | 0.321 | 0.201 | 0.247 | 254 |\n",
    "| H | 0.652 | 0.763 | 0.704 | 541 |\n",
    "| accuracy | |  | 0.593 | 1140 |\n",
    "| macro avg | 0.527 | 0.526 | 0.521 | 1140 |\n",
    "| weighted avg | 0.565 | 0.593 | 0.574 | 1140 |"
   ]
  },
  {
   "cell_type": "markdown",
   "metadata": {},
   "source": [
    "# Altre prove"
   ]
  },
  {
   "cell_type": "code",
   "execution_count": 83,
   "metadata": {},
   "outputs": [],
   "source": [
    "inputs = k.layers.Input(shape=(10,94))\n",
    "x = []\n",
    "for t in range(Tx):\n",
    "    module = k.layers.LSTM(100, return_sequences=True)(inputs)\n",
    "    module = k.layers.Dropout(0.7)(module)\n",
    "    x.append(module)\n",
    "x = k.layers.Concatenate()(x)\n",
    "\n",
    "out = k.layers.Dense(1000, activation=\"relu\")(x)\n",
    "out = k.layers.Dropout(0.5)(out)\n",
    "out = k.layers.Dense(250, activation=\"relu\")(out)\n",
    "out = k.layers.Dropout(0.5)(out)\n",
    "out = k.layers.Dense(3, activation=\"softmax\")(out)\n",
    "\n",
    "txLstm = k.models.Model(inputs=inputs, outputs=out)"
   ]
  },
  {
   "cell_type": "code",
   "execution_count": 84,
   "metadata": {},
   "outputs": [
    {
     "name": "stdout",
     "output_type": "stream",
     "text": [
      "Model: \"model_13\"\n",
      "__________________________________________________________________________________________________\n",
      " Layer (type)                   Output Shape         Param #     Connected to                     \n",
      "==================================================================================================\n",
      " input_16 (InputLayer)          [(None, 10, 94)]     0           []                               \n",
      "                                                                                                  \n",
      " lstm_378 (LSTM)                (None, 10, 100)      78000       ['input_16[0][0]']               \n",
      "                                                                                                  \n",
      " lstm_379 (LSTM)                (None, 10, 100)      78000       ['input_16[0][0]']               \n",
      "                                                                                                  \n",
      " lstm_380 (LSTM)                (None, 10, 100)      78000       ['input_16[0][0]']               \n",
      "                                                                                                  \n",
      " lstm_381 (LSTM)                (None, 10, 100)      78000       ['input_16[0][0]']               \n",
      "                                                                                                  \n",
      " lstm_382 (LSTM)                (None, 10, 100)      78000       ['input_16[0][0]']               \n",
      "                                                                                                  \n",
      " lstm_383 (LSTM)                (None, 10, 100)      78000       ['input_16[0][0]']               \n",
      "                                                                                                  \n",
      " lstm_384 (LSTM)                (None, 10, 100)      78000       ['input_16[0][0]']               \n",
      "                                                                                                  \n",
      " lstm_385 (LSTM)                (None, 10, 100)      78000       ['input_16[0][0]']               \n",
      "                                                                                                  \n",
      " lstm_386 (LSTM)                (None, 10, 100)      78000       ['input_16[0][0]']               \n",
      "                                                                                                  \n",
      " lstm_387 (LSTM)                (None, 10, 100)      78000       ['input_16[0][0]']               \n",
      "                                                                                                  \n",
      " dropout_84 (Dropout)           (None, 10, 100)      0           ['lstm_378[0][0]']               \n",
      "                                                                                                  \n",
      " dropout_85 (Dropout)           (None, 10, 100)      0           ['lstm_379[0][0]']               \n",
      "                                                                                                  \n",
      " dropout_86 (Dropout)           (None, 10, 100)      0           ['lstm_380[0][0]']               \n",
      "                                                                                                  \n",
      " dropout_87 (Dropout)           (None, 10, 100)      0           ['lstm_381[0][0]']               \n",
      "                                                                                                  \n",
      " dropout_88 (Dropout)           (None, 10, 100)      0           ['lstm_382[0][0]']               \n",
      "                                                                                                  \n",
      " dropout_89 (Dropout)           (None, 10, 100)      0           ['lstm_383[0][0]']               \n",
      "                                                                                                  \n",
      " dropout_90 (Dropout)           (None, 10, 100)      0           ['lstm_384[0][0]']               \n",
      "                                                                                                  \n",
      " dropout_91 (Dropout)           (None, 10, 100)      0           ['lstm_385[0][0]']               \n",
      "                                                                                                  \n",
      " dropout_92 (Dropout)           (None, 10, 100)      0           ['lstm_386[0][0]']               \n",
      "                                                                                                  \n",
      " dropout_93 (Dropout)           (None, 10, 100)      0           ['lstm_387[0][0]']               \n",
      "                                                                                                  \n",
      " concatenate_10 (Concatenate)   (None, 10, 1000)     0           ['dropout_84[0][0]',             \n",
      "                                                                  'dropout_85[0][0]',             \n",
      "                                                                  'dropout_86[0][0]',             \n",
      "                                                                  'dropout_87[0][0]',             \n",
      "                                                                  'dropout_88[0][0]',             \n",
      "                                                                  'dropout_89[0][0]',             \n",
      "                                                                  'dropout_90[0][0]',             \n",
      "                                                                  'dropout_91[0][0]',             \n",
      "                                                                  'dropout_92[0][0]',             \n",
      "                                                                  'dropout_93[0][0]']             \n",
      "                                                                                                  \n",
      " dense_48 (Dense)               (None, 10, 1000)     1001000     ['concatenate_10[0][0]']         \n",
      "                                                                                                  \n",
      " dropout_94 (Dropout)           (None, 10, 1000)     0           ['dense_48[0][0]']               \n",
      "                                                                                                  \n",
      " dense_49 (Dense)               (None, 10, 250)      250250      ['dropout_94[0][0]']             \n",
      "                                                                                                  \n",
      " dropout_95 (Dropout)           (None, 10, 250)      0           ['dense_49[0][0]']               \n",
      "                                                                                                  \n",
      " dense_50 (Dense)               (None, 10, 3)        753         ['dropout_95[0][0]']             \n",
      "                                                                                                  \n",
      "==================================================================================================\n",
      "Total params: 2,032,003\n",
      "Trainable params: 2,032,003\n",
      "Non-trainable params: 0\n",
      "__________________________________________________________________________________________________\n"
     ]
    }
   ],
   "source": [
    "txLstm.summary()"
   ]
  },
  {
   "cell_type": "code",
   "execution_count": 85,
   "metadata": {},
   "outputs": [
    {
     "name": "stdout",
     "output_type": "stream",
     "text": [
      "Epoch 1/500\n"
     ]
    },
    {
     "name": "stderr",
     "output_type": "stream",
     "text": [
      "2022-11-09 19:57:32.373891: I tensorflow/core/grappler/optimizers/custom_graph_optimizer_registry.cc:114] Plugin optimizer for device_type GPU is enabled.\n",
      "2022-11-09 19:57:33.268196: I tensorflow/core/grappler/optimizers/custom_graph_optimizer_registry.cc:114] Plugin optimizer for device_type GPU is enabled.\n",
      "2022-11-09 19:57:33.282643: I tensorflow/core/grappler/optimizers/custom_graph_optimizer_registry.cc:114] Plugin optimizer for device_type GPU is enabled.\n",
      "2022-11-09 19:57:33.298566: I tensorflow/core/grappler/optimizers/custom_graph_optimizer_registry.cc:114] Plugin optimizer for device_type GPU is enabled.\n",
      "2022-11-09 19:57:33.320971: I tensorflow/core/grappler/optimizers/custom_graph_optimizer_registry.cc:114] Plugin optimizer for device_type GPU is enabled.\n",
      "2022-11-09 19:57:33.345497: I tensorflow/core/grappler/optimizers/custom_graph_optimizer_registry.cc:114] Plugin optimizer for device_type GPU is enabled.\n",
      "2022-11-09 19:57:33.663122: I tensorflow/core/grappler/optimizers/custom_graph_optimizer_registry.cc:114] Plugin optimizer for device_type GPU is enabled.\n",
      "2022-11-09 19:57:33.699386: I tensorflow/core/grappler/optimizers/custom_graph_optimizer_registry.cc:114] Plugin optimizer for device_type GPU is enabled.\n",
      "2022-11-09 19:57:33.761441: I tensorflow/core/grappler/optimizers/custom_graph_optimizer_registry.cc:114] Plugin optimizer for device_type GPU is enabled.\n",
      "2022-11-09 19:57:33.808620: I tensorflow/core/grappler/optimizers/custom_graph_optimizer_registry.cc:114] Plugin optimizer for device_type GPU is enabled.\n",
      "2022-11-09 19:57:33.847234: I tensorflow/core/grappler/optimizers/custom_graph_optimizer_registry.cc:114] Plugin optimizer for device_type GPU is enabled.\n",
      "2022-11-09 19:57:34.732802: I tensorflow/core/grappler/optimizers/custom_graph_optimizer_registry.cc:114] Plugin optimizer for device_type GPU is enabled.\n",
      "2022-11-09 19:57:34.754064: I tensorflow/core/grappler/optimizers/custom_graph_optimizer_registry.cc:114] Plugin optimizer for device_type GPU is enabled.\n",
      "2022-11-09 19:57:34.792704: I tensorflow/core/grappler/optimizers/custom_graph_optimizer_registry.cc:114] Plugin optimizer for device_type GPU is enabled.\n",
      "2022-11-09 19:57:34.816731: I tensorflow/core/grappler/optimizers/custom_graph_optimizer_registry.cc:114] Plugin optimizer for device_type GPU is enabled.\n",
      "2022-11-09 19:57:34.854330: I tensorflow/core/grappler/optimizers/custom_graph_optimizer_registry.cc:114] Plugin optimizer for device_type GPU is enabled.\n",
      "2022-11-09 19:57:34.919766: I tensorflow/core/grappler/optimizers/custom_graph_optimizer_registry.cc:114] Plugin optimizer for device_type GPU is enabled.\n",
      "2022-11-09 19:57:34.988812: I tensorflow/core/grappler/optimizers/custom_graph_optimizer_registry.cc:114] Plugin optimizer for device_type GPU is enabled.\n",
      "2022-11-09 19:57:35.074262: I tensorflow/core/grappler/optimizers/custom_graph_optimizer_registry.cc:114] Plugin optimizer for device_type GPU is enabled.\n",
      "2022-11-09 19:57:35.156838: I tensorflow/core/grappler/optimizers/custom_graph_optimizer_registry.cc:114] Plugin optimizer for device_type GPU is enabled.\n",
      "2022-11-09 19:57:35.256215: I tensorflow/core/grappler/optimizers/custom_graph_optimizer_registry.cc:114] Plugin optimizer for device_type GPU is enabled.\n"
     ]
    },
    {
     "name": "stdout",
     "output_type": "stream",
     "text": [
      "19/19 [==============================] - 17s 436ms/step - loss: 1.2778 - accuracy: 0.4270\n",
      "Epoch 2/500\n",
      "19/19 [==============================] - 3s 133ms/step - loss: 1.1118 - accuracy: 0.4859\n",
      "Epoch 3/500\n",
      "19/19 [==============================] - 2s 107ms/step - loss: 1.0696 - accuracy: 0.4984\n",
      "Epoch 4/500\n",
      "19/19 [==============================] - 2s 94ms/step - loss: 1.0315 - accuracy: 0.5316\n",
      "Epoch 5/500\n",
      "19/19 [==============================] - 2s 84ms/step - loss: 1.0014 - accuracy: 0.5398\n",
      "Epoch 6/500\n",
      "19/19 [==============================] - 2s 85ms/step - loss: 0.9639 - accuracy: 0.5507\n",
      "Epoch 7/500\n",
      "19/19 [==============================] - 2s 84ms/step - loss: 0.9588 - accuracy: 0.5602\n",
      "Epoch 8/500\n",
      "19/19 [==============================] - 2s 84ms/step - loss: 0.9635 - accuracy: 0.5493\n",
      "Epoch 9/500\n",
      "19/19 [==============================] - 2s 85ms/step - loss: 0.9365 - accuracy: 0.5691\n",
      "Epoch 10/500\n",
      "19/19 [==============================] - 2s 85ms/step - loss: 0.9237 - accuracy: 0.5747\n",
      "Epoch 11/500\n",
      "19/19 [==============================] - 2s 85ms/step - loss: 0.9211 - accuracy: 0.5829\n",
      "Epoch 12/500\n",
      "19/19 [==============================] - 2s 84ms/step - loss: 0.9210 - accuracy: 0.5803\n",
      "Epoch 13/500\n",
      "19/19 [==============================] - 2s 85ms/step - loss: 0.9116 - accuracy: 0.5796\n",
      "Epoch 14/500\n",
      "19/19 [==============================] - 2s 85ms/step - loss: 0.9117 - accuracy: 0.5895\n",
      "Epoch 15/500\n",
      "19/19 [==============================] - 2s 85ms/step - loss: 0.9027 - accuracy: 0.5898\n",
      "Epoch 16/500\n",
      "19/19 [==============================] - 2s 85ms/step - loss: 0.8953 - accuracy: 0.5914\n",
      "Epoch 17/500\n",
      "19/19 [==============================] - 2s 85ms/step - loss: 0.8623 - accuracy: 0.6102\n",
      "Epoch 18/500\n",
      "19/19 [==============================] - 2s 84ms/step - loss: 0.8802 - accuracy: 0.6026\n",
      "Epoch 19/500\n",
      "19/19 [==============================] - 2s 84ms/step - loss: 0.8653 - accuracy: 0.6138\n",
      "Epoch 20/500\n",
      "19/19 [==============================] - 2s 85ms/step - loss: 0.8516 - accuracy: 0.6164\n",
      "Epoch 21/500\n",
      "19/19 [==============================] - 2s 85ms/step - loss: 0.8478 - accuracy: 0.6151\n",
      "Epoch 22/500\n",
      "19/19 [==============================] - 2s 85ms/step - loss: 0.8582 - accuracy: 0.6181\n",
      "Epoch 23/500\n",
      "19/19 [==============================] - 2s 85ms/step - loss: 0.8384 - accuracy: 0.6280\n",
      "Epoch 24/500\n",
      "19/19 [==============================] - 2s 84ms/step - loss: 0.8413 - accuracy: 0.6145\n",
      "Epoch 25/500\n",
      "19/19 [==============================] - 2s 84ms/step - loss: 0.8206 - accuracy: 0.6454\n",
      "Epoch 26/500\n",
      "19/19 [==============================] - 2s 84ms/step - loss: 0.8154 - accuracy: 0.6405\n",
      "Epoch 27/500\n",
      "19/19 [==============================] - 2s 85ms/step - loss: 0.8258 - accuracy: 0.6395\n",
      "Epoch 28/500\n",
      "19/19 [==============================] - 2s 84ms/step - loss: 0.8246 - accuracy: 0.6316\n",
      "Epoch 29/500\n",
      "19/19 [==============================] - 2s 85ms/step - loss: 0.8058 - accuracy: 0.6434\n",
      "Epoch 30/500\n",
      "19/19 [==============================] - 2s 85ms/step - loss: 0.7962 - accuracy: 0.6507\n",
      "Epoch 31/500\n",
      "19/19 [==============================] - 2s 84ms/step - loss: 0.7934 - accuracy: 0.6562\n",
      "Epoch 32/500\n",
      "19/19 [==============================] - 2s 85ms/step - loss: 0.8115 - accuracy: 0.6391\n",
      "Epoch 33/500\n",
      "19/19 [==============================] - 2s 85ms/step - loss: 0.7792 - accuracy: 0.6609\n",
      "Epoch 34/500\n",
      "19/19 [==============================] - 2s 85ms/step - loss: 0.7861 - accuracy: 0.6661\n",
      "Epoch 35/500\n",
      "19/19 [==============================] - 2s 85ms/step - loss: 0.7773 - accuracy: 0.6658\n",
      "Epoch 36/500\n",
      "19/19 [==============================] - 2s 84ms/step - loss: 0.7753 - accuracy: 0.6549\n",
      "Epoch 37/500\n",
      "19/19 [==============================] - 2s 84ms/step - loss: 0.7791 - accuracy: 0.6572\n",
      "Epoch 38/500\n",
      "19/19 [==============================] - 2s 85ms/step - loss: 0.7656 - accuracy: 0.6737\n",
      "Epoch 39/500\n",
      "19/19 [==============================] - 2s 84ms/step - loss: 0.7711 - accuracy: 0.6655\n",
      "Epoch 40/500\n",
      "19/19 [==============================] - 2s 85ms/step - loss: 0.7300 - accuracy: 0.6905\n",
      "Epoch 41/500\n",
      "19/19 [==============================] - 2s 85ms/step - loss: 0.7667 - accuracy: 0.6720\n",
      "Epoch 42/500\n",
      "19/19 [==============================] - 2s 84ms/step - loss: 0.7409 - accuracy: 0.6924\n",
      "Epoch 43/500\n",
      "19/19 [==============================] - 2s 85ms/step - loss: 0.7454 - accuracy: 0.6809\n",
      "Epoch 44/500\n",
      "19/19 [==============================] - 2s 84ms/step - loss: 0.7295 - accuracy: 0.6839\n",
      "Epoch 45/500\n",
      "19/19 [==============================] - 2s 85ms/step - loss: 0.7232 - accuracy: 0.7020\n",
      "Epoch 46/500\n",
      "19/19 [==============================] - 2s 85ms/step - loss: 0.7245 - accuracy: 0.6987\n",
      "Epoch 47/500\n",
      "19/19 [==============================] - 2s 84ms/step - loss: 0.7264 - accuracy: 0.6961\n",
      "Epoch 48/500\n",
      "19/19 [==============================] - 2s 84ms/step - loss: 0.7111 - accuracy: 0.7069\n",
      "Epoch 49/500\n",
      "19/19 [==============================] - 2s 84ms/step - loss: 0.7138 - accuracy: 0.6967\n",
      "Epoch 50/500\n",
      "19/19 [==============================] - 2s 85ms/step - loss: 0.7047 - accuracy: 0.7069\n",
      "Epoch 51/500\n",
      "19/19 [==============================] - 2s 85ms/step - loss: 0.7157 - accuracy: 0.6878\n",
      "Epoch 52/500\n",
      "19/19 [==============================] - 2s 85ms/step - loss: 0.7002 - accuracy: 0.7188\n",
      "Epoch 53/500\n",
      "19/19 [==============================] - 2s 84ms/step - loss: 0.6994 - accuracy: 0.7164\n",
      "Epoch 54/500\n",
      "19/19 [==============================] - 2s 85ms/step - loss: 0.6992 - accuracy: 0.7063\n",
      "Epoch 55/500\n",
      "19/19 [==============================] - 2s 85ms/step - loss: 0.6895 - accuracy: 0.7326\n",
      "Epoch 56/500\n",
      "19/19 [==============================] - 2s 85ms/step - loss: 0.6767 - accuracy: 0.7181\n",
      "Epoch 57/500\n",
      "19/19 [==============================] - 2s 85ms/step - loss: 0.6716 - accuracy: 0.7286\n",
      "Epoch 58/500\n",
      "19/19 [==============================] - 2s 85ms/step - loss: 0.6688 - accuracy: 0.7243\n",
      "Epoch 59/500\n",
      "19/19 [==============================] - 2s 85ms/step - loss: 0.6609 - accuracy: 0.7309\n",
      "Epoch 60/500\n",
      "19/19 [==============================] - 2s 85ms/step - loss: 0.6657 - accuracy: 0.7352\n",
      "Epoch 61/500\n",
      "19/19 [==============================] - 2s 85ms/step - loss: 0.6474 - accuracy: 0.7382\n",
      "Epoch 62/500\n",
      "19/19 [==============================] - 2s 84ms/step - loss: 0.6501 - accuracy: 0.7487\n",
      "Epoch 63/500\n",
      "19/19 [==============================] - 2s 85ms/step - loss: 0.6403 - accuracy: 0.7461\n",
      "Epoch 64/500\n",
      "19/19 [==============================] - 2s 85ms/step - loss: 0.6441 - accuracy: 0.7359\n",
      "Epoch 65/500\n",
      "19/19 [==============================] - 2s 85ms/step - loss: 0.6155 - accuracy: 0.7595\n",
      "Epoch 66/500\n",
      "19/19 [==============================] - 2s 85ms/step - loss: 0.6516 - accuracy: 0.7457\n",
      "Epoch 67/500\n",
      "19/19 [==============================] - 2s 85ms/step - loss: 0.6402 - accuracy: 0.7516\n",
      "Epoch 68/500\n",
      "19/19 [==============================] - 2s 84ms/step - loss: 0.6195 - accuracy: 0.7553\n",
      "Epoch 69/500\n",
      "19/19 [==============================] - 2s 85ms/step - loss: 0.6311 - accuracy: 0.7513\n",
      "Epoch 70/500\n",
      "19/19 [==============================] - 2s 85ms/step - loss: 0.6140 - accuracy: 0.7605\n",
      "Epoch 71/500\n",
      "19/19 [==============================] - 2s 85ms/step - loss: 0.6198 - accuracy: 0.7523\n",
      "Epoch 72/500\n",
      "19/19 [==============================] - 2s 83ms/step - loss: 0.6072 - accuracy: 0.7681\n",
      "Epoch 73/500\n",
      "19/19 [==============================] - 2s 85ms/step - loss: 0.6193 - accuracy: 0.7572\n",
      "Epoch 74/500\n",
      "19/19 [==============================] - 2s 84ms/step - loss: 0.6038 - accuracy: 0.7632\n",
      "Epoch 75/500\n",
      "19/19 [==============================] - 2s 85ms/step - loss: 0.6019 - accuracy: 0.7664\n",
      "Epoch 76/500\n",
      "19/19 [==============================] - 2s 85ms/step - loss: 0.5873 - accuracy: 0.7793\n",
      "Epoch 77/500\n",
      "19/19 [==============================] - 2s 85ms/step - loss: 0.5717 - accuracy: 0.7757\n",
      "Epoch 78/500\n",
      "19/19 [==============================] - 2s 85ms/step - loss: 0.5929 - accuracy: 0.7701\n",
      "Epoch 79/500\n",
      "19/19 [==============================] - 2s 85ms/step - loss: 0.5852 - accuracy: 0.7743\n",
      "Epoch 80/500\n",
      "19/19 [==============================] - 2s 86ms/step - loss: 0.5674 - accuracy: 0.7845\n",
      "Epoch 81/500\n",
      "19/19 [==============================] - 2s 85ms/step - loss: 0.5748 - accuracy: 0.7727\n",
      "Epoch 82/500\n",
      "19/19 [==============================] - 2s 85ms/step - loss: 0.5629 - accuracy: 0.7891\n",
      "Epoch 83/500\n",
      "19/19 [==============================] - 2s 85ms/step - loss: 0.5362 - accuracy: 0.8026\n",
      "Epoch 84/500\n",
      "19/19 [==============================] - 2s 86ms/step - loss: 0.5660 - accuracy: 0.7911\n",
      "Epoch 85/500\n",
      "19/19 [==============================] - 2s 85ms/step - loss: 0.5412 - accuracy: 0.8020\n",
      "Epoch 86/500\n",
      "19/19 [==============================] - 2s 85ms/step - loss: 0.5565 - accuracy: 0.7895\n",
      "Epoch 87/500\n",
      "19/19 [==============================] - 2s 85ms/step - loss: 0.5345 - accuracy: 0.7938\n",
      "Epoch 88/500\n",
      "19/19 [==============================] - 2s 85ms/step - loss: 0.5366 - accuracy: 0.7993\n",
      "Epoch 89/500\n",
      "19/19 [==============================] - 2s 85ms/step - loss: 0.5365 - accuracy: 0.8000\n",
      "Epoch 90/500\n",
      "19/19 [==============================] - 2s 85ms/step - loss: 0.5278 - accuracy: 0.8128\n",
      "Epoch 91/500\n",
      "19/19 [==============================] - 2s 84ms/step - loss: 0.5246 - accuracy: 0.8125\n",
      "Epoch 92/500\n",
      "19/19 [==============================] - 2s 85ms/step - loss: 0.5084 - accuracy: 0.8270\n",
      "Epoch 93/500\n",
      "19/19 [==============================] - 2s 85ms/step - loss: 0.4991 - accuracy: 0.8178\n",
      "Epoch 94/500\n",
      "19/19 [==============================] - 2s 83ms/step - loss: 0.4971 - accuracy: 0.8188\n",
      "Epoch 95/500\n",
      "19/19 [==============================] - 2s 85ms/step - loss: 0.5097 - accuracy: 0.8132\n",
      "Epoch 96/500\n",
      "19/19 [==============================] - 2s 85ms/step - loss: 0.5037 - accuracy: 0.8171\n",
      "Epoch 97/500\n",
      "19/19 [==============================] - 2s 85ms/step - loss: 0.4869 - accuracy: 0.8306\n",
      "Epoch 98/500\n",
      "19/19 [==============================] - 2s 85ms/step - loss: 0.4874 - accuracy: 0.8247\n",
      "Epoch 99/500\n",
      "19/19 [==============================] - 2s 85ms/step - loss: 0.4928 - accuracy: 0.8230\n",
      "Epoch 100/500\n",
      "19/19 [==============================] - 2s 86ms/step - loss: 0.4786 - accuracy: 0.8375\n",
      "Epoch 101/500\n",
      "19/19 [==============================] - 2s 87ms/step - loss: 0.4810 - accuracy: 0.8273\n",
      "Epoch 102/500\n",
      "19/19 [==============================] - 2s 87ms/step - loss: 0.4731 - accuracy: 0.8336\n",
      "Epoch 103/500\n",
      "19/19 [==============================] - 2s 85ms/step - loss: 0.4599 - accuracy: 0.8431\n",
      "Epoch 104/500\n",
      "19/19 [==============================] - 2s 85ms/step - loss: 0.4671 - accuracy: 0.8322\n",
      "Epoch 105/500\n",
      "19/19 [==============================] - 2s 86ms/step - loss: 0.4538 - accuracy: 0.8431\n",
      "Epoch 106/500\n",
      "19/19 [==============================] - 2s 85ms/step - loss: 0.4646 - accuracy: 0.8286\n",
      "Epoch 107/500\n",
      "19/19 [==============================] - 2s 84ms/step - loss: 0.4534 - accuracy: 0.8378\n",
      "Epoch 108/500\n",
      "19/19 [==============================] - 2s 84ms/step - loss: 0.4555 - accuracy: 0.8329\n",
      "Epoch 109/500\n",
      "19/19 [==============================] - 2s 86ms/step - loss: 0.4332 - accuracy: 0.8553\n",
      "Epoch 110/500\n",
      "19/19 [==============================] - 2s 85ms/step - loss: 0.4333 - accuracy: 0.8503\n",
      "Epoch 111/500\n",
      "19/19 [==============================] - 2s 85ms/step - loss: 0.4381 - accuracy: 0.8546\n",
      "Epoch 112/500\n",
      "19/19 [==============================] - 2s 85ms/step - loss: 0.4462 - accuracy: 0.8464\n",
      "Epoch 113/500\n",
      "19/19 [==============================] - 2s 84ms/step - loss: 0.4328 - accuracy: 0.8536\n",
      "Epoch 114/500\n",
      "19/19 [==============================] - 2s 85ms/step - loss: 0.4080 - accuracy: 0.8592\n",
      "Epoch 115/500\n",
      "19/19 [==============================] - 2s 86ms/step - loss: 0.4132 - accuracy: 0.8605\n",
      "Epoch 116/500\n",
      "19/19 [==============================] - 2s 84ms/step - loss: 0.4148 - accuracy: 0.8579\n",
      "Epoch 117/500\n",
      "19/19 [==============================] - 2s 86ms/step - loss: 0.3935 - accuracy: 0.8651\n",
      "Epoch 118/500\n",
      "19/19 [==============================] - 2s 87ms/step - loss: 0.3977 - accuracy: 0.8684\n",
      "Epoch 119/500\n",
      "19/19 [==============================] - 2s 85ms/step - loss: 0.3965 - accuracy: 0.8661\n",
      "Epoch 120/500\n",
      "19/19 [==============================] - 2s 86ms/step - loss: 0.3928 - accuracy: 0.8730\n",
      "Epoch 121/500\n",
      "19/19 [==============================] - 2s 85ms/step - loss: 0.3861 - accuracy: 0.8714\n",
      "Epoch 122/500\n",
      "19/19 [==============================] - 2s 85ms/step - loss: 0.3950 - accuracy: 0.8727\n",
      "Epoch 123/500\n",
      "19/19 [==============================] - 2s 85ms/step - loss: 0.3974 - accuracy: 0.8622\n",
      "Epoch 124/500\n",
      "19/19 [==============================] - 2s 84ms/step - loss: 0.3950 - accuracy: 0.8632\n",
      "Epoch 125/500\n",
      "19/19 [==============================] - 2s 85ms/step - loss: 0.3902 - accuracy: 0.8730\n",
      "Epoch 126/500\n",
      "19/19 [==============================] - 2s 84ms/step - loss: 0.4032 - accuracy: 0.8701\n"
     ]
    },
    {
     "data": {
      "text/plain": [
       "<keras.callbacks.History at 0x5c510bb50>"
      ]
     },
     "execution_count": 85,
     "metadata": {},
     "output_type": "execute_result"
    }
   ],
   "source": [
    "txLstm.compile(\n",
    "    loss='categorical_crossentropy',\n",
    "    optimizer=tf.keras.optimizers.Adam(0.0001),\n",
    "    metrics=[\"accuracy\"]\n",
    ")\n",
    "\n",
    "callback = tf.keras.callbacks.EarlyStopping(monitor='loss', patience=5)\n",
    "\n",
    "txLstm.fit(x_prova, y_prova, epochs=500, callbacks=[callback], batch_size=16)"
   ]
  },
  {
   "cell_type": "code",
   "execution_count": 86,
   "metadata": {},
   "outputs": [
    {
     "name": "stderr",
     "output_type": "stream",
     "text": [
      "2022-11-09 20:01:12.652001: I tensorflow/core/grappler/optimizers/custom_graph_optimizer_registry.cc:114] Plugin optimizer for device_type GPU is enabled.\n",
      "2022-11-09 20:01:12.952864: I tensorflow/core/grappler/optimizers/custom_graph_optimizer_registry.cc:114] Plugin optimizer for device_type GPU is enabled.\n",
      "2022-11-09 20:01:12.989342: I tensorflow/core/grappler/optimizers/custom_graph_optimizer_registry.cc:114] Plugin optimizer for device_type GPU is enabled.\n",
      "2022-11-09 20:01:13.003086: I tensorflow/core/grappler/optimizers/custom_graph_optimizer_registry.cc:114] Plugin optimizer for device_type GPU is enabled.\n",
      "2022-11-09 20:01:13.020226: I tensorflow/core/grappler/optimizers/custom_graph_optimizer_registry.cc:114] Plugin optimizer for device_type GPU is enabled.\n",
      "2022-11-09 20:01:13.040443: I tensorflow/core/grappler/optimizers/custom_graph_optimizer_registry.cc:114] Plugin optimizer for device_type GPU is enabled.\n",
      "2022-11-09 20:01:13.068822: I tensorflow/core/grappler/optimizers/custom_graph_optimizer_registry.cc:114] Plugin optimizer for device_type GPU is enabled.\n",
      "2022-11-09 20:01:13.102572: I tensorflow/core/grappler/optimizers/custom_graph_optimizer_registry.cc:114] Plugin optimizer for device_type GPU is enabled.\n",
      "2022-11-09 20:01:13.142730: I tensorflow/core/grappler/optimizers/custom_graph_optimizer_registry.cc:114] Plugin optimizer for device_type GPU is enabled.\n",
      "2022-11-09 20:01:13.193499: I tensorflow/core/grappler/optimizers/custom_graph_optimizer_registry.cc:114] Plugin optimizer for device_type GPU is enabled.\n",
      "2022-11-09 20:01:13.248079: I tensorflow/core/grappler/optimizers/custom_graph_optimizer_registry.cc:114] Plugin optimizer for device_type GPU is enabled.\n"
     ]
    },
    {
     "name": "stdout",
     "output_type": "stream",
     "text": [
      "10/10 [==============================] - 6s 306ms/step - loss: 0.7729 - accuracy: 0.6543\n"
     ]
    },
    {
     "data": {
      "text/plain": [
       "[0.7729179263114929, 0.6542763710021973]"
      ]
     },
     "execution_count": 86,
     "metadata": {},
     "output_type": "execute_result"
    }
   ],
   "source": [
    "txLstm.evaluate(x_prova, y_prova)"
   ]
  },
  {
   "cell_type": "code",
   "execution_count": 87,
   "metadata": {},
   "outputs": [
    {
     "name": "stdout",
     "output_type": "stream",
     "text": [
      "4/4 [==============================] - 1s 250ms/step - loss: 0.9830 - accuracy: 0.5614\n"
     ]
    },
    {
     "data": {
      "text/plain": [
       "[0.98298180103302, 0.5614035129547119]"
      ]
     },
     "execution_count": 87,
     "metadata": {},
     "output_type": "execute_result"
    }
   ],
   "source": [
    "txLstm.evaluate(x_prova_test, y_prova_test)"
   ]
  },
  {
   "cell_type": "code",
   "execution_count": 88,
   "metadata": {},
   "outputs": [
    {
     "name": "stderr",
     "output_type": "stream",
     "text": [
      "2022-11-09 20:01:30.884328: I tensorflow/core/grappler/optimizers/custom_graph_optimizer_registry.cc:114] Plugin optimizer for device_type GPU is enabled.\n",
      "2022-11-09 20:01:31.176319: I tensorflow/core/grappler/optimizers/custom_graph_optimizer_registry.cc:114] Plugin optimizer for device_type GPU is enabled.\n",
      "2022-11-09 20:01:31.194571: I tensorflow/core/grappler/optimizers/custom_graph_optimizer_registry.cc:114] Plugin optimizer for device_type GPU is enabled.\n",
      "2022-11-09 20:01:31.208179: I tensorflow/core/grappler/optimizers/custom_graph_optimizer_registry.cc:114] Plugin optimizer for device_type GPU is enabled.\n",
      "2022-11-09 20:01:31.226080: I tensorflow/core/grappler/optimizers/custom_graph_optimizer_registry.cc:114] Plugin optimizer for device_type GPU is enabled.\n",
      "2022-11-09 20:01:31.248413: I tensorflow/core/grappler/optimizers/custom_graph_optimizer_registry.cc:114] Plugin optimizer for device_type GPU is enabled.\n",
      "2022-11-09 20:01:31.276720: I tensorflow/core/grappler/optimizers/custom_graph_optimizer_registry.cc:114] Plugin optimizer for device_type GPU is enabled.\n",
      "2022-11-09 20:01:31.314669: I tensorflow/core/grappler/optimizers/custom_graph_optimizer_registry.cc:114] Plugin optimizer for device_type GPU is enabled.\n",
      "2022-11-09 20:01:31.355260: I tensorflow/core/grappler/optimizers/custom_graph_optimizer_registry.cc:114] Plugin optimizer for device_type GPU is enabled.\n",
      "2022-11-09 20:01:31.403533: I tensorflow/core/grappler/optimizers/custom_graph_optimizer_registry.cc:114] Plugin optimizer for device_type GPU is enabled.\n",
      "2022-11-09 20:01:31.453499: I tensorflow/core/grappler/optimizers/custom_graph_optimizer_registry.cc:114] Plugin optimizer for device_type GPU is enabled.\n"
     ]
    },
    {
     "name": "stdout",
     "output_type": "stream",
     "text": [
      "4/4 [==============================] - 6s 421ms/step\n",
      "10/10 [==============================] - 2s 231ms/step\n",
      "              precision    recall  f1-score   support\n",
      "\n",
      "           A      0.560     0.565     0.563       345\n",
      "           D      0.296     0.228     0.258       254\n",
      "           H      0.649     0.715     0.681       541\n",
      "\n",
      "    accuracy                          0.561      1140\n",
      "   macro avg      0.502     0.503     0.500      1140\n",
      "weighted avg      0.544     0.561     0.551      1140\n",
      "\n"
     ]
    }
   ],
   "source": [
    "def revert_yoh(Y):\n",
    "    Y_new = np.empty([Y.shape[0],Y.shape[1]], dtype=\"<U1\")\n",
    "    #Y_new = np.zeros((Y.shape[0],Y.shape[1]))\n",
    "    for i in range(Y.shape[0]):\n",
    "        for j in range(Y.shape[1]):\n",
    "            if (Y[i, j] == 0):\n",
    "                Y_new[i, j]= 'A'\n",
    "            elif (Y[i, j] == 1):\n",
    "                Y_new[i, j]= 'D'\n",
    "            elif (Y[i, j] == 2):\n",
    "                Y_new[i, j]='H'\n",
    "    return Y_new\n",
    "\n",
    "y_pred = txLstm.predict(x_prova_test)\n",
    "y_predm = np.asarray(y_pred)\n",
    "y_predm = np.argmax(y_predm, axis=2)\n",
    "y_testm = np.argmax(y_prova_test, axis=2)\n",
    "\n",
    "y_pred_train = txLstm.predict(x_prova)\n",
    "y_pred_train = np.asarray(y_pred_train)\n",
    "y_predm_train = np.argmax(y_pred_train, axis=2)\n",
    "y_trainm = np.argmax(y_prova, axis = 2)\n",
    "\n",
    "y_predm = revert_yoh(y_predm).ravel()\n",
    "y_testm = revert_yoh(y_testm).ravel()\n",
    "\n",
    "y_predm_train = revert_yoh(y_predm_train).ravel()\n",
    "y_trainm = revert_yoh(y_trainm).ravel()\n",
    "\n",
    "#Model Metrics\n",
    "print(classification_report(y_testm, y_predm, digits=3))"
   ]
  },
  {
   "cell_type": "code",
   "execution_count": null,
   "metadata": {},
   "outputs": [],
   "source": []
  }
 ],
 "metadata": {
  "kernelspec": {
   "display_name": "Python 3.8.13 ('dl')",
   "language": "python",
   "name": "python3"
  },
  "language_info": {
   "codemirror_mode": {
    "name": "ipython",
    "version": 3
   },
   "file_extension": ".py",
   "mimetype": "text/x-python",
   "name": "python",
   "nbconvert_exporter": "python",
   "pygments_lexer": "ipython3",
   "version": "3.8.13"
  },
  "orig_nbformat": 4,
  "vscode": {
   "interpreter": {
    "hash": "b2b3490ab97e9e12756aa89c01d5382ca6cf08cdaa9c454d9749392520b38d26"
   }
  }
 },
 "nbformat": 4,
 "nbformat_minor": 2
}
