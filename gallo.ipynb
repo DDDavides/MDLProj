{
 "cells": [
  {
   "cell_type": "code",
   "execution_count": 1,
   "metadata": {},
   "outputs": [],
   "source": [
    "from sklearn.model_selection import train_test_split\n",
    "from sklearn.metrics import classification_report\n",
    "from sklearn.model_selection import GridSearchCV\n",
    "\n",
    "from sklearn.preprocessing import OneHotEncoder\n",
    "from sklearn.impute import SimpleImputer\n",
    "\n",
    "from sklearn.svm import SVC, LinearSVC\n",
    "from sklearn.linear_model import SGDClassifier, RidgeClassifier\n",
    "from sklearn.ensemble import RandomForestClassifier, AdaBoostClassifier\n",
    "\n",
    "from tensorflow import keras as k\n",
    "\n",
    "import tensorflow as tf\n",
    "import pandas as pd\n",
    "import numpy as np\n",
    "\n",
    "# %pip install d2l==1.0.0a1.post0\n",
    "from d2l import tensorflow as d2l\n"
   ]
  },
  {
   "cell_type": "code",
   "execution_count": 2,
   "metadata": {},
   "outputs": [],
   "source": [
    "data = pd.read_csv('./input/dataset.csv')\n",
    "# dataImputed = pd.read_csv('./input/datasetImputed.csv')"
   ]
  },
  {
   "cell_type": "code",
   "execution_count": 3,
   "metadata": {},
   "outputs": [],
   "source": [
    "# è stata riscritta una funzione di reshape inutile \n",
    "# e.g. (a_prev=x_train, season=trn_ssn)\n",
    "def reshape_to_inputshape(a_prev,season):\n",
    "    totalMatches = len(season)*38\n",
    "    input_step = int(a_prev.shape[0]/totalMatches)\n",
    "    prev_f = a_prev.shape[1]\n",
    "    return np.reshape(a_prev, (totalMatches, input_step, prev_f))"
   ]
  },
  {
   "cell_type": "code",
   "execution_count": 4,
   "metadata": {},
   "outputs": [],
   "source": [
    "features = ['HomeTeam', 'AwayTeam', \n",
    "            'HTeamEloScore', 'ATeamEloScore', \n",
    "            'HTdaysSinceLastMatch', 'ATdaysSinceLastMatch', \n",
    "            'HTW_rate', 'ATW_rate', 'ATD_rate', 'HTD_rate', \n",
    "            '7_HTW_rate', '12_HTW_rate', '7_ATW_rate', '12_ATW_rate', \n",
    "            '7_HTD_rate', '12_HTD_rate', '7_ATD_rate', '12_ATD_rate',\n",
    "            '7_HTL_rate', '12_HTL_rate', '7_ATL_rate', '12_ATL_rate',\n",
    "            '5_HTHW_rate', '5_ATAW_rate']\n",
    "\n",
    "X = pd.get_dummies(data[features])\n",
    "\n",
    "# Se non cambiamo nulla il OneHotEncoder assegna:\n",
    "# A -> 1 0 0\n",
    "# D -> 0 1 0\n",
    "# H -> 0 0 1\n",
    "y = data[['FTR']].to_numpy().ravel().reshape(-1, 1)\n",
    "y = OneHotEncoder(sparse=False).fit_transform(y)\n",
    "X_imputed = SimpleImputer().fit_transform(X)\n",
    "\n"
   ]
  },
  {
   "cell_type": "code",
   "execution_count": 5,
   "metadata": {},
   "outputs": [],
   "source": [
    "trn_ssn = [2008, 2009, 2010, 2011, 2012, 2013, 2014, 2015]\n",
    "trn_ssn_len = len(trn_ssn)\n",
    "tst_ssn = [2016,2017,2018] \n",
    "tst_ssn_len = len(tst_ssn)\n",
    "\n",
    "test_size = float(tst_ssn_len)/(tst_ssn_len+trn_ssn_len)\n",
    "\n",
    "#Split X and Y into training and Test Sets\n",
    "x_train, x_test, y_train, y_test = train_test_split(X_imputed, y, shuffle=False, test_size=test_size)"
   ]
  },
  {
   "cell_type": "code",
   "execution_count": 6,
   "metadata": {},
   "outputs": [],
   "source": [
    "def time_step(a_prev,season):\n",
    "    a_prev = a_prev[np.newaxis, ...]\n",
    "    totalMatches = len(season)*38\n",
    "\n",
    "    prev_f = a_prev.shape[2]\n",
    "    input_step = int(a_prev.shape[1]/totalMatches)\n",
    "    step = 0\n",
    "    a_new = np.zeros((totalMatches, input_step, prev_f))\n",
    "    for i in range(totalMatches):\n",
    "        # rows divise in porzioni di totalMatches rows\n",
    "        step += input_step\n",
    "        \n",
    "        # per tutte le righe nell'intervallo di righe che stiamo guardando ora \n",
    "        # va in ogni porzione di righe di volta in volta\n",
    "        for j in range(step-input_step,step):\n",
    "\n",
    "            # per ogni colonna\n",
    "            for k in range(prev_f):\n",
    "                a_new[i, j - input_step * i, k] = a_prev[:, j, k]\n",
    "    \n",
    "    return a_new"
   ]
  },
  {
   "cell_type": "code",
   "execution_count": 7,
   "metadata": {},
   "outputs": [],
   "source": [
    "#Setup XY to have 10 game steps\n",
    "lstm_x_train = reshape_to_inputshape(x_train,trn_ssn)\n",
    "lstm_y_train = reshape_to_inputshape(y_train,trn_ssn)\n",
    "# y_train = np.moveaxis(y_train, 0, 1)\n",
    "\n",
    "lstm_x_test = reshape_to_inputshape(x_test,tst_ssn)\n",
    "lstm_y_test = reshape_to_inputshape(y_test,tst_ssn)\n",
    "# y_test = np.moveaxis(y_test, 0, 1)\n",
    "\n",
    "Tx = lstm_x_train.shape[1] #Time steps\n",
    "Ty = lstm_y_train.shape[0] #Time Steps\n",
    "\n",
    "num_features = lstm_x_train.shape[2] #Features per step\n",
    "inputs = tf.keras.Input(shape=(Tx, num_features))"
   ]
  },
  {
   "cell_type": "code",
   "execution_count": 8,
   "metadata": {},
   "outputs": [
    {
     "name": "stdout",
     "output_type": "stream",
     "text": [
      "(304, 10, 94)\n",
      "(304, 10, 3)\n"
     ]
    }
   ],
   "source": [
    "print(lstm_x_train.shape)\n",
    "print(lstm_y_train.shape)"
   ]
  },
  {
   "cell_type": "markdown",
   "metadata": {},
   "source": [
    "# Prova di tensorflow"
   ]
  },
  {
   "cell_type": "code",
   "execution_count": 9,
   "metadata": {},
   "outputs": [
    {
     "name": "stdout",
     "output_type": "stream",
     "text": [
      "Metal device set to: Apple M1 Pro\n",
      "\n",
      "systemMemory: 16.00 GB\n",
      "maxCacheSize: 5.33 GB\n",
      "\n"
     ]
    },
    {
     "name": "stderr",
     "output_type": "stream",
     "text": [
      "2022-11-09 16:39:46.248972: I tensorflow/core/common_runtime/pluggable_device/pluggable_device_factory.cc:306] Could not identify NUMA node of platform GPU ID 0, defaulting to 0. Your kernel may not have been built with NUMA support.\n",
      "2022-11-09 16:39:46.249420: I tensorflow/core/common_runtime/pluggable_device/pluggable_device_factory.cc:272] Created TensorFlow device (/job:localhost/replica:0/task:0/device:GPU:0 with 0 MB memory) -> physical PluggableDevice (device: 0, name: METAL, pci bus id: <undefined>)\n"
     ]
    },
    {
     "name": "stdout",
     "output_type": "stream",
     "text": [
      "(32, 18)\n"
     ]
    }
   ],
   "source": [
    "inputs = tf.random.normal((32, 10, 8))\n",
    "lstm = tf.keras.layers.LSTM(18)\n",
    "output = lstm(inputs)\n",
    "print(output.shape)"
   ]
  },
  {
   "cell_type": "code",
   "execution_count": 10,
   "metadata": {},
   "outputs": [
    {
     "name": "stdout",
     "output_type": "stream",
     "text": [
      "tf.Tensor(\n",
      "[[-0.12013333 -0.20862854]\n",
      " [-0.04657596 -0.32306018]\n",
      " [-0.01559365 -0.37989762]], shape=(3, 2), dtype=float32)\n"
     ]
    }
   ],
   "source": [
    "inputs = np.array([[[0, 1], [0, 1]], [[1, 2], [1, 2]], [[2, 3], [2, 3]]], dtype=np.float64)\n",
    "lstm = k.models.Sequential([\n",
    "    tf.keras.layers.LSTM(2)\n",
    "])\n",
    "out = lstm(inputs)\n",
    "print(out)\n"
   ]
  },
  {
   "cell_type": "code",
   "execution_count": 11,
   "metadata": {},
   "outputs": [],
   "source": [
    "MLP = tf.keras.models.Sequential([\n",
    "    k.layers.Dense(4000),\n",
    "    k.layers.Dropout(.7),\n",
    "    k.layers.Dense(100),\n",
    "    k.layers.Dense(3, activation='softmax')\n",
    "])"
   ]
  },
  {
   "cell_type": "code",
   "execution_count": 12,
   "metadata": {},
   "outputs": [
    {
     "name": "stdout",
     "output_type": "stream",
     "text": [
      "Model: \"sequential_1\"\n",
      "_________________________________________________________________\n",
      " Layer (type)                Output Shape              Param #   \n",
      "=================================================================\n",
      " dense (Dense)               (3040, 4000)              380000    \n",
      "                                                                 \n",
      " dropout (Dropout)           (3040, 4000)              0         \n",
      "                                                                 \n",
      " dense_1 (Dense)             (3040, 100)               400100    \n",
      "                                                                 \n",
      " dense_2 (Dense)             (3040, 3)                 303       \n",
      "                                                                 \n",
      "=================================================================\n",
      "Total params: 780,403\n",
      "Trainable params: 780,403\n",
      "Non-trainable params: 0\n",
      "_________________________________________________________________\n"
     ]
    }
   ],
   "source": [
    "MLP.compile(\n",
    "    loss='categorical_crossentropy',\n",
    "    optimizer=tf.keras.optimizers.Adam(0.001),\n",
    "    metrics=[tf.keras.metrics.Accuracy()]\n",
    ")\n",
    "MLP(x_train)\n",
    "MLP.summary()"
   ]
  },
  {
   "cell_type": "code",
   "execution_count": 13,
   "metadata": {},
   "outputs": [
    {
     "name": "stdout",
     "output_type": "stream",
     "text": [
      "WARNING:tensorflow:Model was constructed with shape (3040, 94) for input KerasTensor(type_spec=TensorSpec(shape=(3040, 94), dtype=tf.float64, name='dense_input'), name='dense_input', description=\"created by layer 'dense_input'\"), but it was called on an input with incompatible shape (None, 10, 94).\n"
     ]
    },
    {
     "name": "stderr",
     "output_type": "stream",
     "text": [
      "2022-11-09 16:39:47.248862: W tensorflow/core/platform/profile_utils/cpu_utils.cc:128] Failed to get CPU frequency: 0 Hz\n"
     ]
    },
    {
     "name": "stdout",
     "output_type": "stream",
     "text": [
      "WARNING:tensorflow:Model was constructed with shape (3040, 94) for input KerasTensor(type_spec=TensorSpec(shape=(3040, 94), dtype=tf.float64, name='dense_input'), name='dense_input', description=\"created by layer 'dense_input'\"), but it was called on an input with incompatible shape (None, 10, 94).\n"
     ]
    },
    {
     "name": "stderr",
     "output_type": "stream",
     "text": [
      "2022-11-09 16:39:47.596115: I tensorflow/core/grappler/optimizers/custom_graph_optimizer_registry.cc:114] Plugin optimizer for device_type GPU is enabled.\n"
     ]
    },
    {
     "name": "stdout",
     "output_type": "stream",
     "text": [
      "10/10 [==============================] - 1s 25ms/step - loss: 19.2480 - accuracy: 0.1394\n"
     ]
    },
    {
     "data": {
      "text/plain": [
       "<keras.callbacks.History at 0x2afdcb190>"
      ]
     },
     "execution_count": 13,
     "metadata": {},
     "output_type": "execute_result"
    }
   ],
   "source": [
    "MLP.fit(lstm_x_train, lstm_y_train)"
   ]
  },
  {
   "cell_type": "markdown",
   "metadata": {},
   "source": [
    "# RandomForestClassifieri"
   ]
  },
  {
   "cell_type": "code",
   "execution_count": 14,
   "metadata": {},
   "outputs": [
    {
     "name": "stdout",
     "output_type": "stream",
     "text": [
      "Forest Classifier\n",
      "Train Score:  0.6302631578947369\n",
      "Test Score:  0.22017543859649122\n"
     ]
    }
   ],
   "source": [
    "forest = RandomForestClassifier(n_estimators=2, random_state=2)\n",
    "forest = forest.fit(x_train, y_train)\n",
    "\n",
    "\n",
    "#Forest Model Metrics\n",
    "print(\"Forest Classifier\")\n",
    "print(\"Train Score: \", forest.score(x_train, y_train))\n",
    "print(\"Test Score: \", forest.score(x_test, y_test))"
   ]
  },
  {
   "cell_type": "code",
   "execution_count": 15,
   "metadata": {},
   "outputs": [
    {
     "name": "stdout",
     "output_type": "stream",
     "text": [
      "Forest Classifiers Best Score:  0.4305921052631579\n",
      "Forest Classifiers Best Params:  {'max_depth': 8, 'n_estimators': 1, 'random_state': 1}\n",
      "Forest Classifiers Best Params:  RandomForestClassifier(max_depth=8, n_estimators=1, random_state=1)\n"
     ]
    }
   ],
   "source": [
    "n = 10\n",
    "m = 5\n",
    "max_depth = 10\n",
    "forests = []\n",
    "grid = [{\"n_estimators\": list(range(1, n)), \"random_state\": list(range(0, m)), \"max_depth\": list(range(1, max_depth))}]\n",
    "gridSearch = GridSearchCV(RandomForestClassifier(), param_grid=grid, n_jobs=10, return_train_score=True)\n",
    "gridSearch.fit(x_train, y_train)\n",
    "# for i in range(1, n+1):\n",
    "#     for j in range(m):\n",
    "#         forest = RandomForestClassifier(n_estimators=i, random_state=j)\n",
    "#         forest = forest.fit(x_train, y_train)\n",
    "#         forests.append(forest)\n",
    "#         print(\"Forest Classifier, n_estimators: \", i, \"random_state: \", j)\n",
    "#         print(\"Train Score: \", forest.score(x_train, y_train))\n",
    "#         print(\"Test Score: \", forest.score(x_test, y_test))\n",
    "\n",
    "# #Forest Model Metrics\n",
    "# print(\"Forest Classifier\")\n",
    "# print(\"Train Score: \", forest.score(x_train, y_train))\n",
    "# print(\"Test Score: \", forest.score(x_test, y_test))\n",
    "print(\"Forest Classifiers Best Score: \", gridSearch.best_score_)\n",
    "print(\"Forest Classifiers Best Params: \", gridSearch.best_params_)\n",
    "print(\"Forest Classifiers Best Params: \", gridSearch.best_estimator_)"
   ]
  },
  {
   "cell_type": "markdown",
   "metadata": {},
   "source": [
    "# LSTM"
   ]
  },
  {
   "cell_type": "code",
   "execution_count": 16,
   "metadata": {},
   "outputs": [],
   "source": [
    "x_prova = reshape_to_inputshape(x_train, trn_ssn)\n",
    "y_prova = reshape_to_inputshape(y_train, trn_ssn)\n",
    "x_prova_test = reshape_to_inputshape(x_test, tst_ssn)\n",
    "y_prova_test = reshape_to_inputshape(y_test, tst_ssn)"
   ]
  },
  {
   "cell_type": "code",
   "execution_count": 103,
   "metadata": {},
   "outputs": [
    {
     "name": "stdout",
     "output_type": "stream",
     "text": [
      "Epoch 1/500\n"
     ]
    },
    {
     "name": "stderr",
     "output_type": "stream",
     "text": [
      "2022-11-09 18:18:08.880714: I tensorflow/core/grappler/optimizers/custom_graph_optimizer_registry.cc:114] Plugin optimizer for device_type GPU is enabled.\n",
      "2022-11-09 18:18:09.051425: I tensorflow/core/grappler/optimizers/custom_graph_optimizer_registry.cc:114] Plugin optimizer for device_type GPU is enabled.\n",
      "2022-11-09 18:18:09.556831: I tensorflow/core/grappler/optimizers/custom_graph_optimizer_registry.cc:114] Plugin optimizer for device_type GPU is enabled.\n"
     ]
    },
    {
     "name": "stdout",
     "output_type": "stream",
     "text": [
      "10/10 [==============================] - 3s 140ms/step - loss: 1.0802 - accuracy: 0.4224\n",
      "Epoch 2/500\n",
      "10/10 [==============================] - 1s 60ms/step - loss: 1.0327 - accuracy: 0.4928\n",
      "Epoch 3/500\n",
      "10/10 [==============================] - 0s 39ms/step - loss: 1.0140 - accuracy: 0.5188\n",
      "Epoch 4/500\n",
      "10/10 [==============================] - 0s 35ms/step - loss: 1.0103 - accuracy: 0.5214\n",
      "Epoch 5/500\n",
      "10/10 [==============================] - 0s 44ms/step - loss: 0.9946 - accuracy: 0.5355\n",
      "Epoch 6/500\n",
      "10/10 [==============================] - 0s 36ms/step - loss: 0.9907 - accuracy: 0.5214\n",
      "Epoch 7/500\n",
      "10/10 [==============================] - 0s 39ms/step - loss: 0.9875 - accuracy: 0.5303\n",
      "Epoch 8/500\n",
      "10/10 [==============================] - 0s 39ms/step - loss: 0.9852 - accuracy: 0.5247\n",
      "Epoch 9/500\n",
      "10/10 [==============================] - 0s 31ms/step - loss: 0.9794 - accuracy: 0.5322\n",
      "Epoch 10/500\n",
      "10/10 [==============================] - 0s 32ms/step - loss: 0.9746 - accuracy: 0.5401\n",
      "Epoch 11/500\n",
      "10/10 [==============================] - 0s 34ms/step - loss: 0.9661 - accuracy: 0.5457\n",
      "Epoch 12/500\n",
      "10/10 [==============================] - 0s 33ms/step - loss: 0.9690 - accuracy: 0.5421\n",
      "Epoch 13/500\n",
      "10/10 [==============================] - 0s 38ms/step - loss: 0.9670 - accuracy: 0.5493\n",
      "Epoch 14/500\n",
      "10/10 [==============================] - 0s 31ms/step - loss: 0.9741 - accuracy: 0.5507\n",
      "Epoch 15/500\n",
      "10/10 [==============================] - 0s 30ms/step - loss: 0.9607 - accuracy: 0.5582\n",
      "Epoch 16/500\n",
      "10/10 [==============================] - 0s 30ms/step - loss: 0.9600 - accuracy: 0.5484\n",
      "Epoch 17/500\n",
      "10/10 [==============================] - 0s 33ms/step - loss: 0.9635 - accuracy: 0.5484\n",
      "Epoch 18/500\n",
      "10/10 [==============================] - 0s 38ms/step - loss: 0.9640 - accuracy: 0.5553\n",
      "Epoch 19/500\n",
      "10/10 [==============================] - 0s 33ms/step - loss: 0.9534 - accuracy: 0.5572\n",
      "Epoch 20/500\n",
      "10/10 [==============================] - 0s 31ms/step - loss: 0.9600 - accuracy: 0.5605\n",
      "Epoch 21/500\n",
      "10/10 [==============================] - 0s 33ms/step - loss: 0.9623 - accuracy: 0.5605\n",
      "Epoch 22/500\n",
      "10/10 [==============================] - 0s 30ms/step - loss: 0.9574 - accuracy: 0.5602\n",
      "Epoch 23/500\n",
      "10/10 [==============================] - 0s 31ms/step - loss: 0.9446 - accuracy: 0.5618\n",
      "Epoch 24/500\n",
      "10/10 [==============================] - 0s 33ms/step - loss: 0.9471 - accuracy: 0.5599\n",
      "Epoch 25/500\n",
      "10/10 [==============================] - 0s 32ms/step - loss: 0.9440 - accuracy: 0.5720\n",
      "Epoch 26/500\n",
      "10/10 [==============================] - 0s 30ms/step - loss: 0.9414 - accuracy: 0.5674\n",
      "Epoch 27/500\n",
      "10/10 [==============================] - 0s 31ms/step - loss: 0.9455 - accuracy: 0.5622\n",
      "Epoch 28/500\n",
      "10/10 [==============================] - 0s 31ms/step - loss: 0.9471 - accuracy: 0.5513\n",
      "Epoch 29/500\n",
      "10/10 [==============================] - 0s 35ms/step - loss: 0.9459 - accuracy: 0.5694\n",
      "Epoch 30/500\n",
      "10/10 [==============================] - 0s 32ms/step - loss: 0.9393 - accuracy: 0.5704\n",
      "Epoch 31/500\n",
      "10/10 [==============================] - 0s 31ms/step - loss: 0.9397 - accuracy: 0.5707\n",
      "Epoch 32/500\n",
      "10/10 [==============================] - 0s 31ms/step - loss: 0.9493 - accuracy: 0.5622\n",
      "Epoch 33/500\n",
      "10/10 [==============================] - 0s 32ms/step - loss: 0.9394 - accuracy: 0.5602\n",
      "Epoch 34/500\n",
      "10/10 [==============================] - 0s 30ms/step - loss: 0.9329 - accuracy: 0.5714\n",
      "Epoch 35/500\n",
      "10/10 [==============================] - 0s 30ms/step - loss: 0.9316 - accuracy: 0.5737\n",
      "Epoch 36/500\n",
      "10/10 [==============================] - 0s 31ms/step - loss: 0.9432 - accuracy: 0.5648\n",
      "Epoch 37/500\n",
      "10/10 [==============================] - 0s 31ms/step - loss: 0.9320 - accuracy: 0.5727\n",
      "Epoch 38/500\n",
      "10/10 [==============================] - 0s 29ms/step - loss: 0.9364 - accuracy: 0.5717\n",
      "Epoch 39/500\n",
      "10/10 [==============================] - 0s 31ms/step - loss: 0.9365 - accuracy: 0.5638\n",
      "Epoch 40/500\n",
      "10/10 [==============================] - 0s 30ms/step - loss: 0.9270 - accuracy: 0.5743\n",
      "Epoch 41/500\n",
      "10/10 [==============================] - 0s 30ms/step - loss: 0.9352 - accuracy: 0.5704\n",
      "Epoch 42/500\n",
      "10/10 [==============================] - 0s 30ms/step - loss: 0.9304 - accuracy: 0.5773\n",
      "Epoch 43/500\n",
      "10/10 [==============================] - 0s 31ms/step - loss: 0.9306 - accuracy: 0.5770\n",
      "Epoch 44/500\n",
      "10/10 [==============================] - 0s 30ms/step - loss: 0.9301 - accuracy: 0.5753\n",
      "Epoch 45/500\n",
      "10/10 [==============================] - 0s 30ms/step - loss: 0.9266 - accuracy: 0.5770\n",
      "Epoch 46/500\n",
      "10/10 [==============================] - 0s 31ms/step - loss: 0.9192 - accuracy: 0.5776\n",
      "Epoch 47/500\n",
      "10/10 [==============================] - 0s 30ms/step - loss: 0.9250 - accuracy: 0.5770\n",
      "Epoch 48/500\n",
      "10/10 [==============================] - 0s 30ms/step - loss: 0.9223 - accuracy: 0.5711\n",
      "Epoch 49/500\n",
      "10/10 [==============================] - 0s 31ms/step - loss: 0.9356 - accuracy: 0.5635\n",
      "Epoch 50/500\n",
      "10/10 [==============================] - 0s 31ms/step - loss: 0.9236 - accuracy: 0.5878\n",
      "Epoch 51/500\n",
      "10/10 [==============================] - 0s 30ms/step - loss: 0.9217 - accuracy: 0.5773\n"
     ]
    },
    {
     "data": {
      "text/plain": [
       "<keras.callbacks.History at 0x56a3a7850>"
      ]
     },
     "execution_count": 103,
     "metadata": {},
     "output_type": "execute_result"
    }
   ],
   "source": [
    "# 65-67% Accuracy no Overfit\n",
    "model = k.models.Sequential(\n",
    "    [\n",
    "        k.layers.GRU(64, return_sequences=True),\n",
    "        k.layers.Dropout(0.4),\n",
    "        k.layers.Dense(1000, activation=\"relu\"),\n",
    "        k.layers.Dropout(0.3),\n",
    "        k.layers.Dense(250, activation=\"relu\"),\n",
    "        k.layers.Dropout(0.2),\n",
    "        k.layers.Dense(3, activation=\"softmax\")\n",
    "    ]\n",
    ")\n",
    "\n",
    "model.compile(\n",
    "    loss='categorical_crossentropy',\n",
    "    optimizer=tf.keras.optimizers.Adam(0.0001),\n",
    "    metrics=[\"accuracy\"]\n",
    ")\n",
    "\n",
    "callback = tf.keras.callbacks.EarlyStopping(monitor='loss', patience=5)\n",
    "\n",
    "model.fit(x_prova, y_prova, epochs=500, callbacks=[callback])"
   ]
  },
  {
   "cell_type": "code",
   "execution_count": 104,
   "metadata": {},
   "outputs": [
    {
     "name": "stderr",
     "output_type": "stream",
     "text": [
      "2022-11-09 18:18:30.512321: I tensorflow/core/grappler/optimizers/custom_graph_optimizer_registry.cc:114] Plugin optimizer for device_type GPU is enabled.\n",
      "2022-11-09 18:18:30.591054: I tensorflow/core/grappler/optimizers/custom_graph_optimizer_registry.cc:114] Plugin optimizer for device_type GPU is enabled.\n"
     ]
    },
    {
     "name": "stdout",
     "output_type": "stream",
     "text": [
      "4/4 [==============================] - 1s 93ms/step - loss: 0.9210 - accuracy: 0.5833\n"
     ]
    },
    {
     "data": {
      "text/plain": [
       "[0.9210423827171326, 0.5833333730697632]"
      ]
     },
     "execution_count": 104,
     "metadata": {},
     "output_type": "execute_result"
    }
   ],
   "source": [
    "model.evaluate(x_prova_test, y_prova_test)"
   ]
  },
  {
   "cell_type": "code",
   "execution_count": null,
   "metadata": {},
   "outputs": [],
   "source": [
    "print(x_prova_test.shape)\n",
    "result = model.predict(x_prova_test)\n",
    "print(result)"
   ]
  },
  {
   "cell_type": "code",
   "execution_count": 105,
   "metadata": {},
   "outputs": [
    {
     "name": "stderr",
     "output_type": "stream",
     "text": [
      "2022-11-09 18:18:33.964463: I tensorflow/core/grappler/optimizers/custom_graph_optimizer_registry.cc:114] Plugin optimizer for device_type GPU is enabled.\n",
      "2022-11-09 18:18:34.019677: I tensorflow/core/grappler/optimizers/custom_graph_optimizer_registry.cc:114] Plugin optimizer for device_type GPU is enabled.\n"
     ]
    },
    {
     "name": "stdout",
     "output_type": "stream",
     "text": [
      "4/4 [==============================] - 1s 62ms/step\n",
      "10/10 [==============================] - 0s 21ms/step\n",
      "              precision    recall  f1-score   support\n",
      "\n",
      "           A      0.576     0.614     0.595       345\n",
      "           D      0.287     0.161     0.207       254\n",
      "           H      0.655     0.762     0.704       541\n",
      "\n",
      "    accuracy                          0.583      1140\n",
      "   macro avg      0.506     0.512     0.502      1140\n",
      "weighted avg      0.549     0.583     0.560      1140\n",
      "\n"
     ]
    }
   ],
   "source": [
    "def revert_yoh(Y):\n",
    "    Y_new = np.empty([Y.shape[0],Y.shape[1]], dtype=\"<U1\")\n",
    "    #Y_new = np.zeros((Y.shape[0],Y.shape[1]))\n",
    "    for i in range(Y.shape[0]):\n",
    "        for j in range(Y.shape[1]):\n",
    "            if (Y[i, j] == 0):\n",
    "                Y_new[i, j]= 'A'\n",
    "            elif (Y[i, j] == 1):\n",
    "                Y_new[i, j]= 'D'\n",
    "            elif (Y[i, j] == 2):\n",
    "                Y_new[i, j]='H'\n",
    "    return Y_new\n",
    "\n",
    "y_pred = model.predict(x_prova_test)\n",
    "y_predm = np.asarray(y_pred)\n",
    "y_predm = np.argmax(y_predm, axis=2)\n",
    "y_testm = np.argmax(y_prova_test, axis=2)\n",
    "\n",
    "y_pred_train = model.predict(x_prova)\n",
    "y_pred_train = np.asarray(y_pred_train)\n",
    "y_predm_train = np.argmax(y_pred_train, axis=2)\n",
    "y_trainm = np.argmax(y_prova, axis = 2)\n",
    "\n",
    "y_predm = revert_yoh(y_predm).ravel()\n",
    "y_testm = revert_yoh(y_testm).ravel()\n",
    "\n",
    "y_predm_train = revert_yoh(y_predm_train).ravel()\n",
    "y_trainm = revert_yoh(y_trainm).ravel()\n",
    "\n",
    "#Model Metrics\n",
    "print(classification_report(y_testm, y_predm, digits=3))"
   ]
  },
  {
   "cell_type": "markdown",
   "metadata": {},
   "source": [
    "# Neural Network"
   ]
  },
  {
   "cell_type": "code",
   "execution_count": null,
   "metadata": {},
   "outputs": [],
   "source": [
    "y_nn = ((data[['ordinalHR']]).to_numpy()*2)\n",
    "#Split X and Y into training and Test Sets\n",
    "y_nn = OneHotEncoder(sparse=True).fit_transform(y_nn)\n",
    "x_train, x_test, y_train, y_test = train_test_split(X_imputed, y_nn, shuffle=True)"
   ]
  },
  {
   "cell_type": "code",
   "execution_count": null,
   "metadata": {},
   "outputs": [],
   "source": [
    "nn = k.models.Sequential([\n",
    "    k.layers.Input(shape=[x_train.shape[1]]),\n",
    "    k.layers.Flatten(),\n",
    "    k.layers.Dense(41, activation='relu'),\n",
    "    k.layers.Dense(75, activation='relu'),\n",
    "    k.layers.Dropout(0.3),\n",
    "    k.layers.Dense(3, activation='softmax'),\n",
    "])"
   ]
  },
  {
   "cell_type": "code",
   "execution_count": null,
   "metadata": {},
   "outputs": [],
   "source": [
    "learning_rate=0.01\n",
    "\n",
    "nn.compile(\n",
    "    loss='categorical_crossentropy',\n",
    "    optimizer=k.optimizers.Adam(learning_rate),\n",
    "    metrics=['categorical_accuracy']\n",
    ")\n",
    "nn.summary()"
   ]
  },
  {
   "cell_type": "code",
   "execution_count": null,
   "metadata": {},
   "outputs": [],
   "source": [
    "epochs=1000\n",
    "batch_size=50\n",
    "nn.fit(x_train, y_train, epochs=epochs, batch_size=batch_size)"
   ]
  },
  {
   "cell_type": "code",
   "execution_count": null,
   "metadata": {},
   "outputs": [],
   "source": [
    "print(nn.evaluate(x_test, y_test))"
   ]
  }
 ],
 "metadata": {
  "kernelspec": {
   "display_name": "Python 3.8.13 ('dlenv')",
   "language": "python",
   "name": "python3"
  },
  "language_info": {
   "codemirror_mode": {
    "name": "ipython",
    "version": 3
   },
   "file_extension": ".py",
   "mimetype": "text/x-python",
   "name": "python",
   "nbconvert_exporter": "python",
   "pygments_lexer": "ipython3",
   "version": "3.8.13"
  },
  "orig_nbformat": 4,
  "vscode": {
   "interpreter": {
    "hash": "e21d7e22773fa04c0c154aba3df5d14f691f6a46c7c50a4150a0567bbfb05b29"
   }
  }
 },
 "nbformat": 4,
 "nbformat_minor": 2
}
