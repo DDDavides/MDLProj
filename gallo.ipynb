{
 "cells": [
  {
   "cell_type": "markdown",
   "metadata": {},
   "source": [
    "# Import e funzioni ausiliarie"
   ]
  },
  {
   "cell_type": "code",
   "execution_count": 1,
   "metadata": {},
   "outputs": [],
   "source": [
    "from sklearn.model_selection import train_test_split\n",
    "from sklearn.metrics import classification_report\n",
    "from sklearn.model_selection import GridSearchCV\n",
    "\n",
    "from sklearn.preprocessing import OneHotEncoder\n",
    "from sklearn.impute import SimpleImputer\n",
    "\n",
    "from sklearn.svm import SVC, LinearSVC\n",
    "from sklearn.linear_model import SGDClassifier, RidgeClassifier\n",
    "from sklearn.ensemble import RandomForestClassifier, AdaBoostClassifier\n",
    "\n",
    "from tensorflow import keras as k\n",
    "\n",
    "import tensorflow as tf\n",
    "import pandas as pd\n",
    "import numpy as np\n",
    "\n",
    "# %pip install d2l==1.0.0a1.post0\n",
    "from d2l import tensorflow as d2l\n"
   ]
  },
  {
   "cell_type": "code",
   "execution_count": 2,
   "metadata": {},
   "outputs": [],
   "source": [
    "data = pd.read_csv('./input/dataset.csv')\n",
    "# dataImputed = pd.read_csv('./input/datasetImputed.csv')"
   ]
  },
  {
   "cell_type": "code",
   "execution_count": 3,
   "metadata": {},
   "outputs": [],
   "source": [
    "# è stata riscritta una funzione di reshape inutile \n",
    "# e.g. (a_prev=x_train, season=trn_ssn)\n",
    "def reshape_to_inputshape(a_prev,season):\n",
    "    totalMatches = len(season)*38\n",
    "    input_step = int(a_prev.shape[0]/totalMatches)\n",
    "    prev_f = a_prev.shape[1]\n",
    "    return np.reshape(a_prev, (totalMatches, input_step, prev_f))"
   ]
  },
  {
   "cell_type": "code",
   "execution_count": 4,
   "metadata": {},
   "outputs": [],
   "source": [
    "def encode(x):\n",
    "    if x == 0:\n",
    "        v = [1,0,0]\n",
    "    elif x == 1:\n",
    "        v = [0,1,0]\n",
    "    elif x == 2:\n",
    "        v = [0,0,1]\n",
    "    return v\n",
    "\n",
    "def encode_list(l):\n",
    "    r = []\n",
    "    for i in l:\n",
    "        r.append(encode(i))\n",
    "    return r"
   ]
  },
  {
   "cell_type": "code",
   "execution_count": 5,
   "metadata": {},
   "outputs": [],
   "source": [
    "def report(model, x_train, y_train, x_test, y_test, encoder):\n",
    "    # TRAIN\n",
    "    y_pred_train = model.predict(x_train)\n",
    "    y_predm_train = np.asarray(y_pred_train)\n",
    "    y_predm_train = np.argmax(y_predm_train, axis=2)\n",
    "    y_predm_train = encode_list(y_predm_train.reshape(-1))\n",
    "    y_predm_train = np.array(y_predm_train)\n",
    "\n",
    "    y_trainm = np.argmax(y_train, axis = 2)\n",
    "    y_trainm = encode_list(y_trainm.reshape(-1))\n",
    "    y_trainm = np.array(y_trainm)\n",
    "\n",
    "    # Inverse One-hot transform - TRAIN\n",
    "    y_predm_train = encoder.inverse_transform(y_predm_train)\n",
    "    y_trainm = encoder.inverse_transform(y_trainm)\n",
    "\n",
    "    # TEST\n",
    "    y_pred = model.predict(x_test)\n",
    "    y_predm = np.asarray(y_pred)\n",
    "    y_predm = np.argmax(y_predm, axis=2)\n",
    "    y_predm = encode_list(y_predm.reshape(-1))\n",
    "    y_predm = np.array(y_predm)\n",
    "    \n",
    "    y_testm = np.argmax(y_test, axis=2)\n",
    "    y_testm = encode_list(y_testm.reshape(-1))\n",
    "    y_testm = np.array(y_testm)\n",
    "\n",
    "    # Inverse One-hot transform - TEST\n",
    "    y_predm = encoder.inverse_transform(y_predm)\n",
    "    y_testm = encoder.inverse_transform(y_testm)\n",
    "\n",
    "    #Model Metrics test\n",
    "    print(\"TEST REPORT\")\n",
    "    print(classification_report(y_testm, y_predm, digits=3))\n",
    "    print(\"--------------------------------------------------\")\n",
    "\n",
    "    #Model Metrics train\n",
    "    print(\"TRAINING REPORT\")\n",
    "    print(classification_report(y_trainm, y_predm_train, digits=3))\n",
    "    print(\"--------------------------------------------------\")"
   ]
  },
  {
   "cell_type": "markdown",
   "metadata": {},
   "source": [
    "# Preprocessamento dati"
   ]
  },
  {
   "cell_type": "code",
   "execution_count": 6,
   "metadata": {},
   "outputs": [],
   "source": [
    "features = ['HomeTeam', 'AwayTeam', \n",
    "            'HTeamEloScore', 'ATeamEloScore', \n",
    "            'HTdaysSinceLastMatch', 'ATdaysSinceLastMatch', \n",
    "            'HTW_rate', 'ATW_rate', 'ATD_rate', 'HTD_rate', \n",
    "            '7_HTW_rate', '12_HTW_rate', '7_ATW_rate', '12_ATW_rate', \n",
    "            '7_HTD_rate', '12_HTD_rate', '7_ATD_rate', '12_ATD_rate',\n",
    "            '7_HTL_rate', '12_HTL_rate', '7_ATL_rate', '12_ATL_rate',\n",
    "            '5_HTHW_rate', '5_ATAW_rate']\n",
    "\n",
    "X = pd.get_dummies(data[features])\n",
    "\n",
    "# Se non cambiamo nulla il OneHotEncoder assegna:\n",
    "# A -> 1 0 0\n",
    "# D -> 0 1 0\n",
    "# H -> 0 0 1\n",
    "y = data[['FTR']].to_numpy().ravel().reshape(-1, 1)\n",
    "enc = OneHotEncoder(sparse=False)\n",
    "y = enc.fit_transform(y)\n",
    "X_imputed = SimpleImputer().fit_transform(X)\n"
   ]
  },
  {
   "cell_type": "code",
   "execution_count": 7,
   "metadata": {},
   "outputs": [],
   "source": [
    "trn_ssn = [2008, 2009, 2010, 2011, 2012, 2013, 2014, 2015]\n",
    "trn_ssn_len = len(trn_ssn)\n",
    "tst_ssn = [2016,2017,2018] \n",
    "tst_ssn_len = len(tst_ssn)\n",
    "\n",
    "test_size = float(tst_ssn_len)/(tst_ssn_len+trn_ssn_len)\n",
    "\n",
    "#Split X and Y into training and Test Sets\n",
    "x_train, x_test, y_train, y_test = train_test_split(X_imputed, y, shuffle=False, test_size=test_size)"
   ]
  },
  {
   "cell_type": "markdown",
   "metadata": {},
   "source": [
    "# RandomForestClassifier"
   ]
  },
  {
   "cell_type": "code",
   "execution_count": 8,
   "metadata": {},
   "outputs": [
    {
     "name": "stdout",
     "output_type": "stream",
     "text": [
      "Forest Classifier\n",
      "Train Score:  0.6302631578947369\n",
      "Test Score:  0.22017543859649122\n"
     ]
    }
   ],
   "source": [
    "forest = RandomForestClassifier(n_estimators=2, random_state=2)\n",
    "forest = forest.fit(x_train, y_train)\n",
    "\n",
    "\n",
    "#Forest Model Metrics\n",
    "print(\"Forest Classifier\")\n",
    "print(\"Train Score: \", forest.score(x_train, y_train))\n",
    "print(\"Test Score: \", forest.score(x_test, y_test))"
   ]
  },
  {
   "cell_type": "code",
   "execution_count": 9,
   "metadata": {},
   "outputs": [
    {
     "name": "stdout",
     "output_type": "stream",
     "text": [
      "Forest Classifiers Best Score:  0.4305921052631579\n",
      "Forest Classifiers Best Params:  {'max_depth': 8, 'n_estimators': 1, 'random_state': 1}\n",
      "Forest Classifiers Best Params:  RandomForestClassifier(max_depth=8, n_estimators=1, random_state=1)\n"
     ]
    }
   ],
   "source": [
    "n = 10\n",
    "m = 5\n",
    "max_depth = 10\n",
    "forests = []\n",
    "grid = [{\"n_estimators\": list(range(1, n)), \"random_state\": list(range(0, m)), \"max_depth\": list(range(1, max_depth))}]\n",
    "gridSearch = GridSearchCV(RandomForestClassifier(), param_grid=grid, n_jobs=10, return_train_score=True)\n",
    "gridSearch.fit(x_train, y_train)\n",
    "\n",
    "print(\"Forest Classifiers Best Score: \", gridSearch.best_score_)\n",
    "print(\"Forest Classifiers Best Params: \", gridSearch.best_params_)\n",
    "print(\"Forest Classifiers Best Params: \", gridSearch.best_estimator_)"
   ]
  },
  {
   "cell_type": "markdown",
   "metadata": {},
   "source": [
    "# Neural Network"
   ]
  },
  {
   "cell_type": "code",
   "execution_count": 10,
   "metadata": {},
   "outputs": [],
   "source": [
    "y_nn = ((data[['ordinalHR']]).to_numpy()*2)\n",
    "#Split X and Y into training and Test Sets\n",
    "# y_nn = OneHotEncoder(sparse=True).fit_transform(y_nn)\n",
    "x_train_nn, x_test_nn, y_train_nn, y_test_nn = train_test_split(X_imputed, y_nn, shuffle=True)"
   ]
  },
  {
   "cell_type": "code",
   "execution_count": 11,
   "metadata": {},
   "outputs": [
    {
     "name": "stdout",
     "output_type": "stream",
     "text": [
      "Metal device set to: Apple M1 Pro\n",
      "\n",
      "systemMemory: 16.00 GB\n",
      "maxCacheSize: 5.33 GB\n",
      "\n"
     ]
    },
    {
     "name": "stderr",
     "output_type": "stream",
     "text": [
      "2022-11-13 15:14:27.384024: I tensorflow/core/common_runtime/pluggable_device/pluggable_device_factory.cc:306] Could not identify NUMA node of platform GPU ID 0, defaulting to 0. Your kernel may not have been built with NUMA support.\n",
      "2022-11-13 15:14:27.384148: I tensorflow/core/common_runtime/pluggable_device/pluggable_device_factory.cc:272] Created TensorFlow device (/job:localhost/replica:0/task:0/device:GPU:0 with 0 MB memory) -> physical PluggableDevice (device: 0, name: METAL, pci bus id: <undefined>)\n"
     ]
    }
   ],
   "source": [
    "nn = k.models.Sequential([\n",
    "    k.layers.Flatten(),\n",
    "    k.layers.Dense(41, activation='relu'),\n",
    "    k.layers.Dense(75, activation='relu'),\n",
    "    k.layers.Dropout(0.3),\n",
    "    k.layers.Dense(3, activation='softmax'),\n",
    "])"
   ]
  },
  {
   "cell_type": "code",
   "execution_count": 12,
   "metadata": {},
   "outputs": [
    {
     "name": "stdout",
     "output_type": "stream",
     "text": [
      "Model: \"sequential\"\n",
      "_________________________________________________________________\n",
      " Layer (type)                Output Shape              Param #   \n",
      "=================================================================\n",
      " flatten (Flatten)           (3135, 94)                0         \n",
      "                                                                 \n",
      " dense (Dense)               (3135, 41)                3895      \n",
      "                                                                 \n",
      " dense_1 (Dense)             (3135, 75)                3150      \n",
      "                                                                 \n",
      " dropout (Dropout)           (3135, 75)                0         \n",
      "                                                                 \n",
      " dense_2 (Dense)             (3135, 3)                 228       \n",
      "                                                                 \n",
      "=================================================================\n",
      "Total params: 7,273\n",
      "Trainable params: 7,273\n",
      "Non-trainable params: 0\n",
      "_________________________________________________________________\n"
     ]
    }
   ],
   "source": [
    "learning_rate=0.01\n",
    "\n",
    "nn.compile(\n",
    "    loss='sparse_categorical_crossentropy',\n",
    "    optimizer=k.optimizers.Adam(learning_rate),\n",
    "    metrics=['accuracy']\n",
    ")\n",
    "nn(x_train_nn)\n",
    "nn.summary()"
   ]
  },
  {
   "cell_type": "code",
   "execution_count": 13,
   "metadata": {},
   "outputs": [
    {
     "name": "stdout",
     "output_type": "stream",
     "text": [
      "Epoch 1/10\n"
     ]
    },
    {
     "name": "stderr",
     "output_type": "stream",
     "text": [
      "2022-11-13 15:14:27.610407: W tensorflow/core/platform/profile_utils/cpu_utils.cc:128] Failed to get CPU frequency: 0 Hz\n",
      "2022-11-13 15:14:27.808556: I tensorflow/core/grappler/optimizers/custom_graph_optimizer_registry.cc:114] Plugin optimizer for device_type GPU is enabled.\n"
     ]
    },
    {
     "name": "stdout",
     "output_type": "stream",
     "text": [
      "63/63 [==============================] - 1s 7ms/step - loss: 2.2527 - accuracy: 0.4931\n",
      "Epoch 2/10\n",
      "63/63 [==============================] - 0s 6ms/step - loss: 0.9570 - accuracy: 0.5617\n",
      "Epoch 3/10\n",
      "63/63 [==============================] - 0s 6ms/step - loss: 0.9497 - accuracy: 0.5662\n",
      "Epoch 4/10\n",
      "63/63 [==============================] - 0s 6ms/step - loss: 0.9446 - accuracy: 0.5630\n",
      "Epoch 5/10\n",
      "63/63 [==============================] - 0s 6ms/step - loss: 0.9424 - accuracy: 0.5608\n",
      "Epoch 6/10\n",
      "63/63 [==============================] - 0s 6ms/step - loss: 0.9377 - accuracy: 0.5598\n",
      "Epoch 7/10\n",
      "63/63 [==============================] - 0s 6ms/step - loss: 0.9459 - accuracy: 0.5675\n",
      "Epoch 8/10\n",
      "63/63 [==============================] - 0s 6ms/step - loss: 0.9434 - accuracy: 0.5592\n",
      "Epoch 9/10\n",
      "63/63 [==============================] - 0s 6ms/step - loss: 0.9458 - accuracy: 0.5569\n",
      "Epoch 10/10\n",
      "63/63 [==============================] - 0s 6ms/step - loss: 0.9418 - accuracy: 0.5553\n"
     ]
    },
    {
     "data": {
      "text/plain": [
       "<keras.callbacks.History at 0x176457550>"
      ]
     },
     "execution_count": 13,
     "metadata": {},
     "output_type": "execute_result"
    }
   ],
   "source": [
    "epochs=10\n",
    "batch_size=50\n",
    "nn.fit(x_train_nn, y_train_nn, epochs=epochs, batch_size=batch_size)"
   ]
  },
  {
   "cell_type": "code",
   "execution_count": 14,
   "metadata": {},
   "outputs": [
    {
     "name": "stdout",
     "output_type": "stream",
     "text": [
      "23/33 [===================>..........] - ETA: 0s - loss: 0.9284 - accuracy: 0.5639"
     ]
    },
    {
     "name": "stderr",
     "output_type": "stream",
     "text": [
      "2022-11-13 15:14:32.040678: I tensorflow/core/grappler/optimizers/custom_graph_optimizer_registry.cc:114] Plugin optimizer for device_type GPU is enabled.\n"
     ]
    },
    {
     "name": "stdout",
     "output_type": "stream",
     "text": [
      "33/33 [==============================] - 0s 5ms/step - loss: 0.9098 - accuracy: 0.5780\n",
      "[0.9098198413848877, 0.5779904127120972]\n"
     ]
    }
   ],
   "source": [
    "print(nn.evaluate(x_test_nn, y_test_nn))"
   ]
  },
  {
   "cell_type": "markdown",
   "metadata": {},
   "source": [
    "# Lstm preprocessing"
   ]
  },
  {
   "cell_type": "code",
   "execution_count": 40,
   "metadata": {},
   "outputs": [
    {
     "name": "stdout",
     "output_type": "stream",
     "text": [
      "10\n",
      "10\n"
     ]
    }
   ],
   "source": [
    "#Setup XY to have 10 game steps\n",
    "x_train_lstm = reshape_to_inputshape(x_train,trn_ssn)\n",
    "y_train_lstm = reshape_to_inputshape(y_train,trn_ssn)\n",
    "# y_train = np.moveaxis(y_train, 0, 1)\n",
    "\n",
    "x_test_lstm = reshape_to_inputshape(x_test,tst_ssn)\n",
    "y_test_lstm = reshape_to_inputshape(y_test,tst_ssn)\n",
    "# y_test = np.moveaxis(y_test, 0, 1)\n",
    "\n",
    "Tx = x_train_lstm.shape[1] #Time steps\n",
    "print(Tx)\n",
    "Ty = y_train_lstm.shape[1] #Time Steps\n",
    "print(Ty)\n",
    "\n",
    "num_features = x_train_lstm.shape[2] #Features per step\n",
    "inputs = tf.keras.Input(shape=(Tx, num_features))"
   ]
  },
  {
   "cell_type": "markdown",
   "metadata": {},
   "source": [
    "# LSTM"
   ]
  },
  {
   "cell_type": "code",
   "execution_count": 16,
   "metadata": {},
   "outputs": [],
   "source": [
    "model_path = './models/lstm/'\n",
    "# Check se il modello è già salvato\n",
    "model = k.models.load_model(model_path)\n",
    "if model == None:\n",
    "    model = k.models.Sequential(\n",
    "        [\n",
    "            k.layers.LSTM(64, return_sequences=True),\n",
    "            k.layers.Dropout(0.4),\n",
    "            k.layers.Dense(1000, activation=\"relu\"),\n",
    "            k.layers.Dropout(0.3),\n",
    "            k.layers.Dense(250, activation=\"relu\"),\n",
    "            k.layers.Dropout(0.2),\n",
    "            k.layers.Dense(3, activation=\"softmax\")\n",
    "        ]\n",
    "    )\n",
    "\n",
    "    model.compile(\n",
    "        loss='categorical_crossentropy',\n",
    "        optimizer=tf.keras.optimizers.Adam(0.0001),\n",
    "        metrics=[\"accuracy\"]\n",
    "    )\n",
    "\n",
    "    callback = tf.keras.callbacks.EarlyStopping(monitor='loss', patience=5)\n",
    "\n",
    "    model.fit(x_train_lstm, y_train_lstm, epochs=10, callbacks=[callback])\n",
    "    model.save('./models/lstm')"
   ]
  },
  {
   "cell_type": "code",
   "execution_count": 17,
   "metadata": {},
   "outputs": [
    {
     "name": "stdout",
     "output_type": "stream",
     "text": [
      "1/4 [======>.......................] - ETA: 1s - loss: 0.9114 - accuracy: 0.5844"
     ]
    },
    {
     "name": "stderr",
     "output_type": "stream",
     "text": [
      "2022-11-13 15:14:35.926440: I tensorflow/core/grappler/optimizers/custom_graph_optimizer_registry.cc:114] Plugin optimizer for device_type GPU is enabled.\n",
      "2022-11-13 15:14:35.992713: I tensorflow/core/grappler/optimizers/custom_graph_optimizer_registry.cc:114] Plugin optimizer for device_type GPU is enabled.\n"
     ]
    },
    {
     "name": "stdout",
     "output_type": "stream",
     "text": [
      "4/4 [==============================] - 0s 25ms/step - loss: 0.9122 - accuracy: 0.5877\n",
      " 7/10 [====================>.........] - ETA: 0s"
     ]
    },
    {
     "name": "stderr",
     "output_type": "stream",
     "text": [
      "2022-11-13 15:14:36.381910: I tensorflow/core/grappler/optimizers/custom_graph_optimizer_registry.cc:114] Plugin optimizer for device_type GPU is enabled.\n",
      "2022-11-13 15:14:36.431515: I tensorflow/core/grappler/optimizers/custom_graph_optimizer_registry.cc:114] Plugin optimizer for device_type GPU is enabled.\n"
     ]
    },
    {
     "name": "stdout",
     "output_type": "stream",
     "text": [
      "10/10 [==============================] - 0s 12ms/step\n",
      "4/4 [==============================] - 0s 16ms/step\n",
      "TEST REPORT\n",
      "              precision    recall  f1-score   support\n",
      "\n",
      "           A      0.577     0.643     0.608       345\n",
      "           D      0.287     0.114     0.163       254\n",
      "           H      0.641     0.774     0.701       541\n",
      "\n",
      "    accuracy                          0.588      1140\n",
      "   macro avg      0.501     0.511     0.491      1140\n",
      "weighted avg      0.543     0.588     0.553      1140\n",
      "\n",
      "--------------------------------------------------\n",
      "TRAINING REPORT\n",
      "              precision    recall  f1-score   support\n",
      "\n",
      "           A      0.515     0.640     0.571       867\n",
      "           D      0.419     0.126     0.194       783\n",
      "           H      0.625     0.776     0.693      1390\n",
      "\n",
      "    accuracy                          0.570      3040\n",
      "   macro avg      0.520     0.514     0.486      3040\n",
      "weighted avg      0.541     0.570     0.529      3040\n",
      "\n",
      "--------------------------------------------------\n"
     ]
    }
   ],
   "source": [
    "model.evaluate(x_test_lstm, y_test_lstm)\n",
    "report(model, x_train_lstm, y_train_lstm, x_test_lstm, y_test_lstm, enc)"
   ]
  },
  {
   "cell_type": "markdown",
   "metadata": {},
   "source": [
    "## 2 LSTM concatenate + dense e dropout in sequenza"
   ]
  },
  {
   "cell_type": "code",
   "execution_count": 18,
   "metadata": {},
   "outputs": [
    {
     "name": "stdout",
     "output_type": "stream",
     "text": [
      "WARNING:tensorflow:Layer lstm will not use cuDNN kernels since it doesn't meet the criteria. It will use a generic GPU kernel as fallback when running on GPU.\n",
      "WARNING:tensorflow:Layer lstm_1 will not use cuDNN kernels since it doesn't meet the criteria. It will use a generic GPU kernel as fallback when running on GPU.\n"
     ]
    }
   ],
   "source": [
    "inputs = k.layers.Input(shape=(10,94))\n",
    "lstm1 = k.layers.LSTM(100, return_sequences=True, activation=\"relu\")(inputs)\n",
    "lstm2 = k.layers.LSTM(50, return_sequences=True, activation=\"relu\")(inputs)\n",
    "concateneted = k.layers.Concatenate()([\n",
    "    lstm1,\n",
    "    lstm2\n",
    "])\n",
    "\n",
    "out = k.layers.Dropout(0.5)(concateneted)\n",
    "out = k.layers.Dense(1000, activation=\"relu\")(out)\n",
    "out = k.layers.Dropout(0.5)(out)\n",
    "out = k.layers.Dense(250, activation=\"relu\")(out)\n",
    "out = k.layers.Dropout(0.5)(out)\n",
    "out = k.layers.Dense(3, activation=\"softmax\")(out)\n",
    "\n",
    "model = k.models.Model(inputs=inputs, outputs=out)"
   ]
  },
  {
   "cell_type": "code",
   "execution_count": 19,
   "metadata": {},
   "outputs": [
    {
     "name": "stdout",
     "output_type": "stream",
     "text": [
      "Model: \"model\"\n",
      "__________________________________________________________________________________________________\n",
      " Layer (type)                   Output Shape         Param #     Connected to                     \n",
      "==================================================================================================\n",
      " input_2 (InputLayer)           [(None, 10, 94)]     0           []                               \n",
      "                                                                                                  \n",
      " lstm (LSTM)                    (None, 10, 100)      78000       ['input_2[0][0]']                \n",
      "                                                                                                  \n",
      " lstm_1 (LSTM)                  (None, 10, 50)       29000       ['input_2[0][0]']                \n",
      "                                                                                                  \n",
      " concatenate (Concatenate)      (None, 10, 150)      0           ['lstm[0][0]',                   \n",
      "                                                                  'lstm_1[0][0]']                 \n",
      "                                                                                                  \n",
      " dropout_1 (Dropout)            (None, 10, 150)      0           ['concatenate[0][0]']            \n",
      "                                                                                                  \n",
      " dense_3 (Dense)                (None, 10, 1000)     151000      ['dropout_1[0][0]']              \n",
      "                                                                                                  \n",
      " dropout_2 (Dropout)            (None, 10, 1000)     0           ['dense_3[0][0]']                \n",
      "                                                                                                  \n",
      " dense_4 (Dense)                (None, 10, 250)      250250      ['dropout_2[0][0]']              \n",
      "                                                                                                  \n",
      " dropout_3 (Dropout)            (None, 10, 250)      0           ['dense_4[0][0]']                \n",
      "                                                                                                  \n",
      " dense_5 (Dense)                (None, 10, 3)        753         ['dropout_3[0][0]']              \n",
      "                                                                                                  \n",
      "==================================================================================================\n",
      "Total params: 509,003\n",
      "Trainable params: 509,003\n",
      "Non-trainable params: 0\n",
      "__________________________________________________________________________________________________\n"
     ]
    }
   ],
   "source": [
    "model.summary()"
   ]
  },
  {
   "cell_type": "code",
   "execution_count": 21,
   "metadata": {},
   "outputs": [
    {
     "name": "stdout",
     "output_type": "stream",
     "text": [
      "Epoch 1/500\n"
     ]
    },
    {
     "name": "stderr",
     "output_type": "stream",
     "text": [
      "2022-11-13 15:15:34.303184: I tensorflow/core/grappler/optimizers/custom_graph_optimizer_registry.cc:114] Plugin optimizer for device_type GPU is enabled.\n"
     ]
    },
    {
     "name": "stdout",
     "output_type": "stream",
     "text": [
      "10/10 [==============================] - 4s 235ms/step - loss: 1.2438 - accuracy: 0.4954\n",
      "Epoch 2/500\n",
      "10/10 [==============================] - 2s 218ms/step - loss: 1.1790 - accuracy: 0.5026\n",
      "Epoch 3/500\n",
      "10/10 [==============================] - 2s 213ms/step - loss: 1.1642 - accuracy: 0.5049\n",
      "Epoch 4/500\n",
      "10/10 [==============================] - 2s 210ms/step - loss: 1.1169 - accuracy: 0.5181\n",
      "Epoch 5/500\n",
      "10/10 [==============================] - 2s 213ms/step - loss: 1.1297 - accuracy: 0.5201\n",
      "Epoch 6/500\n",
      "10/10 [==============================] - 2s 240ms/step - loss: 1.1016 - accuracy: 0.5188\n",
      "Epoch 7/500\n",
      "10/10 [==============================] - 2s 244ms/step - loss: 1.1094 - accuracy: 0.5211\n",
      "Epoch 8/500\n",
      "10/10 [==============================] - 2s 238ms/step - loss: 1.0991 - accuracy: 0.5102\n",
      "Epoch 9/500\n",
      "10/10 [==============================] - 2s 230ms/step - loss: 1.0866 - accuracy: 0.5224\n",
      "Epoch 10/500\n",
      "10/10 [==============================] - 2s 222ms/step - loss: 1.0585 - accuracy: 0.5240\n",
      "Epoch 11/500\n",
      "10/10 [==============================] - 2s 230ms/step - loss: 1.0403 - accuracy: 0.5289\n",
      "Epoch 12/500\n",
      "10/10 [==============================] - 2s 217ms/step - loss: 1.0320 - accuracy: 0.5378\n",
      "Epoch 13/500\n",
      "10/10 [==============================] - 2s 217ms/step - loss: 1.0451 - accuracy: 0.5135\n",
      "Epoch 14/500\n",
      "10/10 [==============================] - 2s 227ms/step - loss: 1.0177 - accuracy: 0.5263\n",
      "Epoch 15/500\n",
      "10/10 [==============================] - 2s 215ms/step - loss: 1.0259 - accuracy: 0.5365\n",
      "Epoch 16/500\n",
      "10/10 [==============================] - 2s 223ms/step - loss: 1.0478 - accuracy: 0.5257\n",
      "Epoch 17/500\n",
      "10/10 [==============================] - 2s 231ms/step - loss: 0.9953 - accuracy: 0.5493\n",
      "Epoch 18/500\n",
      "10/10 [==============================] - 2s 250ms/step - loss: 1.0012 - accuracy: 0.5487\n",
      "Epoch 19/500\n",
      "10/10 [==============================] - 2s 225ms/step - loss: 0.9904 - accuracy: 0.5438\n",
      "Epoch 20/500\n",
      "10/10 [==============================] - 2s 225ms/step - loss: 0.9691 - accuracy: 0.5464\n",
      "Epoch 21/500\n",
      "10/10 [==============================] - 2s 226ms/step - loss: 0.9809 - accuracy: 0.5507\n",
      "Epoch 22/500\n",
      "10/10 [==============================] - 2s 211ms/step - loss: 0.9779 - accuracy: 0.5513\n",
      "Epoch 23/500\n",
      "10/10 [==============================] - 2s 215ms/step - loss: 0.9807 - accuracy: 0.5424\n",
      "Epoch 24/500\n",
      "10/10 [==============================] - 2s 238ms/step - loss: 0.9734 - accuracy: 0.5490\n",
      "Epoch 25/500\n",
      "10/10 [==============================] - 2s 240ms/step - loss: 0.9758 - accuracy: 0.5444\n"
     ]
    },
    {
     "data": {
      "text/plain": [
       "<keras.callbacks.History at 0x2e01b2460>"
      ]
     },
     "execution_count": 21,
     "metadata": {},
     "output_type": "execute_result"
    }
   ],
   "source": [
    "model.compile(\n",
    "    loss='categorical_crossentropy',\n",
    "    optimizer=tf.keras.optimizers.Adam(0.0001),\n",
    "    metrics=[\"accuracy\"]\n",
    ")\n",
    "\n",
    "callback = tf.keras.callbacks.EarlyStopping(monitor='loss', patience=5)\n",
    "\n",
    "model.fit(x_train_lstm, y_train_lstm, epochs=500, callbacks=[callback])"
   ]
  },
  {
   "cell_type": "code",
   "execution_count": 22,
   "metadata": {},
   "outputs": [
    {
     "name": "stderr",
     "output_type": "stream",
     "text": [
      "2022-11-13 15:16:36.444582: I tensorflow/core/grappler/optimizers/custom_graph_optimizer_registry.cc:114] Plugin optimizer for device_type GPU is enabled.\n"
     ]
    },
    {
     "name": "stdout",
     "output_type": "stream",
     "text": [
      "4/4 [==============================] - 1s 65ms/step - loss: 0.9724 - accuracy: 0.5763\n",
      " 1/10 [==>...........................] - ETA: 4s"
     ]
    },
    {
     "name": "stderr",
     "output_type": "stream",
     "text": [
      "2022-11-13 15:16:37.129887: I tensorflow/core/grappler/optimizers/custom_graph_optimizer_registry.cc:114] Plugin optimizer for device_type GPU is enabled.\n"
     ]
    },
    {
     "name": "stdout",
     "output_type": "stream",
     "text": [
      "10/10 [==============================] - 1s 41ms/step\n",
      "4/4 [==============================] - 0s 53ms/step\n",
      "TEST REPORT\n",
      "              precision    recall  f1-score   support\n",
      "\n",
      "           A      0.588     0.620     0.604       345\n",
      "           D      0.297     0.228     0.258       254\n",
      "           H      0.663     0.712     0.686       541\n",
      "\n",
      "    accuracy                          0.576      1140\n",
      "   macro avg      0.516     0.520     0.516      1140\n",
      "weighted avg      0.559     0.576     0.566      1140\n",
      "\n",
      "--------------------------------------------------\n",
      "TRAINING REPORT\n",
      "              precision    recall  f1-score   support\n",
      "\n",
      "           A      0.527     0.582     0.553       867\n",
      "           D      0.400     0.245     0.304       783\n",
      "           H      0.644     0.742     0.689      1390\n",
      "\n",
      "    accuracy                          0.568      3040\n",
      "   macro avg      0.524     0.523     0.516      3040\n",
      "weighted avg      0.548     0.568     0.551      3040\n",
      "\n",
      "--------------------------------------------------\n"
     ]
    }
   ],
   "source": [
    "model.evaluate(x_test_lstm, y_test_lstm)\n",
    "report(model, x_train_lstm, y_train_lstm, x_test_lstm, y_test_lstm, enc)"
   ]
  },
  {
   "cell_type": "markdown",
   "metadata": {},
   "source": [
    "### Fit\n",
    "loss: 0.9373 - accuracy: 0.5609\n",
    "### Evaluate\n",
    "loss: 0.9192 - accuracy: 0.5930\n",
    "### Classification report\n",
    "\n",
    "| | precision | recall | f1-score | support |\n",
    "| - | ----------- | ------ | -------- | ------- |\n",
    "| A | 0.609 | 0.614 | 0.612 | 345 |\n",
    "| D | 0.321 | 0.201 | 0.247 | 254 |\n",
    "| H | 0.652 | 0.763 | 0.704 | 541 |\n",
    "| accuracy | |  | 0.593 | 1140 |\n",
    "| macro avg | 0.527 | 0.526 | 0.521 | 1140 |\n",
    "| weighted avg | 0.565 | 0.593 | 0.574 | 1140 |"
   ]
  },
  {
   "cell_type": "markdown",
   "metadata": {},
   "source": [
    "## LSTM in parallelo"
   ]
  },
  {
   "cell_type": "code",
   "execution_count": 23,
   "metadata": {},
   "outputs": [],
   "source": [
    "inputs = k.layers.Input(shape=(10,94))\n",
    "x = []\n",
    "for t in range(Tx):\n",
    "    module = k.layers.LSTM((t+1)*10, return_sequences=True)(inputs)\n",
    "    module = k.layers.Dropout(0.7)(module)\n",
    "    x.append(module)\n",
    "x = k.layers.Concatenate()(x)\n",
    "\n",
    "out = k.layers.Dense(1000, activation=\"relu\")(x)\n",
    "out = k.layers.Dropout(0.7)(out)\n",
    "out = k.layers.Dense(250, activation=\"relu\")(out)\n",
    "out = k.layers.Dense(3, activation=\"softmax\")(out)\n",
    "\n",
    "txLstm = k.models.Model(inputs=inputs, outputs=out)"
   ]
  },
  {
   "cell_type": "code",
   "execution_count": 24,
   "metadata": {},
   "outputs": [
    {
     "name": "stdout",
     "output_type": "stream",
     "text": [
      "Model: \"model_1\"\n",
      "__________________________________________________________________________________________________\n",
      " Layer (type)                   Output Shape         Param #     Connected to                     \n",
      "==================================================================================================\n",
      " input_3 (InputLayer)           [(None, 10, 94)]     0           []                               \n",
      "                                                                                                  \n",
      " lstm_2 (LSTM)                  (None, 10, 10)       4200        ['input_3[0][0]']                \n",
      "                                                                                                  \n",
      " lstm_3 (LSTM)                  (None, 10, 20)       9200        ['input_3[0][0]']                \n",
      "                                                                                                  \n",
      " lstm_4 (LSTM)                  (None, 10, 30)       15000       ['input_3[0][0]']                \n",
      "                                                                                                  \n",
      " lstm_5 (LSTM)                  (None, 10, 40)       21600       ['input_3[0][0]']                \n",
      "                                                                                                  \n",
      " lstm_6 (LSTM)                  (None, 10, 50)       29000       ['input_3[0][0]']                \n",
      "                                                                                                  \n",
      " lstm_7 (LSTM)                  (None, 10, 60)       37200       ['input_3[0][0]']                \n",
      "                                                                                                  \n",
      " lstm_8 (LSTM)                  (None, 10, 70)       46200       ['input_3[0][0]']                \n",
      "                                                                                                  \n",
      " lstm_9 (LSTM)                  (None, 10, 80)       56000       ['input_3[0][0]']                \n",
      "                                                                                                  \n",
      " lstm_10 (LSTM)                 (None, 10, 90)       66600       ['input_3[0][0]']                \n",
      "                                                                                                  \n",
      " lstm_11 (LSTM)                 (None, 10, 100)      78000       ['input_3[0][0]']                \n",
      "                                                                                                  \n",
      " dropout_4 (Dropout)            (None, 10, 10)       0           ['lstm_2[0][0]']                 \n",
      "                                                                                                  \n",
      " dropout_5 (Dropout)            (None, 10, 20)       0           ['lstm_3[0][0]']                 \n",
      "                                                                                                  \n",
      " dropout_6 (Dropout)            (None, 10, 30)       0           ['lstm_4[0][0]']                 \n",
      "                                                                                                  \n",
      " dropout_7 (Dropout)            (None, 10, 40)       0           ['lstm_5[0][0]']                 \n",
      "                                                                                                  \n",
      " dropout_8 (Dropout)            (None, 10, 50)       0           ['lstm_6[0][0]']                 \n",
      "                                                                                                  \n",
      " dropout_9 (Dropout)            (None, 10, 60)       0           ['lstm_7[0][0]']                 \n",
      "                                                                                                  \n",
      " dropout_10 (Dropout)           (None, 10, 70)       0           ['lstm_8[0][0]']                 \n",
      "                                                                                                  \n",
      " dropout_11 (Dropout)           (None, 10, 80)       0           ['lstm_9[0][0]']                 \n",
      "                                                                                                  \n",
      " dropout_12 (Dropout)           (None, 10, 90)       0           ['lstm_10[0][0]']                \n",
      "                                                                                                  \n",
      " dropout_13 (Dropout)           (None, 10, 100)      0           ['lstm_11[0][0]']                \n",
      "                                                                                                  \n",
      " concatenate_1 (Concatenate)    (None, 10, 550)      0           ['dropout_4[0][0]',              \n",
      "                                                                  'dropout_5[0][0]',              \n",
      "                                                                  'dropout_6[0][0]',              \n",
      "                                                                  'dropout_7[0][0]',              \n",
      "                                                                  'dropout_8[0][0]',              \n",
      "                                                                  'dropout_9[0][0]',              \n",
      "                                                                  'dropout_10[0][0]',             \n",
      "                                                                  'dropout_11[0][0]',             \n",
      "                                                                  'dropout_12[0][0]',             \n",
      "                                                                  'dropout_13[0][0]']             \n",
      "                                                                                                  \n",
      " dense_6 (Dense)                (None, 10, 1000)     551000      ['concatenate_1[0][0]']          \n",
      "                                                                                                  \n",
      " dropout_14 (Dropout)           (None, 10, 1000)     0           ['dense_6[0][0]']                \n",
      "                                                                                                  \n",
      " dense_7 (Dense)                (None, 10, 250)      250250      ['dropout_14[0][0]']             \n",
      "                                                                                                  \n",
      " dense_8 (Dense)                (None, 10, 3)        753         ['dense_7[0][0]']                \n",
      "                                                                                                  \n",
      "==================================================================================================\n",
      "Total params: 1,165,003\n",
      "Trainable params: 1,165,003\n",
      "Non-trainable params: 0\n",
      "__________________________________________________________________________________________________\n"
     ]
    }
   ],
   "source": [
    "txLstm.summary()"
   ]
  },
  {
   "cell_type": "code",
   "execution_count": 25,
   "metadata": {},
   "outputs": [
    {
     "name": "stdout",
     "output_type": "stream",
     "text": [
      "Epoch 1/500\n"
     ]
    },
    {
     "name": "stderr",
     "output_type": "stream",
     "text": [
      "2022-11-13 15:16:44.693387: I tensorflow/core/grappler/optimizers/custom_graph_optimizer_registry.cc:114] Plugin optimizer for device_type GPU is enabled.\n",
      "2022-11-13 15:16:45.475374: I tensorflow/core/grappler/optimizers/custom_graph_optimizer_registry.cc:114] Plugin optimizer for device_type GPU is enabled.\n",
      "2022-11-13 15:16:45.493243: I tensorflow/core/grappler/optimizers/custom_graph_optimizer_registry.cc:114] Plugin optimizer for device_type GPU is enabled.\n",
      "2022-11-13 15:16:45.511808: I tensorflow/core/grappler/optimizers/custom_graph_optimizer_registry.cc:114] Plugin optimizer for device_type GPU is enabled.\n",
      "2022-11-13 15:16:45.536154: I tensorflow/core/grappler/optimizers/custom_graph_optimizer_registry.cc:114] Plugin optimizer for device_type GPU is enabled.\n",
      "2022-11-13 15:16:45.554216: I tensorflow/core/grappler/optimizers/custom_graph_optimizer_registry.cc:114] Plugin optimizer for device_type GPU is enabled.\n",
      "2022-11-13 15:16:45.586264: I tensorflow/core/grappler/optimizers/custom_graph_optimizer_registry.cc:114] Plugin optimizer for device_type GPU is enabled.\n",
      "2022-11-13 15:16:45.670274: I tensorflow/core/grappler/optimizers/custom_graph_optimizer_registry.cc:114] Plugin optimizer for device_type GPU is enabled.\n",
      "2022-11-13 15:16:45.694523: I tensorflow/core/grappler/optimizers/custom_graph_optimizer_registry.cc:114] Plugin optimizer for device_type GPU is enabled.\n",
      "2022-11-13 15:16:45.716041: I tensorflow/core/grappler/optimizers/custom_graph_optimizer_registry.cc:114] Plugin optimizer for device_type GPU is enabled.\n",
      "2022-11-13 15:16:45.734699: I tensorflow/core/grappler/optimizers/custom_graph_optimizer_registry.cc:114] Plugin optimizer for device_type GPU is enabled.\n",
      "2022-11-13 15:16:46.042623: I tensorflow/core/grappler/optimizers/custom_graph_optimizer_registry.cc:114] Plugin optimizer for device_type GPU is enabled.\n",
      "2022-11-13 15:16:46.064007: I tensorflow/core/grappler/optimizers/custom_graph_optimizer_registry.cc:114] Plugin optimizer for device_type GPU is enabled.\n",
      "2022-11-13 15:16:46.147726: I tensorflow/core/grappler/optimizers/custom_graph_optimizer_registry.cc:114] Plugin optimizer for device_type GPU is enabled.\n",
      "2022-11-13 15:16:46.180777: I tensorflow/core/grappler/optimizers/custom_graph_optimizer_registry.cc:114] Plugin optimizer for device_type GPU is enabled.\n",
      "2022-11-13 15:16:46.218173: I tensorflow/core/grappler/optimizers/custom_graph_optimizer_registry.cc:114] Plugin optimizer for device_type GPU is enabled.\n",
      "2022-11-13 15:16:46.265974: I tensorflow/core/grappler/optimizers/custom_graph_optimizer_registry.cc:114] Plugin optimizer for device_type GPU is enabled.\n",
      "2022-11-13 15:16:46.319865: I tensorflow/core/grappler/optimizers/custom_graph_optimizer_registry.cc:114] Plugin optimizer for device_type GPU is enabled.\n",
      "2022-11-13 15:16:46.375143: I tensorflow/core/grappler/optimizers/custom_graph_optimizer_registry.cc:114] Plugin optimizer for device_type GPU is enabled.\n",
      "2022-11-13 15:16:46.435099: I tensorflow/core/grappler/optimizers/custom_graph_optimizer_registry.cc:114] Plugin optimizer for device_type GPU is enabled.\n",
      "2022-11-13 15:16:46.496189: I tensorflow/core/grappler/optimizers/custom_graph_optimizer_registry.cc:114] Plugin optimizer for device_type GPU is enabled.\n"
     ]
    },
    {
     "name": "stdout",
     "output_type": "stream",
     "text": [
      "19/19 [==============================] - 10s 129ms/step - loss: 1.2090 - accuracy: 0.4023\n",
      "Epoch 2/500\n",
      "19/19 [==============================] - 2s 80ms/step - loss: 1.0827 - accuracy: 0.4750\n",
      "Epoch 3/500\n",
      "19/19 [==============================] - 1s 72ms/step - loss: 1.0325 - accuracy: 0.5220\n",
      "Epoch 4/500\n",
      "19/19 [==============================] - 1s 66ms/step - loss: 1.0178 - accuracy: 0.5401\n",
      "Epoch 5/500\n",
      "19/19 [==============================] - 1s 66ms/step - loss: 0.9966 - accuracy: 0.5414\n",
      "Epoch 6/500\n",
      "19/19 [==============================] - 1s 65ms/step - loss: 0.9933 - accuracy: 0.5418\n",
      "Epoch 7/500\n",
      "19/19 [==============================] - 1s 65ms/step - loss: 0.9754 - accuracy: 0.5382\n",
      "Epoch 8/500\n",
      "19/19 [==============================] - 1s 65ms/step - loss: 0.9601 - accuracy: 0.5618\n",
      "Epoch 9/500\n",
      "19/19 [==============================] - 1s 63ms/step - loss: 0.9468 - accuracy: 0.5625\n",
      "Epoch 10/500\n",
      "19/19 [==============================] - 1s 70ms/step - loss: 0.9412 - accuracy: 0.5691\n",
      "Epoch 11/500\n",
      "19/19 [==============================] - 1s 68ms/step - loss: 0.9212 - accuracy: 0.5780\n",
      "Epoch 12/500\n",
      "19/19 [==============================] - 1s 68ms/step - loss: 0.9222 - accuracy: 0.5727\n",
      "Epoch 13/500\n",
      "19/19 [==============================] - 1s 68ms/step - loss: 0.9197 - accuracy: 0.5711\n",
      "Epoch 14/500\n",
      "19/19 [==============================] - 1s 68ms/step - loss: 0.9217 - accuracy: 0.5859\n",
      "Epoch 15/500\n",
      "19/19 [==============================] - 1s 65ms/step - loss: 0.9078 - accuracy: 0.5918\n",
      "Epoch 16/500\n",
      "19/19 [==============================] - 1s 69ms/step - loss: 0.9077 - accuracy: 0.5961\n",
      "Epoch 17/500\n",
      "19/19 [==============================] - 1s 69ms/step - loss: 0.9105 - accuracy: 0.5836\n",
      "Epoch 18/500\n",
      "19/19 [==============================] - 1s 64ms/step - loss: 0.8974 - accuracy: 0.6003\n",
      "Epoch 19/500\n",
      "19/19 [==============================] - 1s 67ms/step - loss: 0.8957 - accuracy: 0.5855\n",
      "Epoch 20/500\n",
      "19/19 [==============================] - 1s 64ms/step - loss: 0.8894 - accuracy: 0.5977\n",
      "Epoch 21/500\n",
      "19/19 [==============================] - 1s 62ms/step - loss: 0.8801 - accuracy: 0.5990\n"
     ]
    },
    {
     "data": {
      "text/plain": [
       "<keras.callbacks.History at 0x3254439d0>"
      ]
     },
     "execution_count": 25,
     "metadata": {},
     "output_type": "execute_result"
    }
   ],
   "source": [
    "txLstm.compile(\n",
    "    loss='categorical_crossentropy',\n",
    "    optimizer=tf.keras.optimizers.Adam(0.0001),\n",
    "    metrics=[\"accuracy\"]\n",
    ")\n",
    "\n",
    "callback = tf.keras.callbacks.EarlyStopping(monitor='accuracy', patience=3)\n",
    "\n",
    "txLstm.fit(x_train_lstm, y_train_lstm, epochs=500, callbacks=[callback], batch_size=16)"
   ]
  },
  {
   "cell_type": "code",
   "execution_count": 32,
   "metadata": {},
   "outputs": [
    {
     "name": "stdout",
     "output_type": "stream",
     "text": [
      "4/4 [==============================] - 0s 112ms/step - loss: 1.0929 - accuracy: 0.4746\n"
     ]
    },
    {
     "name": "stderr",
     "output_type": "stream",
     "text": [
      "2022-11-13 15:20:03.319232: I tensorflow/core/grappler/optimizers/custom_graph_optimizer_registry.cc:114] Plugin optimizer for device_type GPU is enabled.\n",
      "2022-11-13 15:20:03.600516: I tensorflow/core/grappler/optimizers/custom_graph_optimizer_registry.cc:114] Plugin optimizer for device_type GPU is enabled.\n",
      "2022-11-13 15:20:03.600591: I tensorflow/core/grappler/optimizers/custom_graph_optimizer_registry.cc:114] Plugin optimizer for device_type GPU is enabled.\n",
      "2022-11-13 15:20:03.600730: I tensorflow/core/grappler/optimizers/custom_graph_optimizer_registry.cc:114] Plugin optimizer for device_type GPU is enabled.\n",
      "2022-11-13 15:20:03.600898: I tensorflow/core/grappler/optimizers/custom_graph_optimizer_registry.cc:114] Plugin optimizer for device_type GPU is enabled.\n",
      "2022-11-13 15:20:03.600943: I tensorflow/core/grappler/optimizers/custom_graph_optimizer_registry.cc:114] Plugin optimizer for device_type GPU is enabled.\n",
      "2022-11-13 15:20:03.601022: I tensorflow/core/grappler/optimizers/custom_graph_optimizer_registry.cc:114] Plugin optimizer for device_type GPU is enabled.\n",
      "2022-11-13 15:20:03.601040: I tensorflow/core/grappler/optimizers/custom_graph_optimizer_registry.cc:114] Plugin optimizer for device_type GPU is enabled.\n",
      "2022-11-13 15:20:03.601454: I tensorflow/core/grappler/optimizers/custom_graph_optimizer_registry.cc:114] Plugin optimizer for device_type GPU is enabled.\n",
      "2022-11-13 15:20:03.601771: I tensorflow/core/grappler/optimizers/custom_graph_optimizer_registry.cc:114] Plugin optimizer for device_type GPU is enabled.\n",
      "2022-11-13 15:20:03.604074: I tensorflow/core/grappler/optimizers/custom_graph_optimizer_registry.cc:114] Plugin optimizer for device_type GPU is enabled.\n"
     ]
    },
    {
     "name": "stdout",
     "output_type": "stream",
     "text": [
      "10/10 [==============================] - 3s 123ms/step\n",
      "4/4 [==============================] - 0s 126ms/step\n",
      "TEST REPORT\n",
      "              precision    recall  f1-score   support\n",
      "\n",
      "           A      0.637     0.464     0.537       345\n",
      "           D      0.270     0.303     0.286       254\n",
      "           H      0.659     0.736     0.695       541\n",
      "\n",
      "    accuracy                          0.557      1140\n",
      "   macro avg      0.522     0.501     0.506      1140\n",
      "weighted avg      0.566     0.557     0.556      1140\n",
      "\n",
      "--------------------------------------------------\n",
      "TRAINING REPORT\n",
      "              precision    recall  f1-score   support\n",
      "\n",
      "           A      0.572     0.467     0.514       867\n",
      "           D      0.376     0.336     0.355       783\n",
      "           H      0.645     0.758     0.697      1390\n",
      "\n",
      "    accuracy                          0.566      3040\n",
      "   macro avg      0.531     0.520     0.522      3040\n",
      "weighted avg      0.555     0.566     0.557      3040\n",
      "\n",
      "--------------------------------------------------\n"
     ]
    }
   ],
   "source": [
    "txLstm.evaluate(y_test_lstm, y_test_lstm)\n",
    "report(txLstm, x_train_lstm, y_train_lstm, x_test_lstm, y_test_lstm, enc)"
   ]
  },
  {
   "cell_type": "markdown",
   "metadata": {},
   "source": [
    "# GRU"
   ]
  },
  {
   "cell_type": "code",
   "execution_count": 28,
   "metadata": {},
   "outputs": [
    {
     "name": "stdout",
     "output_type": "stream",
     "text": [
      "WARNING:tensorflow:Layer gru will not use cuDNN kernels since it doesn't meet the criteria. It will use a generic GPU kernel as fallback when running on GPU.\n"
     ]
    }
   ],
   "source": [
    "gru = k.models.Sequential([\n",
    "    k.layers.GRU(100, return_sequences=True, activation=\"relu\"),\n",
    "    k.layers.Dropout(0.4),\n",
    "    k.layers.Dense(1000, activation=\"relu\"),\n",
    "    k.layers.Dropout(0.3),\n",
    "    k.layers.Dense(250, activation=\"relu\"),\n",
    "    k.layers.Dropout(0.2),\n",
    "    k.layers.Dense(3, activation=\"softmax\")\n",
    "])"
   ]
  },
  {
   "cell_type": "code",
   "execution_count": 29,
   "metadata": {},
   "outputs": [
    {
     "name": "stdout",
     "output_type": "stream",
     "text": [
      "Model: \"sequential_1\"\n",
      "_________________________________________________________________\n",
      " Layer (type)                Output Shape              Param #   \n",
      "=================================================================\n",
      " gru (GRU)                   (304, 10, 100)            58800     \n",
      "                                                                 \n",
      " dropout_15 (Dropout)        (304, 10, 100)            0         \n",
      "                                                                 \n",
      " dense_9 (Dense)             (304, 10, 1000)           101000    \n",
      "                                                                 \n",
      " dropout_16 (Dropout)        (304, 10, 1000)           0         \n",
      "                                                                 \n",
      " dense_10 (Dense)            (304, 10, 250)            250250    \n",
      "                                                                 \n",
      " dropout_17 (Dropout)        (304, 10, 250)            0         \n",
      "                                                                 \n",
      " dense_11 (Dense)            (304, 10, 3)              753       \n",
      "                                                                 \n",
      "=================================================================\n",
      "Total params: 410,803\n",
      "Trainable params: 410,803\n",
      "Non-trainable params: 0\n",
      "_________________________________________________________________\n"
     ]
    }
   ],
   "source": [
    "gru(x_train_lstm)\n",
    "gru.summary()"
   ]
  },
  {
   "cell_type": "code",
   "execution_count": 30,
   "metadata": {},
   "outputs": [
    {
     "name": "stdout",
     "output_type": "stream",
     "text": [
      "Epoch 1/500\n"
     ]
    },
    {
     "name": "stderr",
     "output_type": "stream",
     "text": [
      "2022-11-13 15:17:21.348375: I tensorflow/core/grappler/optimizers/custom_graph_optimizer_registry.cc:114] Plugin optimizer for device_type GPU is enabled.\n"
     ]
    },
    {
     "name": "stdout",
     "output_type": "stream",
     "text": [
      "10/10 [==============================] - 3s 191ms/step - loss: 2.3407 - accuracy: 0.3711\n",
      "Epoch 2/500\n",
      "10/10 [==============================] - 2s 161ms/step - loss: 1.9536 - accuracy: 0.4411\n",
      "Epoch 3/500\n",
      "10/10 [==============================] - 2s 159ms/step - loss: 1.6842 - accuracy: 0.4428\n",
      "Epoch 4/500\n",
      "10/10 [==============================] - 1s 150ms/step - loss: 1.5865 - accuracy: 0.4510\n",
      "Epoch 5/500\n",
      "10/10 [==============================] - 1s 151ms/step - loss: 1.4738 - accuracy: 0.4549\n",
      "Epoch 6/500\n",
      "10/10 [==============================] - 1s 146ms/step - loss: 1.4370 - accuracy: 0.4497\n",
      "Epoch 7/500\n",
      "10/10 [==============================] - 2s 153ms/step - loss: 1.3532 - accuracy: 0.4553\n",
      "Epoch 8/500\n",
      "10/10 [==============================] - 2s 160ms/step - loss: 1.2920 - accuracy: 0.4576\n",
      "Epoch 9/500\n",
      "10/10 [==============================] - 2s 171ms/step - loss: 1.2556 - accuracy: 0.4813\n",
      "Epoch 10/500\n",
      "10/10 [==============================] - 2s 153ms/step - loss: 1.2352 - accuracy: 0.4628\n",
      "Epoch 11/500\n",
      "10/10 [==============================] - 1s 145ms/step - loss: 1.1968 - accuracy: 0.4740\n",
      "Epoch 12/500\n",
      "10/10 [==============================] - 2s 158ms/step - loss: 1.1879 - accuracy: 0.4674\n",
      "Epoch 13/500\n",
      "10/10 [==============================] - 1s 150ms/step - loss: 1.1456 - accuracy: 0.4849\n",
      "Epoch 14/500\n",
      "10/10 [==============================] - 1s 149ms/step - loss: 1.1328 - accuracy: 0.4878\n",
      "Epoch 15/500\n",
      "10/10 [==============================] - 2s 166ms/step - loss: 1.1296 - accuracy: 0.4832\n",
      "Epoch 16/500\n",
      "10/10 [==============================] - 1s 145ms/step - loss: 1.1133 - accuracy: 0.5016\n",
      "Epoch 17/500\n",
      "10/10 [==============================] - 1s 144ms/step - loss: 1.0987 - accuracy: 0.5000\n",
      "Epoch 18/500\n",
      "10/10 [==============================] - 2s 158ms/step - loss: 1.0966 - accuracy: 0.4961\n",
      "Epoch 19/500\n",
      "10/10 [==============================] - 2s 163ms/step - loss: 1.0752 - accuracy: 0.4941\n",
      "Epoch 20/500\n",
      "10/10 [==============================] - 2s 157ms/step - loss: 1.0734 - accuracy: 0.4895\n",
      "Epoch 21/500\n",
      "10/10 [==============================] - 1s 149ms/step - loss: 1.0693 - accuracy: 0.5013\n",
      "Epoch 22/500\n",
      "10/10 [==============================] - 1s 144ms/step - loss: 1.0585 - accuracy: 0.5168\n",
      "Epoch 23/500\n",
      "10/10 [==============================] - 2s 157ms/step - loss: 1.0482 - accuracy: 0.5220\n",
      "Epoch 24/500\n",
      "10/10 [==============================] - 2s 158ms/step - loss: 1.0327 - accuracy: 0.5105\n",
      "Epoch 25/500\n",
      "10/10 [==============================] - 2s 155ms/step - loss: 1.0222 - accuracy: 0.5293\n",
      "Epoch 26/500\n",
      "10/10 [==============================] - 2s 149ms/step - loss: 1.0203 - accuracy: 0.5230\n",
      "Epoch 27/500\n",
      "10/10 [==============================] - 1s 147ms/step - loss: 1.0171 - accuracy: 0.5217\n",
      "Epoch 28/500\n",
      "10/10 [==============================] - 2s 158ms/step - loss: 1.0165 - accuracy: 0.5296\n",
      "Epoch 29/500\n",
      "10/10 [==============================] - 2s 151ms/step - loss: 1.0146 - accuracy: 0.5132\n",
      "Epoch 30/500\n",
      "10/10 [==============================] - 2s 149ms/step - loss: 1.0147 - accuracy: 0.5168\n",
      "Epoch 31/500\n",
      "10/10 [==============================] - 1s 144ms/step - loss: 1.0004 - accuracy: 0.5336\n",
      "Epoch 32/500\n",
      "10/10 [==============================] - 1s 141ms/step - loss: 1.0044 - accuracy: 0.5273\n",
      "Epoch 33/500\n",
      "10/10 [==============================] - 1s 139ms/step - loss: 0.9836 - accuracy: 0.5398\n",
      "Epoch 34/500\n",
      "10/10 [==============================] - 1s 136ms/step - loss: 0.9846 - accuracy: 0.5421\n",
      "Epoch 35/500\n",
      "10/10 [==============================] - 1s 143ms/step - loss: 0.9932 - accuracy: 0.5194\n",
      "Epoch 36/500\n",
      "10/10 [==============================] - 1s 139ms/step - loss: 0.9891 - accuracy: 0.5260\n",
      "Epoch 37/500\n",
      "10/10 [==============================] - 1s 139ms/step - loss: 0.9641 - accuracy: 0.5487\n",
      "Epoch 38/500\n",
      "10/10 [==============================] - 1s 136ms/step - loss: 0.9690 - accuracy: 0.5312\n",
      "Epoch 39/500\n",
      "10/10 [==============================] - 1s 140ms/step - loss: 0.9819 - accuracy: 0.5365\n",
      "Epoch 40/500\n",
      "10/10 [==============================] - 1s 140ms/step - loss: 0.9677 - accuracy: 0.5487\n",
      "Epoch 41/500\n",
      "10/10 [==============================] - 1s 142ms/step - loss: 0.9580 - accuracy: 0.5438\n",
      "Epoch 42/500\n",
      "10/10 [==============================] - 1s 139ms/step - loss: 0.9586 - accuracy: 0.5484\n",
      "Epoch 43/500\n",
      "10/10 [==============================] - 1s 138ms/step - loss: 0.9705 - accuracy: 0.5434\n",
      "Epoch 44/500\n",
      "10/10 [==============================] - 1s 142ms/step - loss: 0.9424 - accuracy: 0.5641\n",
      "Epoch 45/500\n",
      "10/10 [==============================] - 1s 139ms/step - loss: 0.9547 - accuracy: 0.5526\n",
      "Epoch 46/500\n",
      "10/10 [==============================] - 1s 139ms/step - loss: 0.9516 - accuracy: 0.5628\n",
      "Epoch 47/500\n",
      "10/10 [==============================] - 1s 140ms/step - loss: 0.9370 - accuracy: 0.5599\n",
      "Epoch 48/500\n",
      "10/10 [==============================] - 1s 141ms/step - loss: 0.9565 - accuracy: 0.5576\n",
      "Epoch 49/500\n",
      "10/10 [==============================] - 1s 146ms/step - loss: 0.9510 - accuracy: 0.5576\n",
      "Epoch 50/500\n",
      "10/10 [==============================] - 1s 142ms/step - loss: 0.9560 - accuracy: 0.5628\n",
      "Epoch 51/500\n",
      "10/10 [==============================] - 1s 136ms/step - loss: 0.9406 - accuracy: 0.5579\n",
      "Epoch 52/500\n",
      "10/10 [==============================] - 2s 163ms/step - loss: 0.9269 - accuracy: 0.5661\n",
      "Epoch 53/500\n",
      "10/10 [==============================] - 2s 147ms/step - loss: 0.9550 - accuracy: 0.5602\n",
      "Epoch 54/500\n",
      "10/10 [==============================] - 2s 152ms/step - loss: 0.9430 - accuracy: 0.5688\n",
      "Epoch 55/500\n",
      "10/10 [==============================] - 2s 153ms/step - loss: 0.9441 - accuracy: 0.5599\n",
      "Epoch 56/500\n",
      "10/10 [==============================] - 1s 149ms/step - loss: 0.9268 - accuracy: 0.5635\n",
      "Epoch 57/500\n",
      "10/10 [==============================] - 2s 161ms/step - loss: 0.9332 - accuracy: 0.5641\n",
      "Epoch 58/500\n",
      "10/10 [==============================] - 1s 149ms/step - loss: 0.9345 - accuracy: 0.5674\n",
      "Epoch 59/500\n",
      "10/10 [==============================] - 1s 138ms/step - loss: 0.9280 - accuracy: 0.5592\n",
      "Epoch 60/500\n",
      "10/10 [==============================] - 1s 139ms/step - loss: 0.9288 - accuracy: 0.5641\n",
      "Epoch 61/500\n",
      "10/10 [==============================] - 1s 141ms/step - loss: 0.9287 - accuracy: 0.5688\n"
     ]
    },
    {
     "data": {
      "text/plain": [
       "<keras.callbacks.History at 0x37778ba00>"
      ]
     },
     "execution_count": 30,
     "metadata": {},
     "output_type": "execute_result"
    }
   ],
   "source": [
    "gru.compile(\n",
    "    loss='categorical_crossentropy',\n",
    "    optimizer=tf.keras.optimizers.Adam(0.0001),\n",
    "    metrics=[\"accuracy\"]\n",
    ")\n",
    "\n",
    "callback = tf.keras.callbacks.EarlyStopping(monitor='loss', patience=5)\n",
    "\n",
    "gru.fit(x_train_lstm, y_train_lstm, epochs=500, callbacks=[callback])"
   ]
  },
  {
   "cell_type": "code",
   "execution_count": 31,
   "metadata": {},
   "outputs": [
    {
     "name": "stderr",
     "output_type": "stream",
     "text": [
      "2022-11-13 15:18:52.873423: I tensorflow/core/grappler/optimizers/custom_graph_optimizer_registry.cc:114] Plugin optimizer for device_type GPU is enabled.\n"
     ]
    },
    {
     "name": "stdout",
     "output_type": "stream",
     "text": [
      "4/4 [==============================] - 1s 78ms/step - loss: 0.9286 - accuracy: 0.5763\n",
      " 1/10 [==>...........................] - ETA: 2s"
     ]
    },
    {
     "name": "stderr",
     "output_type": "stream",
     "text": [
      "2022-11-13 15:18:53.437469: I tensorflow/core/grappler/optimizers/custom_graph_optimizer_registry.cc:114] Plugin optimizer for device_type GPU is enabled.\n"
     ]
    },
    {
     "name": "stdout",
     "output_type": "stream",
     "text": [
      "10/10 [==============================] - 1s 43ms/step\n",
      "4/4 [==============================] - 0s 52ms/step\n",
      "TEST REPORT\n",
      "              precision    recall  f1-score   support\n",
      "\n",
      "           A      0.547     0.643     0.591       345\n",
      "           D      0.322     0.110     0.164       254\n",
      "           H      0.629     0.752     0.685       541\n",
      "\n",
      "    accuracy                          0.576      1140\n",
      "   macro avg      0.499     0.502     0.480      1140\n",
      "weighted avg      0.536     0.576     0.541      1140\n",
      "\n",
      "--------------------------------------------------\n",
      "TRAINING REPORT\n",
      "              precision    recall  f1-score   support\n",
      "\n",
      "           A      0.516     0.603     0.556       867\n",
      "           D      0.513     0.156     0.239       783\n",
      "           H      0.625     0.804     0.703      1390\n",
      "\n",
      "    accuracy                          0.580      3040\n",
      "   macro avg      0.551     0.521     0.499      3040\n",
      "weighted avg      0.565     0.580     0.542      3040\n",
      "\n",
      "--------------------------------------------------\n"
     ]
    }
   ],
   "source": [
    "gru.evaluate(x_test_lstm, y_test_lstm)\n",
    "report(gru, x_train_lstm, y_train_lstm, x_test_lstm, y_test_lstm, enc)"
   ]
  },
  {
   "cell_type": "markdown",
   "metadata": {},
   "source": [
    "# Loro modello"
   ]
  },
  {
   "cell_type": "code",
   "execution_count": 43,
   "metadata": {},
   "outputs": [
    {
     "ename": "ValueError",
     "evalue": "Input 0 of layer \"lstm_318\" is incompatible with the layer: expected ndim=3, found ndim=2. Full shape received: (None, 16)",
     "output_type": "error",
     "traceback": [
      "\u001b[0;31m---------------------------------------------------------------------------\u001b[0m",
      "\u001b[0;31mValueError\u001b[0m                                Traceback (most recent call last)",
      "\u001b[1;32m/Users/davidegattini/SourceTreeProj/MDLProj/gallo.ipynb Cella 41\u001b[0m in \u001b[0;36m<cell line: 5>\u001b[0;34m()\u001b[0m\n\u001b[1;32m      <a href='vscode-notebook-cell:/Users/davidegattini/SourceTreeProj/MDLProj/gallo.ipynb#Y165sZmlsZQ%3D%3D?line=3'>4</a>\u001b[0m outputs \u001b[39m=\u001b[39m []\n\u001b[1;32m      <a href='vscode-notebook-cell:/Users/davidegattini/SourceTreeProj/MDLProj/gallo.ipynb#Y165sZmlsZQ%3D%3D?line=4'>5</a>\u001b[0m \u001b[39mfor\u001b[39;00m t \u001b[39min\u001b[39;00m \u001b[39mrange\u001b[39m(Ty):\n\u001b[0;32m----> <a href='vscode-notebook-cell:/Users/davidegattini/SourceTreeProj/MDLProj/gallo.ipynb#Y165sZmlsZQ%3D%3D?line=6'>7</a>\u001b[0m     x \u001b[39m=\u001b[39m tf\u001b[39m.\u001b[39;49mkeras\u001b[39m.\u001b[39;49mlayers\u001b[39m.\u001b[39;49mLSTM(units\u001b[39m=\u001b[39;49m\u001b[39m16\u001b[39;49m, kernel_regularizer\u001b[39m=\u001b[39;49mtf\u001b[39m.\u001b[39;49mkeras\u001b[39m.\u001b[39;49mregularizers\u001b[39m.\u001b[39;49ml1_l2(l1\u001b[39m=\u001b[39;49m\u001b[39m1e-5\u001b[39;49m, l2\u001b[39m=\u001b[39;49m\u001b[39m1e-1\u001b[39;49m), return_sequences\u001b[39m=\u001b[39;49m\u001b[39mTrue\u001b[39;49;00m)(x)\n\u001b[1;32m      <a href='vscode-notebook-cell:/Users/davidegattini/SourceTreeProj/MDLProj/gallo.ipynb#Y165sZmlsZQ%3D%3D?line=8'>9</a>\u001b[0m     x \u001b[39m=\u001b[39m tf\u001b[39m.\u001b[39mkeras\u001b[39m.\u001b[39mlayers\u001b[39m.\u001b[39mDropout(rate\u001b[39m=\u001b[39m\u001b[39m0.8\u001b[39m)(x)\n\u001b[1;32m     <a href='vscode-notebook-cell:/Users/davidegattini/SourceTreeProj/MDLProj/gallo.ipynb#Y165sZmlsZQ%3D%3D?line=10'>11</a>\u001b[0m     out \u001b[39m=\u001b[39m tf\u001b[39m.\u001b[39mkeras\u001b[39m.\u001b[39mlayers\u001b[39m.\u001b[39mDense(\u001b[39m3\u001b[39m, activation\u001b[39m=\u001b[39m\u001b[39m'\u001b[39m\u001b[39msoftmax\u001b[39m\u001b[39m'\u001b[39m)(x)\n",
      "File \u001b[0;32m/opt/homebrew/Caskroom/miniconda/base/envs/dl/lib/python3.8/site-packages/keras/layers/rnn/base_rnn.py:553\u001b[0m, in \u001b[0;36mRNN.__call__\u001b[0;34m(self, inputs, initial_state, constants, **kwargs)\u001b[0m\n\u001b[1;32m    548\u001b[0m inputs, initial_state, constants \u001b[39m=\u001b[39m rnn_utils\u001b[39m.\u001b[39mstandardize_args(\n\u001b[1;32m    549\u001b[0m     inputs, initial_state, constants, \u001b[39mself\u001b[39m\u001b[39m.\u001b[39m_num_constants\n\u001b[1;32m    550\u001b[0m )\n\u001b[1;32m    552\u001b[0m \u001b[39mif\u001b[39;00m initial_state \u001b[39mis\u001b[39;00m \u001b[39mNone\u001b[39;00m \u001b[39mand\u001b[39;00m constants \u001b[39mis\u001b[39;00m \u001b[39mNone\u001b[39;00m:\n\u001b[0;32m--> 553\u001b[0m     \u001b[39mreturn\u001b[39;00m \u001b[39msuper\u001b[39;49m()\u001b[39m.\u001b[39;49m\u001b[39m__call__\u001b[39;49m(inputs, \u001b[39m*\u001b[39;49m\u001b[39m*\u001b[39;49mkwargs)\n\u001b[1;32m    555\u001b[0m \u001b[39m# If any of `initial_state` or `constants` are specified and are Keras\u001b[39;00m\n\u001b[1;32m    556\u001b[0m \u001b[39m# tensors, then add them to the inputs and temporarily modify the\u001b[39;00m\n\u001b[1;32m    557\u001b[0m \u001b[39m# input_spec to include them.\u001b[39;00m\n\u001b[1;32m    559\u001b[0m additional_inputs \u001b[39m=\u001b[39m []\n",
      "File \u001b[0;32m/opt/homebrew/Caskroom/miniconda/base/envs/dl/lib/python3.8/site-packages/keras/utils/traceback_utils.py:70\u001b[0m, in \u001b[0;36mfilter_traceback.<locals>.error_handler\u001b[0;34m(*args, **kwargs)\u001b[0m\n\u001b[1;32m     67\u001b[0m     filtered_tb \u001b[39m=\u001b[39m _process_traceback_frames(e\u001b[39m.\u001b[39m__traceback__)\n\u001b[1;32m     68\u001b[0m     \u001b[39m# To get the full stack trace, call:\u001b[39;00m\n\u001b[1;32m     69\u001b[0m     \u001b[39m# `tf.debugging.disable_traceback_filtering()`\u001b[39;00m\n\u001b[0;32m---> 70\u001b[0m     \u001b[39mraise\u001b[39;00m e\u001b[39m.\u001b[39mwith_traceback(filtered_tb) \u001b[39mfrom\u001b[39;00m \u001b[39mNone\u001b[39m\n\u001b[1;32m     71\u001b[0m \u001b[39mfinally\u001b[39;00m:\n\u001b[1;32m     72\u001b[0m     \u001b[39mdel\u001b[39;00m filtered_tb\n",
      "File \u001b[0;32m/opt/homebrew/Caskroom/miniconda/base/envs/dl/lib/python3.8/site-packages/keras/engine/input_spec.py:232\u001b[0m, in \u001b[0;36massert_input_compatibility\u001b[0;34m(input_spec, inputs, layer_name)\u001b[0m\n\u001b[1;32m    230\u001b[0m     ndim \u001b[39m=\u001b[39m shape\u001b[39m.\u001b[39mrank\n\u001b[1;32m    231\u001b[0m     \u001b[39mif\u001b[39;00m ndim \u001b[39m!=\u001b[39m spec\u001b[39m.\u001b[39mndim:\n\u001b[0;32m--> 232\u001b[0m         \u001b[39mraise\u001b[39;00m \u001b[39mValueError\u001b[39;00m(\n\u001b[1;32m    233\u001b[0m             \u001b[39mf\u001b[39m\u001b[39m'\u001b[39m\u001b[39mInput \u001b[39m\u001b[39m{\u001b[39;00minput_index\u001b[39m}\u001b[39;00m\u001b[39m of layer \u001b[39m\u001b[39m\"\u001b[39m\u001b[39m{\u001b[39;00mlayer_name\u001b[39m}\u001b[39;00m\u001b[39m\"\u001b[39m\u001b[39m \u001b[39m\u001b[39m'\u001b[39m\n\u001b[1;32m    234\u001b[0m             \u001b[39m\"\u001b[39m\u001b[39mis incompatible with the layer: \u001b[39m\u001b[39m\"\u001b[39m\n\u001b[1;32m    235\u001b[0m             \u001b[39mf\u001b[39m\u001b[39m\"\u001b[39m\u001b[39mexpected ndim=\u001b[39m\u001b[39m{\u001b[39;00mspec\u001b[39m.\u001b[39mndim\u001b[39m}\u001b[39;00m\u001b[39m, found ndim=\u001b[39m\u001b[39m{\u001b[39;00mndim\u001b[39m}\u001b[39;00m\u001b[39m. \u001b[39m\u001b[39m\"\u001b[39m\n\u001b[1;32m    236\u001b[0m             \u001b[39mf\u001b[39m\u001b[39m\"\u001b[39m\u001b[39mFull shape received: \u001b[39m\u001b[39m{\u001b[39;00m\u001b[39mtuple\u001b[39m(shape)\u001b[39m}\u001b[39;00m\u001b[39m\"\u001b[39m\n\u001b[1;32m    237\u001b[0m         )\n\u001b[1;32m    238\u001b[0m \u001b[39mif\u001b[39;00m spec\u001b[39m.\u001b[39mmax_ndim \u001b[39mis\u001b[39;00m \u001b[39mnot\u001b[39;00m \u001b[39mNone\u001b[39;00m:\n\u001b[1;32m    239\u001b[0m     ndim \u001b[39m=\u001b[39m x\u001b[39m.\u001b[39mshape\u001b[39m.\u001b[39mrank\n",
      "\u001b[0;31mValueError\u001b[0m: Input 0 of layer \"lstm_318\" is incompatible with the layer: expected ndim=3, found ndim=2. Full shape received: (None, 16)"
     ]
    }
   ],
   "source": [
    "#Create and Setup Model\n",
    "fbmodel = tf.keras.Sequential()\n",
    "inputs = tf.keras.Input(shape=(Tx, num_features))\n",
    "outputs = []\n",
    "for t in range(Ty):\n",
    "    x = tf.keras.layers.Lambda(lambda z: inputs[:, t,:])(inputs)\n",
    "\n",
    "    x = tf.keras.layers.Reshape((1, num_features))(x)\n",
    "    \n",
    "    x = tf.keras.layers.LSTM(units=16, kernel_regularizer=tf.keras.regularizers.l1_l2(l1=1e-5, l2=1e-1))(x)\n",
    "\n",
    "    x = tf.keras.layers.Dropout(rate=0.8)(x)\n",
    "    \n",
    "    out = tf.keras.layers.Dense(3, activation='softmax')(x)\n",
    "    \n",
    "    outputs.append(out)\n",
    "    \n",
    "fbmodel = tf.keras.Model(inputs=inputs, outputs=outputs)\n",
    "fbmodel.summary()\n",
    "\n",
    "fbmodel.compile(\n",
    "    loss='categorical_crossentropy',\n",
    "    optimizer=tf.keras.optimizers.Adam(0.001)\n",
    "#    ,metrics=[tf.keras.metrics.Accuracy()]\n",
    ")"
   ]
  },
  {
   "cell_type": "code",
   "execution_count": null,
   "metadata": {},
   "outputs": [],
   "source": [
    "#Train Model\n",
    "history = fbmodel.fit(\n",
    "    x_train, list(y_train),\n",
    "    epochs=100,\n",
    "    batch_size=64,\n",
    "    #validation_split=0.272727,\n",
    "    #show = epoch%100==0,\n",
    "    verbose=1,\n",
    "    shuffle=False,\n",
    "    \n",
    ")"
   ]
  }
 ],
 "metadata": {
  "kernelspec": {
   "display_name": "Python 3.8.13 ('dl')",
   "language": "python",
   "name": "python3"
  },
  "language_info": {
   "codemirror_mode": {
    "name": "ipython",
    "version": 3
   },
   "file_extension": ".py",
   "mimetype": "text/x-python",
   "name": "python",
   "nbconvert_exporter": "python",
   "pygments_lexer": "ipython3",
   "version": "3.8.13"
  },
  "orig_nbformat": 4,
  "vscode": {
   "interpreter": {
    "hash": "b2b3490ab97e9e12756aa89c01d5382ca6cf08cdaa9c454d9749392520b38d26"
   }
  }
 },
 "nbformat": 4,
 "nbformat_minor": 2
}
