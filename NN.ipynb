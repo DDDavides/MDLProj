{
 "cells": [
  {
   "cell_type": "code",
   "execution_count": null,
   "metadata": {},
   "outputs": [],
   "source": [
    "from sklearn.model_selection import train_test_split\n",
    "from sklearn.metrics import classification_report\n",
    "\n",
    "from sklearn.model_selection import GridSearchCV\n",
    "from sklearn.preprocessing import OneHotEncoder\n",
    "from sklearn.impute import SimpleImputer\n",
    "\n",
    "from sklearn.svm import SVC, LinearSVC\n",
    "from sklearn.linear_model import SGDClassifier, RidgeClassifier\n",
    "from sklearn.ensemble import RandomForestClassifier, AdaBoostClassifier\n",
    "\n",
    "import pandas as pd\n",
    "from utility import *"
   ]
  },
  {
   "cell_type": "code",
   "execution_count": null,
   "metadata": {},
   "outputs": [],
   "source": [
    "X, y = load_data()\n",
    "enc = OneHotEncoder(sparse=False)\n",
    "y = enc.fit_transform(y)\n",
    "X_imputed = SimpleImputer().fit_transform(X)"
   ]
  },
  {
   "cell_type": "code",
   "execution_count": null,
   "metadata": {},
   "outputs": [],
   "source": [
    "y_nn = ((data[['ordinalHR']]).to_numpy()*2)\n",
    "#Split X and Y into training and Test Sets\n",
    "# y_nn = OneHotEncoder(sparse=True).fit_transform(y_nn)\n",
    "x_train_nn, x_test_nn, y_train_nn, y_test_nn = train_test_split(X_imputed, y_nn, shuffle=True)"
   ]
  },
  {
   "cell_type": "code",
   "execution_count": null,
   "metadata": {},
   "outputs": [
    {
     "name": "stdout",
     "output_type": "stream",
     "text": [
      "Metal device set to: Apple M1\n",
      "\n",
      "systemMemory: 8.00 GB\n",
      "maxCacheSize: 2.67 GB\n",
      "\n"
     ]
    },
    {
     "name": "stderr",
     "output_type": "stream",
     "text": [
      "2022-12-14 18:49:05.237860: I tensorflow/core/common_runtime/pluggable_device/pluggable_device_factory.cc:306] Could not identify NUMA node of platform GPU ID 0, defaulting to 0. Your kernel may not have been built with NUMA support.\n",
      "2022-12-14 18:49:05.238103: I tensorflow/core/common_runtime/pluggable_device/pluggable_device_factory.cc:272] Created TensorFlow device (/job:localhost/replica:0/task:0/device:GPU:0 with 0 MB memory) -> physical PluggableDevice (device: 0, name: METAL, pci bus id: <undefined>)\n"
     ]
    }
   ],
   "source": [
    "nn = k.models.Sequential([\n",
    "    k.layers.Flatten(),\n",
    "    k.layers.Dense(41, activation='relu'),\n",
    "    k.layers.Dense(75, activation='relu'),\n",
    "    k.layers.Dropout(0.3),\n",
    "    k.layers.Dense(3, activation='softmax'),\n",
    "])"
   ]
  },
  {
   "cell_type": "code",
   "execution_count": null,
   "metadata": {},
   "outputs": [
    {
     "name": "stdout",
     "output_type": "stream",
     "text": [
      "Model: \"sequential\"\n",
      "_________________________________________________________________\n",
      " Layer (type)                Output Shape              Param #   \n",
      "=================================================================\n",
      " flatten (Flatten)           (3135, 94)                0         \n",
      "                                                                 \n",
      " dense (Dense)               (3135, 41)                3895      \n",
      "                                                                 \n",
      " dense_1 (Dense)             (3135, 75)                3150      \n",
      "                                                                 \n",
      " dropout (Dropout)           (3135, 75)                0         \n",
      "                                                                 \n",
      " dense_2 (Dense)             (3135, 3)                 228       \n",
      "                                                                 \n",
      "=================================================================\n",
      "Total params: 7,273\n",
      "Trainable params: 7,273\n",
      "Non-trainable params: 0\n",
      "_________________________________________________________________\n"
     ]
    }
   ],
   "source": [
    "learning_rate=0.01\n",
    "\n",
    "nn.compile(\n",
    "    loss='sparse_categorical_crossentropy',\n",
    "    optimizer=k.optimizers.Adam(learning_rate),\n",
    "    metrics=['accuracy']\n",
    ")\n",
    "nn(x_train_nn)\n",
    "nn.summary()"
   ]
  },
  {
   "cell_type": "code",
   "execution_count": null,
   "metadata": {},
   "outputs": [
    {
     "name": "stdout",
     "output_type": "stream",
     "text": [
      "Epoch 1/10\n"
     ]
    },
    {
     "name": "stderr",
     "output_type": "stream",
     "text": [
      "2022-12-14 18:49:05.520135: W tensorflow/core/platform/profile_utils/cpu_utils.cc:128] Failed to get CPU frequency: 0 Hz\n"
     ]
    },
    {
     "name": "stdout",
     "output_type": "stream",
     "text": [
      " 1/63 [..............................] - ETA: 23s - loss: 8.7578 - accuracy: 0.2000"
     ]
    },
    {
     "name": "stderr",
     "output_type": "stream",
     "text": [
      "2022-12-14 18:49:05.741291: I tensorflow/core/grappler/optimizers/custom_graph_optimizer_registry.cc:114] Plugin optimizer for device_type GPU is enabled.\n"
     ]
    },
    {
     "name": "stdout",
     "output_type": "stream",
     "text": [
      "63/63 [==============================] - 1s 7ms/step - loss: 1.9449 - accuracy: 0.5107\n",
      "Epoch 2/10\n",
      "63/63 [==============================] - 0s 7ms/step - loss: 0.9532 - accuracy: 0.5649\n",
      "Epoch 3/10\n",
      "63/63 [==============================] - 0s 6ms/step - loss: 0.9478 - accuracy: 0.5640\n",
      "Epoch 4/10\n",
      "63/63 [==============================] - 0s 6ms/step - loss: 0.9473 - accuracy: 0.5630\n",
      "Epoch 5/10\n",
      "63/63 [==============================] - 0s 6ms/step - loss: 0.9435 - accuracy: 0.5659\n",
      "Epoch 6/10\n",
      "63/63 [==============================] - 0s 6ms/step - loss: 0.9462 - accuracy: 0.5515\n",
      "Epoch 7/10\n",
      "63/63 [==============================] - 0s 6ms/step - loss: 0.9375 - accuracy: 0.5633\n",
      "Epoch 8/10\n",
      "63/63 [==============================] - 0s 6ms/step - loss: 0.9452 - accuracy: 0.5636\n",
      "Epoch 9/10\n",
      "63/63 [==============================] - 0s 6ms/step - loss: 0.9392 - accuracy: 0.5620\n",
      "Epoch 10/10\n",
      "63/63 [==============================] - 0s 6ms/step - loss: 0.9388 - accuracy: 0.5707\n"
     ]
    },
    {
     "data": {
      "text/plain": [
       "<keras.callbacks.History at 0x174305cd0>"
      ]
     },
     "metadata": {},
     "output_type": "display_data"
    }
   ],
   "source": [
    "epochs=10\n",
    "batch_size=50\n",
    "nn.fit(x_train_nn, y_train_nn, epochs=epochs, batch_size=batch_size)"
   ]
  },
  {
   "cell_type": "code",
   "execution_count": null,
   "metadata": {},
   "outputs": [
    {
     "name": "stdout",
     "output_type": "stream",
     "text": [
      "22/33 [===================>..........] - ETA: 0s - loss: 0.9308 - accuracy: 0.5554"
     ]
    },
    {
     "name": "stderr",
     "output_type": "stream",
     "text": [
      "2022-12-14 18:49:10.032160: I tensorflow/core/grappler/optimizers/custom_graph_optimizer_registry.cc:114] Plugin optimizer for device_type GPU is enabled.\n"
     ]
    },
    {
     "name": "stdout",
     "output_type": "stream",
     "text": [
      "33/33 [==============================] - 0s 5ms/step - loss: 0.9325 - accuracy: 0.5550\n",
      "[0.9324570298194885, 0.5550239086151123]\n"
     ]
    }
   ],
   "source": [
    "print(nn.evaluate(x_test_nn, y_test_nn))"
   ]
  }
 ],
 "metadata": {
  "kernelspec": {
   "display_name": "mdl_env",
   "language": "python",
   "name": "python3"
  },
  "language_info": {
   "name": "python",
   "version": "3.8.13 (default, Oct 19 2022, 17:52:09) \n[Clang 12.0.0 ]"
  },
  "orig_nbformat": 4,
  "vscode": {
   "interpreter": {
    "hash": "79b5e57923bea2f111e96499fff5bbb689235c6339c9e2909bc09deb6f078094"
   }
  }
 },
 "nbformat": 4,
 "nbformat_minor": 2
}
