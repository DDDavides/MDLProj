{
 "cells": [
  {
   "cell_type": "code",
   "execution_count": null,
   "metadata": {},
   "outputs": [],
   "source": [
    "from sklearn.model_selection import train_test_split\n",
    "\n",
    "from sklearn.preprocessing import OneHotEncoder\n",
    "from sklearn.impute import SimpleImputer\n",
    "\n",
    "import pandas as pd\n",
    "import tensorflow as tf\n",
    "\n",
    "from tensorflow import keras as k\n",
    "from utility import *"
   ]
  },
  {
   "cell_type": "code",
   "execution_count": null,
   "metadata": {},
   "outputs": [],
   "source": [
    "data = load_data()\n",
    "X, y = create_XY(data)\n",
    "\n",
    "enc = OneHotEncoder(sparse=False)\n",
    "y = enc.fit_transform(y)\n",
    "X_imputed = SimpleImputer().fit_transform(X)"
   ]
  },
  {
   "cell_type": "markdown",
   "metadata": {},
   "source": [
    "# LSTM"
   ]
  },
  {
   "cell_type": "code",
   "execution_count": null,
   "metadata": {},
   "outputs": [],
   "source": [
    "x_train, x_test, y_train, y_test = train_test_split(X_imputed, y, shuffle=False, test_size=test_size)"
   ]
  },
  {
   "cell_type": "code",
   "execution_count": null,
   "metadata": {},
   "outputs": [],
   "source": [
    "x_train = reshape_to_inputshape(x_train, trn_ssn)\n",
    "y_train = reshape_to_inputshape(y_train, trn_ssn)\n",
    "\n",
    "x_test = reshape_to_inputshape(x_test, tst_ssn)\n",
    "y_test = reshape_to_inputshape(y_test,  tst_ssn)"
   ]
  },
  {
   "cell_type": "code",
   "execution_count": null,
   "metadata": {},
   "outputs": [],
   "source": [
    "model = k.models.Sequential(\n",
    "    [\n",
    "        k.layers.LSTM(64, return_sequences=True),\n",
    "        k.layers.Dropout(0.4),\n",
    "        k.layers.Dense(1000, activation=\"relu\"),\n",
    "        k.layers.Dropout(0.3),\n",
    "        k.layers.Dense(250, activation=\"relu\"),\n",
    "        k.layers.Dropout(0.2),\n",
    "        k.layers.Dense(3, activation=\"softmax\")\n",
    "    ]\n",
    ")\n",
    "\n",
    "print(model(x_train).shape)\n",
    "model.summary()\n",
    "\n",
    "model.compile(\n",
    "    loss='categorical_crossentropy',\n",
    "    optimizer=tf.keras.optimizers.Adam(0.01),\n",
    "    metrics=[\"accuracy\"]\n",
    ")\n",
    "\n",
    "callback = tf.keras.callbacks.EarlyStopping(monitor='accuracy', patience=5)\n",
    "\n",
    "model.fit(x_train, y_train, epochs=10, callbacks=[callback])"
   ]
  },
  {
   "cell_type": "code",
   "execution_count": null,
   "metadata": {},
   "outputs": [],
   "source": [
    "model.evaluate(x_test, y_test)\n",
    "report2(model, x_train, y_train, \"train\", enc)\n",
    "report2(model, x_test, y_test, \"test\", enc)"
   ]
  },
  {
   "cell_type": "markdown",
   "metadata": {},
   "source": [
    "## 2 LSTM concatenate + dense e dropout in sequenza"
   ]
  },
  {
   "cell_type": "code",
   "execution_count": null,
   "metadata": {},
   "outputs": [],
   "source": [
    "inputs = k.layers.Input(shape=(10,94))\n",
    "lstm1 = k.layers.LSTM(100, return_sequences=True, activation=\"relu\")(inputs)\n",
    "lstm2 = k.layers.LSTM(50, return_sequences=True, activation=\"relu\")(inputs)\n",
    "concatenated = k.layers.Concatenate()([\n",
    "    lstm1,\n",
    "    lstm2\n",
    "])\n",
    "\n",
    "out = k.layers.Dropout(0.5)(concatenated)\n",
    "out = k.layers.Dense(1000, activation=\"relu\")(out)\n",
    "out = k.layers.Dropout(0.5)(out)\n",
    "out = k.layers.Dense(250, activation=\"relu\")(out)\n",
    "out = k.layers.Dropout(0.5)(out)\n",
    "out = k.layers.Dense(3, activation=\"softmax\")(out)\n",
    "\n",
    "model = k.models.Model(inputs=inputs, outputs=out)"
   ]
  },
  {
   "cell_type": "code",
   "execution_count": null,
   "metadata": {},
   "outputs": [],
   "source": [
    "model.summary()"
   ]
  },
  {
   "cell_type": "code",
   "execution_count": null,
   "metadata": {},
   "outputs": [],
   "source": [
    "model.compile(\n",
    "    loss='categorical_crossentropy',\n",
    "    optimizer=tf.keras.optimizers.Adam(0.0001),\n",
    "    metrics=[\"accuracy\"]\n",
    ")\n",
    "\n",
    "callback = tf.keras.callbacks.EarlyStopping(monitor='loss', patience=5)\n",
    "\n",
    "model.fit(x_train, y_train, epochs=500, callbacks=[callback])"
   ]
  },
  {
   "cell_type": "code",
   "execution_count": null,
   "metadata": {},
   "outputs": [],
   "source": [
    "model.evaluate(x_test, y_test)\n",
    "report2(model, x_train, y_train, \"train\", enc)\n",
    "report2(model, x_test, y_test, \"test\", enc)"
   ]
  },
  {
   "cell_type": "markdown",
   "metadata": {},
   "source": [
    "### Fit\n",
    "loss: 0.9373 - accuracy: 0.5609\n",
    "### Evaluate\n",
    "loss: 0.9192 - accuracy: 0.5930\n",
    "### Classification report\n",
    "\n",
    "| | precision | recall | f1-score | support |\n",
    "| - | ----------- | ------ | -------- | ------- |\n",
    "| A | 0.609 | 0.614 | 0.612 | 345 |\n",
    "| D | 0.321 | 0.201 | 0.247 | 254 |\n",
    "| H | 0.652 | 0.763 | 0.704 | 541 |\n",
    "| accuracy | |  | 0.593 | 1140 |\n",
    "| macro avg | 0.527 | 0.526 | 0.521 | 1140 |\n",
    "| weighted avg | 0.565 | 0.593 | 0.574 | 1140 |"
   ]
  },
  {
   "cell_type": "markdown",
   "metadata": {},
   "source": [
    "## LSTM in parallelo"
   ]
  },
  {
   "cell_type": "code",
   "execution_count": null,
   "metadata": {},
   "outputs": [],
   "source": [
    "inputs = k.layers.Input(shape=(10,94))\n",
    "x = []\n",
    "Tx = 10\n",
    "for t in range(Tx):\n",
    "    module = k.layers.LSTM((t+1)*10, return_sequences=True)(inputs)\n",
    "    module = k.layers.Dropout(0.7)(module)\n",
    "    x.append(module)\n",
    "x = k.layers.Concatenate()(x)\n",
    "\n",
    "out = k.layers.Dense(1000, activation=\"relu\")(x)\n",
    "out = k.layers.Dropout(0.7)(out)\n",
    "out = k.layers.Dense(250, activation=\"relu\")(out)\n",
    "out = k.layers.Dense(3, activation=\"softmax\")(out)\n",
    "\n",
    "txLstm = k.models.Model(inputs=inputs, outputs=out)"
   ]
  },
  {
   "cell_type": "code",
   "execution_count": null,
   "metadata": {},
   "outputs": [],
   "source": [
    "txLstm.summary()"
   ]
  },
  {
   "cell_type": "code",
   "execution_count": null,
   "metadata": {},
   "outputs": [],
   "source": [
    "txLstm.compile(\n",
    "    loss='categorical_crossentropy',\n",
    "    optimizer=tf.keras.optimizers.Adam(0.0001),\n",
    "    metrics=[\"accuracy\"]\n",
    ")\n",
    "\n",
    "callback = tf.keras.callbacks.EarlyStopping(monitor='accuracy', patience=3)\n",
    "\n",
    "txLstm.fit(x_train, y_train, epochs=500, callbacks=[callback], batch_size=16)"
   ]
  },
  {
   "cell_type": "code",
   "execution_count": null,
   "metadata": {},
   "outputs": [],
   "source": [
    "txLstm.evaluate(x_test, y_test)\n",
    "report2(txLstm, x_train, y_train, \"train\", enc)\n",
    "report2(txLstm, x_test, y_test, \"test\", enc)"
   ]
  },
  {
   "cell_type": "markdown",
   "metadata": {},
   "source": [
    "# GRU"
   ]
  },
  {
   "cell_type": "code",
   "execution_count": null,
   "metadata": {},
   "outputs": [],
   "source": [
    "gru = k.models.Sequential([\n",
    "    k.layers.GRU(100, return_sequences=True, activation=\"relu\"),\n",
    "    k.layers.Dropout(0.4),\n",
    "    k.layers.Dense(1000, activation=\"relu\"),\n",
    "    k.layers.Dropout(0.3),\n",
    "    k.layers.Dense(250, activation=\"relu\"),\n",
    "    k.layers.Dropout(0.2),\n",
    "    k.layers.Dense(3, activation=\"softmax\")\n",
    "])"
   ]
  },
  {
   "cell_type": "code",
   "execution_count": null,
   "metadata": {},
   "outputs": [],
   "source": [
    "gru(x_train)\n",
    "gru.summary()"
   ]
  },
  {
   "cell_type": "code",
   "execution_count": null,
   "metadata": {},
   "outputs": [],
   "source": [
    "gru.compile(\n",
    "    loss='categorical_crossentropy',\n",
    "    optimizer=tf.keras.optimizers.Adam(0.0001),\n",
    "    metrics=[\"accuracy\"]\n",
    ")\n",
    "\n",
    "callback = tf.keras.callbacks.EarlyStopping(monitor='loss', patience=5)\n",
    "\n",
    "gru.fit(x_train, y_train, epochs=500, callbacks=[callback])"
   ]
  },
  {
   "cell_type": "code",
   "execution_count": null,
   "metadata": {},
   "outputs": [],
   "source": [
    "gru.evaluate(x_test, y_test)\n",
    "report2(gru, x_train, y_train, \"train\", enc)\n",
    "report2(gru, x_test, y_test, \"test\", enc)"
   ]
  },
  {
   "cell_type": "markdown",
   "metadata": {},
   "source": [
    "# Time distributed"
   ]
  },
  {
   "cell_type": "code",
   "execution_count": null,
   "metadata": {},
   "outputs": [],
   "source": [
    "def time_step(data, label, step=10):\n",
    "    x,y = [],[]\n",
    "    for i in range(data.shape[0] - step):\n",
    "        x.append(data[i:i+step])\n",
    "        y.append(label[i+step])\n",
    "    return np.array(x), np.array(y)"
   ]
  },
  {
   "cell_type": "code",
   "execution_count": null,
   "metadata": {},
   "outputs": [],
   "source": [
    "def create_dataset(team_name):\n",
    "    ht = data.loc[data['HomeTeam']==team_name]\n",
    "    at = data.loc[data['AwayTeam']==team_name]\n",
    "    team_data = pd.concat([ht,at])\n",
    "    team_data['Team'] = team_name\n",
    "    team_data_label = team_data['FTR']\n",
    "    team_data_featured = pd.get_dummies(team_data[features])\n",
    "    return team_data_featured,team_data_label"
   ]
  },
  {
   "cell_type": "code",
   "execution_count": null,
   "metadata": {},
   "outputs": [],
   "source": [
    "team_name = 'Chelsea'\n",
    "data_f, data_l = create_dataset(team_name)\n",
    "data_f = SimpleImputer().fit_transform(data_f)\n",
    "x_ars, y_ars = time_step(data_f, data_l.to_numpy())\n",
    "\n",
    "print(x_ars.shape)\n",
    "print(y_ars.shape)\n",
    "\n",
    "y_ars = enc.fit_transform(y_ars.reshape(-1,1))\n",
    "x_train, x_test, y_train, y_test = train_test_split(x_ars, y_ars, shuffle=False, test_size=test_size)\n",
    "\n",
    "Tx = x_train.shape[1] #Time steps\n",
    "Ty = y_train.shape[1] #Time Steps"
   ]
  },
  {
   "cell_type": "code",
   "execution_count": null,
   "metadata": {},
   "outputs": [],
   "source": [
    "model = k.models.Sequential(\n",
    "    [\n",
    "        k.layers.GRU(128, dropout=0.5, return_sequences=True),\n",
    "        k.layers.Flatten(),\n",
    "        k.layers.Dense(40, activation=\"relu\"),\n",
    "        k.layers.Dropout(0.4),\n",
    "        k.layers.Dense(20, activation=\"relu\"),\n",
    "        k.layers.Dropout(0.2),\n",
    "        k.layers.Dense(10, activation=\"relu\"),\n",
    "        k.layers.Dense(3, activation=\"softmax\")\n",
    "    ]\n",
    ")"
   ]
  },
  {
   "cell_type": "code",
   "execution_count": null,
   "metadata": {},
   "outputs": [],
   "source": [
    "model.compile(\n",
    "    loss='categorical_crossentropy',\n",
    "    optimizer=tf.keras.optimizers.Adam(0.0001),\n",
    "    metrics=[\"accuracy\"]\n",
    ")\n",
    "model(x_train)\n",
    "model.summary()"
   ]
  },
  {
   "cell_type": "code",
   "execution_count": null,
   "metadata": {},
   "outputs": [],
   "source": [
    "callback = tf.keras.callbacks.EarlyStopping(monitor='loss', patience=5)\n",
    "\n",
    "model.fit(x_train, y_train, epochs=1000, callbacks=[callback])"
   ]
  },
  {
   "cell_type": "code",
   "execution_count": null,
   "metadata": {},
   "outputs": [],
   "source": [
    "model.evaluate(x_test, y_test)\n",
    "\n",
    "report1(model, x_train, y_train, \"train\", enc)\n",
    "report1(model, x_test, y_test, \"test\", enc)"
   ]
  },
  {
   "cell_type": "code",
   "execution_count": null,
   "metadata": {},
   "outputs": [],
   "source": [
    "teams = set(data['HomeTeam'])\n",
    "df_x = pd.DataFrame()\n",
    "df_y = pd.DataFrame()\n",
    "for team in teams:\n",
    "    data_f, data_l = create_dataset(team)\n",
    "    #data_f = SimpleImputer().fit_transform(pd.get_dummies(data_f))  \n",
    "    x_team, y_team = time_step(data_f, data_l.to_numpy())\n",
    "    y_team = enc.fit_transform(y_team.reshape(-1,1))\n",
    "    df_x = pd.concat([df_x, pd.DataFrame(x_team.reshape(x_team.shape[0], -1))])\n",
    "    df_y = pd.concat([df_y, pd.DataFrame(y_team)])\n",
    "df_x = SimpleImputer().fit_transform(pd.get_dummies(df_x))  \n",
    "df_x = df_x.reshape(df_x.shape[0], 10, -1)\n",
    "print(df_y.shape)\n",
    "x_train, x_test, y_train, y_test = train_test_split(df_x, df_y, shuffle=False, test_size=test_size)"
   ]
  },
  {
   "attachments": {},
   "cell_type": "markdown",
   "metadata": {},
   "source": [
    "# LSTM timestep = features"
   ]
  },
  {
   "cell_type": "code",
   "execution_count": null,
   "metadata": {},
   "outputs": [],
   "source": [
    "features_not_teams = ['HTeamEloScore', 'ATeamEloScore', \n",
    "            'HTdaysSinceLastMatch', 'ATdaysSinceLastMatch', \n",
    "            'HTW_rate', 'ATW_rate', 'ATD_rate', 'HTD_rate', \n",
    "            '7_HTW_rate', '12_HTW_rate', '7_ATW_rate', '12_ATW_rate', \n",
    "            '7_HTD_rate', '12_HTD_rate', '7_ATD_rate', '12_ATD_rate',\n",
    "            '7_HTL_rate', '12_HTL_rate', '7_ATL_rate', '12_ATL_rate',\n",
    "            '5_HTHW_rate', '5_ATAW_rate']\n",
    "\n",
    "X = pd.get_dummies(data[features_not_teams]).to_numpy()\n",
    "y = data[['FTR']].to_numpy().ravel().reshape(-1, 1)\n",
    "enc = OneHotEncoder(sparse=False)\n",
    "y = enc.fit_transform(y)\n",
    "X_imputed = SimpleImputer().fit_transform(X)"
   ]
  },
  {
   "cell_type": "code",
   "execution_count": null,
   "metadata": {},
   "outputs": [],
   "source": [
    "x_train, x_test, y_train, y_test = train_test_split(X_imputed, y, shuffle=False, test_size=test_size)\n",
    "\n",
    "x_train = reshape_features(x_train)\n",
    "x_test = reshape_features(x_test)\n",
    "\n",
    "print(\"x_train:\", x_train.shape)\n",
    "print(\"x_test:\", x_test.shape)\n",
    "print(\"y_train:\", y_train.shape)\n",
    "print(\"y_test:\", y_test.shape)"
   ]
  },
  {
   "cell_type": "code",
   "execution_count": null,
   "metadata": {},
   "outputs": [],
   "source": [
    "model = k.models.Sequential(\n",
    "    [\n",
    "        k.layers.LSTM(64),\n",
    "        k.layers.Dense(3, activation=\"softmax\")\n",
    "    ]\n",
    ")\n",
    "\n",
    "model(x_train)\n",
    "model.summary()\n",
    "\n",
    "model.compile(\n",
    "    loss='categorical_crossentropy',\n",
    "    optimizer=tf.keras.optimizers.Adam(0.01),\n",
    "    metrics=[\"accuracy\"]\n",
    ")\n",
    "\n",
    "callback = tf.keras.callbacks.EarlyStopping(monitor='loss', patience=5)\n",
    "\n",
    "model.fit(x_train, y_train, epochs=10, callbacks=[callback])"
   ]
  },
  {
   "attachments": {},
   "cell_type": "markdown",
   "metadata": {},
   "source": [
    "# WaveNet"
   ]
  },
  {
   "cell_type": "code",
   "execution_count": null,
   "metadata": {},
   "outputs": [],
   "source": [
    "x_train, x_test, y_train, y_test = train_test_split(X_imputed, y, shuffle=False, test_size=test_size)\n",
    "\n",
    "x_train = reshape_features(x_train)\n",
    "x_test = reshape_features(x_test)\n",
    "\n",
    "print(\"x_train:\", x_train.shape)\n",
    "print(\"x_test:\", x_test.shape)\n",
    "print(\"y_train:\", y_train.shape)\n",
    "print(\"y_test:\", y_test.shape)"
   ]
  },
  {
   "cell_type": "code",
   "execution_count": null,
   "metadata": {},
   "outputs": [],
   "source": [
    "model = k.models.Sequential()\n",
    "\n",
    "for i in [1, 2, 4]:\n",
    "    model.add(k.layers.Conv1D(2**(4 + i), 2, dilation_rate=i, padding=\"causal\"))\n",
    "    model.add(k.layers.BatchNormalization())\n",
    "    model.add(k.layers.Activation(activation=\"relu\"))\n",
    "    model.add(k.layers.MaxPool1D(pool_size=2, strides=1, padding=\"same\"))\n",
    "\n",
    "# model.add(k.layers.Conv1D(3, 2, dilation_rate=1, padding=\"same\"))\n",
    "# model.add(k.layers.GlobalAveragePooling1D())\n",
    "model.add(k.layers.Flatten())\n",
    "model.add(k.layers.Dense(100))\n",
    "model.add(k.layers.Dense(3, activation=\"softmax\"))"
   ]
  },
  {
   "cell_type": "code",
   "execution_count": null,
   "metadata": {},
   "outputs": [],
   "source": [
    "model.compile(\n",
    "    loss='categorical_crossentropy',\n",
    "    optimizer=tf.keras.optimizers.Adam(0.001),\n",
    "    metrics=[\"accuracy\"]\n",
    ")\n",
    "model(x_train)\n",
    "model.summary()"
   ]
  },
  {
   "cell_type": "code",
   "execution_count": null,
   "metadata": {},
   "outputs": [],
   "source": [
    "callback = tf.keras.callbacks.EarlyStopping(monitor='loss', patience=10)\n",
    "\n",
    "model.fit(x_train, y_train, epochs=1000, batch_size=64, callbacks=[callback])"
   ]
  },
  {
   "cell_type": "code",
   "execution_count": null,
   "metadata": {},
   "outputs": [],
   "source": [
    "report1(model, x_train, y_train, \"train\", enc)\n",
    "report1(model, x_test, y_test, \"test\", enc)"
   ]
  },
  {
   "attachments": {},
   "cell_type": "markdown",
   "metadata": {},
   "source": [
    "# Bidirectional"
   ]
  },
  {
   "cell_type": "code",
   "execution_count": null,
   "metadata": {},
   "outputs": [],
   "source": [
    "x_train, x_test, y_train, y_test = train_test_split(X_imputed, y, shuffle=False, test_size=test_size)\n",
    "\n",
    "x_train = reshape_features(x_train)\n",
    "x_test = reshape_features(x_test)\n",
    "\n",
    "print(\"x_train:\", x_train.shape)\n",
    "print(\"x_test:\", x_test.shape)\n",
    "print(\"y_train:\", y_train.shape)\n",
    "print(\"y_test:\", y_test.shape)"
   ]
  },
  {
   "cell_type": "code",
   "execution_count": null,
   "metadata": {},
   "outputs": [],
   "source": [
    "model = k.models.Sequential(\n",
    "    [\n",
    "        k.layers.Bidirectional(k.layers.LSTM(64)),\n",
    "        k.layers.Dense(3, activation=\"softmax\")\n",
    "    ]\n",
    ")\n",
    "\n",
    "model(x_train)\n",
    "model.summary()\n",
    "\n",
    "model.compile(\n",
    "    loss='categorical_crossentropy',\n",
    "    optimizer=tf.keras.optimizers.Adam(0.01),\n",
    "    metrics=[\"accuracy\"]\n",
    ")\n",
    "\n",
    "callback = tf.keras.callbacks.EarlyStopping(monitor='loss', patience=5)\n",
    "\n",
    "model.fit(x_train, y_train, epochs=10, callbacks=[callback])"
   ]
  },
  {
   "cell_type": "code",
   "execution_count": null,
   "metadata": {},
   "outputs": [],
   "source": [
    "report1(model, x_train, y_train, 'train', enc)\n",
    "report1(model, x_test, y_test, 'test', enc)"
   ]
  },
  {
   "cell_type": "code",
   "execution_count": null,
   "metadata": {},
   "outputs": [],
   "source": [
    "model = k.models.Sequential(\n",
    "    [\n",
    "        k.layers.Bidirectional(k.layers.LSTM(32, return_sequences=True)),\n",
    "        k.layers.Bidirectional(k.layers.LSTM(64, return_sequences=True)),\n",
    "        k.layers.Bidirectional(k.layers.LSTM(128)),\n",
    "        k.layers.Dense(100, activation=\"softmax\"),\n",
    "        k.layers.Dense(3, activation=\"softmax\")\n",
    "    ]\n",
    ")\n",
    "\n",
    "model(x_train)\n",
    "model.summary()\n",
    "\n",
    "model.compile(\n",
    "    loss='categorical_crossentropy',\n",
    "    optimizer=tf.keras.optimizers.Adam(0.01),\n",
    "    metrics=[\"accuracy\"]\n",
    ")"
   ]
  },
  {
   "cell_type": "code",
   "execution_count": null,
   "metadata": {},
   "outputs": [],
   "source": [
    "callback = tf.keras.callbacks.EarlyStopping(monitor='loss', patience=5)\n",
    "\n",
    "model.fit(x_train, y_train, epochs=100, batch_size=64, callbacks=[callback])"
   ]
  },
  {
   "cell_type": "code",
   "execution_count": null,
   "metadata": {},
   "outputs": [],
   "source": [
    "report1(model, x_train, y_train, \"train\", enc)\n",
    "report1(model, x_test, y_test, \"test\", enc)"
   ]
  }
 ],
 "metadata": {
  "kernelspec": {
   "display_name": "mdl_env",
   "language": "python",
   "name": "python3"
  },
  "language_info": {
   "codemirror_mode": {
    "name": "ipython",
    "version": 3
   },
   "file_extension": ".py",
   "mimetype": "text/x-python",
   "name": "python",
   "nbconvert_exporter": "python",
   "pygments_lexer": "ipython3",
   "version": "3.8.13 (default, Oct 19 2022, 17:52:09) \n[Clang 12.0.0 ]"
  },
  "orig_nbformat": 4,
  "vscode": {
   "interpreter": {
    "hash": "79b5e57923bea2f111e96499fff5bbb689235c6339c9e2909bc09deb6f078094"
   }
  }
 },
 "nbformat": 4,
 "nbformat_minor": 2
}
