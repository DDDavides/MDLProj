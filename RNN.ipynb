{
 "cells": [
  {
   "cell_type": "code",
   "execution_count": null,
   "metadata": {},
   "outputs": [],
   "source": [
    "from sklearn.model_selection import train_test_split\n",
    "from sklearn.metrics import classification_report\n",
    "\n",
    "from sklearn.model_selection import GridSearchCV\n",
    "from sklearn.preprocessing import OneHotEncoder\n",
    "from sklearn.impute import SimpleImputer\n",
    "\n",
    "from sklearn.svm import SVC, LinearSVC\n",
    "from sklearn.linear_model import SGDClassifier, RidgeClassifier\n",
    "from sklearn.ensemble import RandomForestClassifier, AdaBoostClassifier\n",
    "\n",
    "import pandas as pd\n",
    "from utility import *"
   ]
  },
  {
   "cell_type": "code",
   "execution_count": null,
   "metadata": {},
   "outputs": [],
   "source": [
    "X, y = load_data()\n",
    "enc = OneHotEncoder(sparse=False)\n",
    "y = enc.fit_transform(y)\n",
    "X_imputed = SimpleImputer().fit_transform(X)"
   ]
  },
  {
   "cell_type": "code",
   "execution_count": null,
   "metadata": {},
   "outputs": [],
   "source": [
    "def time_step(data, label, step=10):\n",
    "    x,y = [],[]\n",
    "    for i in range(data.shape[0]-(step+1)):\n",
    "        x.append(data[i:i+step])\n",
    "        y.append(label[i+step+1])\n",
    "    return np.array(x),np.array(y)"
   ]
  },
  {
   "cell_type": "code",
   "execution_count": null,
   "metadata": {},
   "outputs": [],
   "source": [
    "def create_dataset(team_name):\n",
    "    ht = data.loc[data['HomeTeam']==team_name]\n",
    "    at = data.loc[data['AwayTeam']==team_name]\n",
    "    team_data = pd.concat([ht,at])\n",
    "    team_data_label = team_data['FTR']\n",
    "    team_data_featured = pd.get_dummies(team_data[features])\n",
    "    return team_data_featured,team_data_label"
   ]
  },
  {
   "cell_type": "code",
   "execution_count": null,
   "metadata": {},
   "outputs": [],
   "source": [
    "team_name = 'Chelsea'\n",
    "data_f, data_l = create_dataset(team_name)\n",
    "data_f = SimpleImputer().fit_transform(data_f)\n",
    "x_ars, y_ars = time_step(data_f, data_l.to_numpy())\n",
    "print(x_ars.shape)\n",
    "print(y_ars.shape)"
   ]
  },
  {
   "cell_type": "code",
   "execution_count": null,
   "metadata": {},
   "outputs": [],
   "source": [
    "y_ars = enc.fit_transform(y_ars.reshape(-1,1))"
   ]
  },
  {
   "cell_type": "code",
   "execution_count": null,
   "metadata": {},
   "outputs": [],
   "source": [
    "x_train_lstm, x_test_lstm, y_train_lstm, y_test_lstm = train_test_split(x_ars, y_ars, shuffle=False, test_size=test_size)"
   ]
  },
  {
   "cell_type": "code",
   "execution_count": null,
   "metadata": {},
   "outputs": [],
   "source": [
    "Tx = x_train_lstm.shape[1] #Time steps\n",
    "Ty = y_train_lstm.shape[1] #Time Steps"
   ]
  },
  {
   "cell_type": "markdown",
   "metadata": {},
   "source": [
    "# LSTM"
   ]
  },
  {
   "cell_type": "code",
   "execution_count": null,
   "metadata": {},
   "outputs": [],
   "source": [
    "import os\n",
    "\n",
    "model = None\n",
    "model_path = './models/lstm/'\n",
    "\n",
    "# Check se il modello è già salvato\n",
    "if not os.path.exists(model_path) or os.listdir(model_path):\n",
    "    os.mkdir(\"./\" + model_path.split(\"/\")[1])\n",
    "    os.mkdir(model_path)\n",
    "\n",
    "\n",
    "else:\n",
    "    model = k.models.load_model(model_path)\n",
    "\n",
    "\n",
    "if model == None:\n",
    "    model = k.models.Sequential(\n",
    "        [\n",
    "            k.layers.LSTM(64, return_sequences=True),\n",
    "            k.layers.Dropout(0.4),\n",
    "            k.layers.Dense(1000, activation=\"relu\"),\n",
    "            k.layers.Dropout(0.3),\n",
    "            k.layers.Dense(250, activation=\"relu\"),\n",
    "            k.layers.Dropout(0.2),\n",
    "            k.layers.Dense(3, activation=\"softmax\")\n",
    "        ]\n",
    "    )\n",
    "\n",
    "    model.compile(\n",
    "        loss='categorical_crossentropy',\n",
    "        optimizer=tf.keras.optimizers.Adam(0.0001),\n",
    "        metrics=[\"accuracy\"]\n",
    "    )\n",
    "\n",
    "    callback = tf.keras.callbacks.EarlyStopping(monitor='loss', patience=5)\n",
    "\n",
    "    model.fit(x_train_lstm, y_train_lstm, epochs=10, callbacks=[callback])\n",
    "    model.save('./models/lstm')"
   ]
  },
  {
   "cell_type": "code",
   "execution_count": null,
   "metadata": {},
   "outputs": [],
   "source": [
    "model.evaluate(x_test_lstm, y_test_lstm)\n",
    "report(model, x_train_lstm, y_train_lstm, x_test_lstm, y_test_lstm, enc)"
   ]
  },
  {
   "cell_type": "markdown",
   "metadata": {},
   "source": [
    "## 2 LSTM concatenate + dense e dropout in sequenza"
   ]
  },
  {
   "cell_type": "code",
   "execution_count": null,
   "metadata": {},
   "outputs": [],
   "source": [
    "inputs = k.layers.Input(shape=(10,94))\n",
    "lstm1 = k.layers.LSTM(100, return_sequences=True, activation=\"relu\")(inputs)\n",
    "lstm2 = k.layers.LSTM(50, return_sequences=True, activation=\"relu\")(inputs)\n",
    "concateneted = k.layers.Concatenate()([\n",
    "    lstm1,\n",
    "    lstm2\n",
    "])\n",
    "\n",
    "out = k.layers.Dropout(0.5)(concateneted)\n",
    "out = k.layers.Dense(1000, activation=\"relu\")(out)\n",
    "out = k.layers.Dropout(0.5)(out)\n",
    "out = k.layers.Dense(250, activation=\"relu\")(out)\n",
    "out = k.layers.Dropout(0.5)(out)\n",
    "out = k.layers.Dense(3, activation=\"softmax\")(out)\n",
    "\n",
    "model = k.models.Model(inputs=inputs, outputs=out)"
   ]
  },
  {
   "cell_type": "code",
   "execution_count": null,
   "metadata": {},
   "outputs": [],
   "source": [
    "model.summary()"
   ]
  },
  {
   "cell_type": "code",
   "execution_count": null,
   "metadata": {},
   "outputs": [],
   "source": [
    "model.compile(\n",
    "    loss='categorical_crossentropy',\n",
    "    optimizer=tf.keras.optimizers.Adam(0.0001),\n",
    "    metrics=[\"accuracy\"]\n",
    ")\n",
    "\n",
    "callback = tf.keras.callbacks.EarlyStopping(monitor='loss', patience=5)\n",
    "\n",
    "model.fit(x_train_lstm, y_train_lstm, epochs=500, callbacks=[callback])"
   ]
  },
  {
   "cell_type": "code",
   "execution_count": null,
   "metadata": {},
   "outputs": [],
   "source": [
    "model.evaluate(x_test_lstm, y_test_lstm)\n",
    "report(model, x_train_lstm, y_train_lstm, x_test_lstm, y_test_lstm, enc)"
   ]
  },
  {
   "cell_type": "markdown",
   "metadata": {},
   "source": [
    "### Fit\n",
    "loss: 0.9373 - accuracy: 0.5609\n",
    "### Evaluate\n",
    "loss: 0.9192 - accuracy: 0.5930\n",
    "### Classification report\n",
    "\n",
    "| | precision | recall | f1-score | support |\n",
    "| - | ----------- | ------ | -------- | ------- |\n",
    "| A | 0.609 | 0.614 | 0.612 | 345 |\n",
    "| D | 0.321 | 0.201 | 0.247 | 254 |\n",
    "| H | 0.652 | 0.763 | 0.704 | 541 |\n",
    "| accuracy | |  | 0.593 | 1140 |\n",
    "| macro avg | 0.527 | 0.526 | 0.521 | 1140 |\n",
    "| weighted avg | 0.565 | 0.593 | 0.574 | 1140 |"
   ]
  },
  {
   "cell_type": "markdown",
   "metadata": {},
   "source": [
    "## LSTM in parallelo"
   ]
  },
  {
   "cell_type": "code",
   "execution_count": null,
   "metadata": {},
   "outputs": [],
   "source": [
    "inputs = k.layers.Input(shape=(10,94))\n",
    "x = []\n",
    "for t in range(Tx):\n",
    "    module = k.layers.LSTM((t+1)*10, return_sequences=True)(inputs)\n",
    "    module = k.layers.Dropout(0.7)(module)\n",
    "    x.append(module)\n",
    "x = k.layers.Concatenate()(x)\n",
    "\n",
    "out = k.layers.Dense(1000, activation=\"relu\")(x)\n",
    "out = k.layers.Dropout(0.7)(out)\n",
    "out = k.layers.Dense(250, activation=\"relu\")(out)\n",
    "out = k.layers.Dense(3, activation=\"softmax\")(out)\n",
    "\n",
    "txLstm = k.models.Model(inputs=inputs, outputs=out)"
   ]
  },
  {
   "cell_type": "code",
   "execution_count": null,
   "metadata": {},
   "outputs": [],
   "source": [
    "txLstm.summary()"
   ]
  },
  {
   "cell_type": "code",
   "execution_count": null,
   "metadata": {},
   "outputs": [],
   "source": [
    "txLstm.compile(\n",
    "    loss='categorical_crossentropy',\n",
    "    optimizer=tf.keras.optimizers.Adam(0.0001),\n",
    "    metrics=[\"accuracy\"]\n",
    ")\n",
    "\n",
    "callback = tf.keras.callbacks.EarlyStopping(monitor='accuracy', patience=3)\n",
    "\n",
    "txLstm.fit(x_train_lstm, y_train_lstm, epochs=500, callbacks=[callback], batch_size=16)"
   ]
  },
  {
   "cell_type": "code",
   "execution_count": null,
   "metadata": {},
   "outputs": [],
   "source": [
    "txLstm.evaluate(y_test_lstm, y_test_lstm)\n",
    "report(txLstm, x_train_lstm, y_train_lstm, x_test_lstm, y_test_lstm, enc)"
   ]
  },
  {
   "cell_type": "markdown",
   "metadata": {},
   "source": [
    "# GRU"
   ]
  },
  {
   "cell_type": "code",
   "execution_count": null,
   "metadata": {},
   "outputs": [],
   "source": [
    "gru = k.models.Sequential([\n",
    "    k.layers.GRU(100, return_sequences=True, activation=\"relu\"),\n",
    "    k.layers.Dropout(0.4),\n",
    "    k.layers.Dense(1000, activation=\"relu\"),\n",
    "    k.layers.Dropout(0.3),\n",
    "    k.layers.Dense(250, activation=\"relu\"),\n",
    "    k.layers.Dropout(0.2),\n",
    "    k.layers.Dense(3, activation=\"softmax\")\n",
    "])"
   ]
  },
  {
   "cell_type": "code",
   "execution_count": null,
   "metadata": {},
   "outputs": [],
   "source": [
    "gru(x_train_lstm)\n",
    "gru.summary()"
   ]
  },
  {
   "cell_type": "code",
   "execution_count": null,
   "metadata": {},
   "outputs": [],
   "source": [
    "gru.compile(\n",
    "    loss='categorical_crossentropy',\n",
    "    optimizer=tf.keras.optimizers.Adam(0.0001),\n",
    "    metrics=[\"accuracy\"]\n",
    ")\n",
    "\n",
    "callback = tf.keras.callbacks.EarlyStopping(monitor='loss', patience=5)\n",
    "\n",
    "gru.fit(x_train_lstm, y_train_lstm, epochs=500, callbacks=[callback])"
   ]
  },
  {
   "cell_type": "code",
   "execution_count": null,
   "metadata": {},
   "outputs": [],
   "source": [
    "gru.evaluate(x_test_lstm, y_test_lstm)\n",
    "report(gru, x_train_lstm, y_train_lstm, x_test_lstm, y_test_lstm, enc)"
   ]
  },
  {
   "cell_type": "markdown",
   "metadata": {},
   "source": [
    "# Time distributed"
   ]
  },
  {
   "cell_type": "code",
   "execution_count": null,
   "metadata": {},
   "outputs": [],
   "source": [
    "model = k.models.Sequential(\n",
    "    [\n",
    "        k.layers.GRU(128, dropout=0.5, return_sequences=True),\n",
    "        k.layers.Flatten(),\n",
    "        k.layers.Dense(40, activation=\"relu\"),\n",
    "        k.layers.Dropout(0.4),\n",
    "        k.layers.Dense(20, activation=\"relu\"),\n",
    "        k.layers.Dropout(0.2),\n",
    "        k.layers.Dense(10, activation=\"relu\"),\n",
    "        k.layers.Dense(3, activation=\"softmax\")\n",
    "    ]\n",
    ")"
   ]
  },
  {
   "cell_type": "code",
   "execution_count": null,
   "metadata": {},
   "outputs": [],
   "source": [
    "model.compile(\n",
    "    loss='categorical_crossentropy',\n",
    "    optimizer=tf.keras.optimizers.Adam(0.0001),\n",
    "    metrics=[\"accuracy\"]\n",
    ")\n",
    "model(x_train_lstm)\n",
    "model.summary()"
   ]
  },
  {
   "cell_type": "code",
   "execution_count": null,
   "metadata": {},
   "outputs": [],
   "source": [
    "callback = tf.keras.callbacks.EarlyStopping(monitor='loss', patience=10)\n",
    "\n",
    "model.fit(x_train_lstm, y_train_lstm, epochs=1000, callbacks=[callback])"
   ]
  },
  {
   "cell_type": "code",
   "execution_count": null,
   "metadata": {},
   "outputs": [],
   "source": [
    "model.evaluate(x_test_lstm, y_test_lstm)\n",
    "\n",
    "report(model, x_train_lstm, y_train_lstm, \"train\", enc)\n",
    "report(model, x_test_lstm, y_test_lstm, \"test\", enc)"
   ]
  }
 ],
 "metadata": {
  "kernelspec": {
   "display_name": "ML",
   "language": "python",
   "name": "python3"
  },
  "language_info": {
   "codemirror_mode": {
    "name": "ipython",
    "version": 3
   },
   "file_extension": ".py",
   "mimetype": "text/x-python",
   "name": "python",
   "nbconvert_exporter": "python",
   "pygments_lexer": "ipython3",
   "version": "3.9.15 | packaged by conda-forge | (main, Nov 22 2022, 08:52:10) \n[Clang 14.0.6 ]"
  },
  "orig_nbformat": 4,
  "vscode": {
   "interpreter": {
    "hash": "e35c5856cff72d20e6e0e19445c0d45b03888a7b19367444be448131dd51e693"
   }
  }
 },
 "nbformat": 4,
 "nbformat_minor": 2
}
