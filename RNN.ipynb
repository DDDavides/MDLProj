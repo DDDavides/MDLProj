{
 "cells": [
  {
   "cell_type": "code",
   "execution_count": 3,
   "metadata": {},
   "outputs": [],
   "source": [
    "from sklearn.model_selection import train_test_split\n",
    "from sklearn.metrics import classification_report\n",
    "\n",
    "from sklearn.model_selection import GridSearchCV\n",
    "from sklearn.preprocessing import OneHotEncoder\n",
    "from sklearn.impute import SimpleImputer\n",
    "\n",
    "from sklearn.svm import SVC, LinearSVC\n",
    "from sklearn.linear_model import SGDClassifier, RidgeClassifier\n",
    "from sklearn.ensemble import RandomForestClassifier, AdaBoostClassifier\n",
    "\n",
    "import pandas as pd\n",
    "from utility import *"
   ]
  },
  {
   "cell_type": "code",
   "execution_count": 4,
   "metadata": {},
   "outputs": [],
   "source": [
    "X, y = load_data()\n",
    "enc = OneHotEncoder(sparse=False)\n",
    "y = enc.fit_transform(y)\n",
    "X_imputed = SimpleImputer().fit_transform(X)"
   ]
  },
  {
   "cell_type": "code",
   "execution_count": 5,
   "metadata": {},
   "outputs": [],
   "source": [
    "def time_step(data, label, step=10):\n",
    "    x,y = [],[]\n",
    "    for i in range(data.shape[0]-(step+1)):\n",
    "        x.append(data[i:i+step])\n",
    "        y.append(label[i+step+1])\n",
    "    return np.array(x),np.array(y)"
   ]
  },
  {
   "cell_type": "code",
   "execution_count": 6,
   "metadata": {},
   "outputs": [],
   "source": [
    "def create_dataset(team_name):\n",
    "    ht = data.loc[data['HomeTeam']==team_name]\n",
    "    at = data.loc[data['AwayTeam']==team_name]\n",
    "    team_data = pd.concat([ht,at])\n",
    "    team_data_label = team_data['FTR']\n",
    "    team_data_featured = pd.get_dummies(team_data[features])\n",
    "    return team_data_featured,team_data_label"
   ]
  },
  {
   "cell_type": "code",
   "execution_count": 7,
   "metadata": {},
   "outputs": [
    {
     "ename": "NameError",
     "evalue": "name 'data' is not defined",
     "output_type": "error",
     "traceback": [
      "\u001b[0;31m---------------------------------------------------------------------------\u001b[0m",
      "\u001b[0;31mNameError\u001b[0m                                 Traceback (most recent call last)",
      "\u001b[1;32m/Users/davidegalletti/Repository/Github/Progetto ML DL/progetto_ml_dl/RNN.ipynb Cella 5\u001b[0m in \u001b[0;36m<cell line: 2>\u001b[0;34m()\u001b[0m\n\u001b[1;32m      <a href='vscode-notebook-cell:/Users/davidegalletti/Repository/Github/Progetto%20ML%20DL/progetto_ml_dl/RNN.ipynb#Y133sZmlsZQ%3D%3D?line=0'>1</a>\u001b[0m team_name \u001b[39m=\u001b[39m \u001b[39m'\u001b[39m\u001b[39mChelsea\u001b[39m\u001b[39m'\u001b[39m\n\u001b[0;32m----> <a href='vscode-notebook-cell:/Users/davidegalletti/Repository/Github/Progetto%20ML%20DL/progetto_ml_dl/RNN.ipynb#Y133sZmlsZQ%3D%3D?line=1'>2</a>\u001b[0m data_f, data_l \u001b[39m=\u001b[39m create_dataset(team_name)\n\u001b[1;32m      <a href='vscode-notebook-cell:/Users/davidegalletti/Repository/Github/Progetto%20ML%20DL/progetto_ml_dl/RNN.ipynb#Y133sZmlsZQ%3D%3D?line=2'>3</a>\u001b[0m data_f \u001b[39m=\u001b[39m SimpleImputer()\u001b[39m.\u001b[39mfit_transform(data_f)\n\u001b[1;32m      <a href='vscode-notebook-cell:/Users/davidegalletti/Repository/Github/Progetto%20ML%20DL/progetto_ml_dl/RNN.ipynb#Y133sZmlsZQ%3D%3D?line=3'>4</a>\u001b[0m x_ars, y_ars \u001b[39m=\u001b[39m time_step(data_f, data_l\u001b[39m.\u001b[39mto_numpy())\n",
      "\u001b[1;32m/Users/davidegalletti/Repository/Github/Progetto ML DL/progetto_ml_dl/RNN.ipynb Cella 5\u001b[0m in \u001b[0;36mcreate_dataset\u001b[0;34m(team_name)\u001b[0m\n\u001b[1;32m      <a href='vscode-notebook-cell:/Users/davidegalletti/Repository/Github/Progetto%20ML%20DL/progetto_ml_dl/RNN.ipynb#Y133sZmlsZQ%3D%3D?line=0'>1</a>\u001b[0m \u001b[39mdef\u001b[39;00m \u001b[39mcreate_dataset\u001b[39m(team_name):\n\u001b[0;32m----> <a href='vscode-notebook-cell:/Users/davidegalletti/Repository/Github/Progetto%20ML%20DL/progetto_ml_dl/RNN.ipynb#Y133sZmlsZQ%3D%3D?line=1'>2</a>\u001b[0m     ht \u001b[39m=\u001b[39m data\u001b[39m.\u001b[39mloc[data[\u001b[39m'\u001b[39m\u001b[39mHomeTeam\u001b[39m\u001b[39m'\u001b[39m]\u001b[39m==\u001b[39mteam_name]\n\u001b[1;32m      <a href='vscode-notebook-cell:/Users/davidegalletti/Repository/Github/Progetto%20ML%20DL/progetto_ml_dl/RNN.ipynb#Y133sZmlsZQ%3D%3D?line=2'>3</a>\u001b[0m     at \u001b[39m=\u001b[39m data\u001b[39m.\u001b[39mloc[data[\u001b[39m'\u001b[39m\u001b[39mAwayTeam\u001b[39m\u001b[39m'\u001b[39m]\u001b[39m==\u001b[39mteam_name]\n\u001b[1;32m      <a href='vscode-notebook-cell:/Users/davidegalletti/Repository/Github/Progetto%20ML%20DL/progetto_ml_dl/RNN.ipynb#Y133sZmlsZQ%3D%3D?line=3'>4</a>\u001b[0m     team_data \u001b[39m=\u001b[39m pd\u001b[39m.\u001b[39mconcat([ht,at])\n",
      "\u001b[0;31mNameError\u001b[0m: name 'data' is not defined"
     ]
    }
   ],
   "source": [
    "team_name = 'Chelsea'\n",
    "data_f, data_l = create_dataset(team_name)\n",
    "data_f = SimpleImputer().fit_transform(data_f)\n",
    "x_ars, y_ars = time_step(data_f, data_l.to_numpy())\n",
    "print(x_ars.shape)\n",
    "print(y_ars.shape)"
   ]
  },
  {
   "cell_type": "code",
   "execution_count": null,
   "metadata": {},
   "outputs": [],
   "source": [
    "y_ars = enc.fit_transform(y_ars.reshape(-1,1))"
   ]
  },
  {
   "cell_type": "code",
   "execution_count": null,
   "metadata": {},
   "outputs": [],
   "source": [
    "x_train_lstm, x_test_lstm, y_train_lstm, y_test_lstm = train_test_split(x_ars, y_ars, shuffle=False, test_size=test_size)"
   ]
  },
  {
   "cell_type": "code",
   "execution_count": null,
   "metadata": {},
   "outputs": [],
   "source": [
    "Tx = x_train_lstm.shape[1] #Time steps\n",
    "Ty = y_train_lstm.shape[1] #Time Steps"
   ]
  },
  {
   "cell_type": "markdown",
   "metadata": {},
   "source": [
    "# LSTM"
   ]
  },
  {
   "cell_type": "code",
   "execution_count": null,
   "metadata": {},
   "outputs": [
    {
     "name": "stdout",
     "output_type": "stream",
     "text": [
      "Epoch 1/10\n"
     ]
    },
    {
     "ename": "ValueError",
     "evalue": "in user code:\n\n    File \"/opt/homebrew/Caskroom/miniconda/base/envs/mdl_env/lib/python3.8/site-packages/keras/engine/training.py\", line 1160, in train_function  *\n        return step_function(self, iterator)\n    File \"/opt/homebrew/Caskroom/miniconda/base/envs/mdl_env/lib/python3.8/site-packages/keras/engine/training.py\", line 1146, in step_function  **\n        outputs = model.distribute_strategy.run(run_step, args=(data,))\n    File \"/opt/homebrew/Caskroom/miniconda/base/envs/mdl_env/lib/python3.8/site-packages/keras/engine/training.py\", line 1135, in run_step  **\n        outputs = model.train_step(data)\n    File \"/opt/homebrew/Caskroom/miniconda/base/envs/mdl_env/lib/python3.8/site-packages/keras/engine/training.py\", line 994, in train_step\n        loss = self.compute_loss(x, y, y_pred, sample_weight)\n    File \"/opt/homebrew/Caskroom/miniconda/base/envs/mdl_env/lib/python3.8/site-packages/keras/engine/training.py\", line 1052, in compute_loss\n        return self.compiled_loss(\n    File \"/opt/homebrew/Caskroom/miniconda/base/envs/mdl_env/lib/python3.8/site-packages/keras/engine/compile_utils.py\", line 265, in __call__\n        loss_value = loss_obj(y_t, y_p, sample_weight=sw)\n    File \"/opt/homebrew/Caskroom/miniconda/base/envs/mdl_env/lib/python3.8/site-packages/keras/losses.py\", line 152, in __call__\n        losses = call_fn(y_true, y_pred)\n    File \"/opt/homebrew/Caskroom/miniconda/base/envs/mdl_env/lib/python3.8/site-packages/keras/losses.py\", line 272, in call  **\n        return ag_fn(y_true, y_pred, **self._fn_kwargs)\n    File \"/opt/homebrew/Caskroom/miniconda/base/envs/mdl_env/lib/python3.8/site-packages/keras/losses.py\", line 1990, in categorical_crossentropy\n        return backend.categorical_crossentropy(\n    File \"/opt/homebrew/Caskroom/miniconda/base/envs/mdl_env/lib/python3.8/site-packages/keras/backend.py\", line 5529, in categorical_crossentropy\n        target.shape.assert_is_compatible_with(output.shape)\n\n    ValueError: Shapes (None, 3) and (None, 10, 3) are incompatible\n",
     "output_type": "error",
     "traceback": [
      "\u001b[0;31m---------------------------------------------------------------------------\u001b[0m\n",
      "\u001b[0;31mValueError\u001b[0m                                Traceback (most recent call last)\n",
      "\u001b[1;32m/Users/davidegalletti/Repository/Github/Progetto ML DL/progetto_ml_dl/gallo.ipynb Cella 27\u001b[0m in \u001b[0;36m<cell line: 16>\u001b[0;34m()\u001b[0m\n",
      "\u001b[1;32m     <a href='vscode-notebook-cell:/Users/davidegalletti/Repository/Github/Progetto%20ML%20DL/progetto_ml_dl/gallo.ipynb#X35sZmlsZQ%3D%3D?line=28'>29</a>\u001b[0m model\u001b[39m.\u001b[39mcompile(\n",
      "\u001b[1;32m     <a href='vscode-notebook-cell:/Users/davidegalletti/Repository/Github/Progetto%20ML%20DL/progetto_ml_dl/gallo.ipynb#X35sZmlsZQ%3D%3D?line=29'>30</a>\u001b[0m     loss\u001b[39m=\u001b[39m\u001b[39m'\u001b[39m\u001b[39mcategorical_crossentropy\u001b[39m\u001b[39m'\u001b[39m,\n",
      "\u001b[1;32m     <a href='vscode-notebook-cell:/Users/davidegalletti/Repository/Github/Progetto%20ML%20DL/progetto_ml_dl/gallo.ipynb#X35sZmlsZQ%3D%3D?line=30'>31</a>\u001b[0m     optimizer\u001b[39m=\u001b[39mtf\u001b[39m.\u001b[39mkeras\u001b[39m.\u001b[39moptimizers\u001b[39m.\u001b[39mAdam(\u001b[39m0.0001\u001b[39m),\n",
      "\u001b[1;32m     <a href='vscode-notebook-cell:/Users/davidegalletti/Repository/Github/Progetto%20ML%20DL/progetto_ml_dl/gallo.ipynb#X35sZmlsZQ%3D%3D?line=31'>32</a>\u001b[0m     metrics\u001b[39m=\u001b[39m[\u001b[39m\"\u001b[39m\u001b[39maccuracy\u001b[39m\u001b[39m\"\u001b[39m]\n",
      "\u001b[1;32m     <a href='vscode-notebook-cell:/Users/davidegalletti/Repository/Github/Progetto%20ML%20DL/progetto_ml_dl/gallo.ipynb#X35sZmlsZQ%3D%3D?line=32'>33</a>\u001b[0m )\n",
      "\u001b[1;32m     <a href='vscode-notebook-cell:/Users/davidegalletti/Repository/Github/Progetto%20ML%20DL/progetto_ml_dl/gallo.ipynb#X35sZmlsZQ%3D%3D?line=34'>35</a>\u001b[0m callback \u001b[39m=\u001b[39m tf\u001b[39m.\u001b[39mkeras\u001b[39m.\u001b[39mcallbacks\u001b[39m.\u001b[39mEarlyStopping(monitor\u001b[39m=\u001b[39m\u001b[39m'\u001b[39m\u001b[39mloss\u001b[39m\u001b[39m'\u001b[39m, patience\u001b[39m=\u001b[39m\u001b[39m5\u001b[39m)\n",
      "\u001b[0;32m---> <a href='vscode-notebook-cell:/Users/davidegalletti/Repository/Github/Progetto%20ML%20DL/progetto_ml_dl/gallo.ipynb#X35sZmlsZQ%3D%3D?line=36'>37</a>\u001b[0m model\u001b[39m.\u001b[39;49mfit(x_train_lstm, y_train_lstm, epochs\u001b[39m=\u001b[39;49m\u001b[39m10\u001b[39;49m, callbacks\u001b[39m=\u001b[39;49m[callback])\n",
      "\u001b[1;32m     <a href='vscode-notebook-cell:/Users/davidegalletti/Repository/Github/Progetto%20ML%20DL/progetto_ml_dl/gallo.ipynb#X35sZmlsZQ%3D%3D?line=37'>38</a>\u001b[0m model\u001b[39m.\u001b[39msave(\u001b[39m'\u001b[39m\u001b[39m./models/lstm\u001b[39m\u001b[39m'\u001b[39m)\n",
      "\n",
      "File \u001b[0;32m/opt/homebrew/Caskroom/miniconda/base/envs/mdl_env/lib/python3.8/site-packages/keras/utils/traceback_utils.py:70\u001b[0m, in \u001b[0;36mfilter_traceback.<locals>.error_handler\u001b[0;34m(*args, **kwargs)\u001b[0m\n",
      "\u001b[1;32m     67\u001b[0m     filtered_tb \u001b[39m=\u001b[39m _process_traceback_frames(e\u001b[39m.\u001b[39m__traceback__)\n",
      "\u001b[1;32m     68\u001b[0m     \u001b[39m# To get the full stack trace, call:\u001b[39;00m\n",
      "\u001b[1;32m     69\u001b[0m     \u001b[39m# `tf.debugging.disable_traceback_filtering()`\u001b[39;00m\n",
      "\u001b[0;32m---> 70\u001b[0m     \u001b[39mraise\u001b[39;00m e\u001b[39m.\u001b[39mwith_traceback(filtered_tb) \u001b[39mfrom\u001b[39;00m \u001b[39mNone\u001b[39m\n",
      "\u001b[1;32m     71\u001b[0m \u001b[39mfinally\u001b[39;00m:\n",
      "\u001b[1;32m     72\u001b[0m     \u001b[39mdel\u001b[39;00m filtered_tb\n",
      "\n",
      "File \u001b[0;32m/var/folders/yb/j0452dy96tvbn8h2pl0_47680000gn/T/__autograph_generated_filezyd5rrdj.py:15\u001b[0m, in \u001b[0;36mouter_factory.<locals>.inner_factory.<locals>.tf__train_function\u001b[0;34m(iterator)\u001b[0m\n",
      "\u001b[1;32m     13\u001b[0m \u001b[39mtry\u001b[39;00m:\n",
      "\u001b[1;32m     14\u001b[0m     do_return \u001b[39m=\u001b[39m \u001b[39mTrue\u001b[39;00m\n",
      "\u001b[0;32m---> 15\u001b[0m     retval_ \u001b[39m=\u001b[39m ag__\u001b[39m.\u001b[39mconverted_call(ag__\u001b[39m.\u001b[39mld(step_function), (ag__\u001b[39m.\u001b[39mld(\u001b[39mself\u001b[39m), ag__\u001b[39m.\u001b[39mld(iterator)), \u001b[39mNone\u001b[39;00m, fscope)\n",
      "\u001b[1;32m     16\u001b[0m \u001b[39mexcept\u001b[39;00m:\n",
      "\u001b[1;32m     17\u001b[0m     do_return \u001b[39m=\u001b[39m \u001b[39mFalse\u001b[39;00m\n",
      "\n",
      "\u001b[0;31mValueError\u001b[0m: in user code:\n",
      "\n",
      "    File \"/opt/homebrew/Caskroom/miniconda/base/envs/mdl_env/lib/python3.8/site-packages/keras/engine/training.py\", line 1160, in train_function  *\n",
      "        return step_function(self, iterator)\n",
      "    File \"/opt/homebrew/Caskroom/miniconda/base/envs/mdl_env/lib/python3.8/site-packages/keras/engine/training.py\", line 1146, in step_function  **\n",
      "        outputs = model.distribute_strategy.run(run_step, args=(data,))\n",
      "    File \"/opt/homebrew/Caskroom/miniconda/base/envs/mdl_env/lib/python3.8/site-packages/keras/engine/training.py\", line 1135, in run_step  **\n",
      "        outputs = model.train_step(data)\n",
      "    File \"/opt/homebrew/Caskroom/miniconda/base/envs/mdl_env/lib/python3.8/site-packages/keras/engine/training.py\", line 994, in train_step\n",
      "        loss = self.compute_loss(x, y, y_pred, sample_weight)\n",
      "    File \"/opt/homebrew/Caskroom/miniconda/base/envs/mdl_env/lib/python3.8/site-packages/keras/engine/training.py\", line 1052, in compute_loss\n",
      "        return self.compiled_loss(\n",
      "    File \"/opt/homebrew/Caskroom/miniconda/base/envs/mdl_env/lib/python3.8/site-packages/keras/engine/compile_utils.py\", line 265, in __call__\n",
      "        loss_value = loss_obj(y_t, y_p, sample_weight=sw)\n",
      "    File \"/opt/homebrew/Caskroom/miniconda/base/envs/mdl_env/lib/python3.8/site-packages/keras/losses.py\", line 152, in __call__\n",
      "        losses = call_fn(y_true, y_pred)\n",
      "    File \"/opt/homebrew/Caskroom/miniconda/base/envs/mdl_env/lib/python3.8/site-packages/keras/losses.py\", line 272, in call  **\n",
      "        return ag_fn(y_true, y_pred, **self._fn_kwargs)\n",
      "    File \"/opt/homebrew/Caskroom/miniconda/base/envs/mdl_env/lib/python3.8/site-packages/keras/losses.py\", line 1990, in categorical_crossentropy\n",
      "        return backend.categorical_crossentropy(\n",
      "    File \"/opt/homebrew/Caskroom/miniconda/base/envs/mdl_env/lib/python3.8/site-packages/keras/backend.py\", line 5529, in categorical_crossentropy\n",
      "        target.shape.assert_is_compatible_with(output.shape)\n",
      "\n",
      "    ValueError: Shapes (None, 3) and (None, 10, 3) are incompatible\n"
     ]
    }
   ],
   "source": [
    "import os\n",
    "\n",
    "model = None\n",
    "model_path = './models/lstm/'\n",
    "\n",
    "# Check se il modello è già salvato\n",
    "if not os.path.exists(model_path) or os.listdir(model_path):\n",
    "    os.mkdir(\"./\" + model_path.split(\"/\")[1])\n",
    "    os.mkdir(model_path)\n",
    "\n",
    "\n",
    "else:\n",
    "    model = k.models.load_model(model_path)\n",
    "\n",
    "\n",
    "if model == None:\n",
    "    model = k.models.Sequential(\n",
    "        [\n",
    "            k.layers.LSTM(64, return_sequences=True),\n",
    "            k.layers.Dropout(0.4),\n",
    "            k.layers.Dense(1000, activation=\"relu\"),\n",
    "            k.layers.Dropout(0.3),\n",
    "            k.layers.Dense(250, activation=\"relu\"),\n",
    "            k.layers.Dropout(0.2),\n",
    "            k.layers.Dense(3, activation=\"softmax\")\n",
    "        ]\n",
    "    )\n",
    "\n",
    "    model.compile(\n",
    "        loss='categorical_crossentropy',\n",
    "        optimizer=tf.keras.optimizers.Adam(0.0001),\n",
    "        metrics=[\"accuracy\"]\n",
    "    )\n",
    "\n",
    "    callback = tf.keras.callbacks.EarlyStopping(monitor='loss', patience=5)\n",
    "\n",
    "    model.fit(x_train_lstm, y_train_lstm, epochs=10, callbacks=[callback])\n",
    "    model.save('./models/lstm')"
   ]
  },
  {
   "cell_type": "code",
   "execution_count": null,
   "metadata": {},
   "outputs": [],
   "source": [
    "model.evaluate(x_test_lstm, y_test_lstm)\n",
    "report(model, x_train_lstm, y_train_lstm, x_test_lstm, y_test_lstm, enc)"
   ]
  },
  {
   "cell_type": "markdown",
   "metadata": {},
   "source": [
    "## 2 LSTM concatenate + dense e dropout in sequenza"
   ]
  },
  {
   "cell_type": "code",
   "execution_count": null,
   "metadata": {},
   "outputs": [],
   "source": [
    "inputs = k.layers.Input(shape=(10,94))\n",
    "lstm1 = k.layers.LSTM(100, return_sequences=True, activation=\"relu\")(inputs)\n",
    "lstm2 = k.layers.LSTM(50, return_sequences=True, activation=\"relu\")(inputs)\n",
    "concateneted = k.layers.Concatenate()([\n",
    "    lstm1,\n",
    "    lstm2\n",
    "])\n",
    "\n",
    "out = k.layers.Dropout(0.5)(concateneted)\n",
    "out = k.layers.Dense(1000, activation=\"relu\")(out)\n",
    "out = k.layers.Dropout(0.5)(out)\n",
    "out = k.layers.Dense(250, activation=\"relu\")(out)\n",
    "out = k.layers.Dropout(0.5)(out)\n",
    "out = k.layers.Dense(3, activation=\"softmax\")(out)\n",
    "\n",
    "model = k.models.Model(inputs=inputs, outputs=out)"
   ]
  },
  {
   "cell_type": "code",
   "execution_count": null,
   "metadata": {},
   "outputs": [],
   "source": [
    "model.summary()"
   ]
  },
  {
   "cell_type": "code",
   "execution_count": null,
   "metadata": {},
   "outputs": [],
   "source": [
    "model.compile(\n",
    "    loss='categorical_crossentropy',\n",
    "    optimizer=tf.keras.optimizers.Adam(0.0001),\n",
    "    metrics=[\"accuracy\"]\n",
    ")\n",
    "\n",
    "callback = tf.keras.callbacks.EarlyStopping(monitor='loss', patience=5)\n",
    "\n",
    "model.fit(x_train_lstm, y_train_lstm, epochs=500, callbacks=[callback])"
   ]
  },
  {
   "cell_type": "code",
   "execution_count": null,
   "metadata": {},
   "outputs": [],
   "source": [
    "model.evaluate(x_test_lstm, y_test_lstm)\n",
    "report(model, x_train_lstm, y_train_lstm, x_test_lstm, y_test_lstm, enc)"
   ]
  },
  {
   "cell_type": "markdown",
   "metadata": {},
   "source": [
    "### Fit\n",
    "loss: 0.9373 - accuracy: 0.5609\n",
    "### Evaluate\n",
    "loss: 0.9192 - accuracy: 0.5930\n",
    "### Classification report\n",
    "\n",
    "| | precision | recall | f1-score | support |\n",
    "| - | ----------- | ------ | -------- | ------- |\n",
    "| A | 0.609 | 0.614 | 0.612 | 345 |\n",
    "| D | 0.321 | 0.201 | 0.247 | 254 |\n",
    "| H | 0.652 | 0.763 | 0.704 | 541 |\n",
    "| accuracy | |  | 0.593 | 1140 |\n",
    "| macro avg | 0.527 | 0.526 | 0.521 | 1140 |\n",
    "| weighted avg | 0.565 | 0.593 | 0.574 | 1140 |"
   ]
  },
  {
   "cell_type": "markdown",
   "metadata": {},
   "source": [
    "## LSTM in parallelo"
   ]
  },
  {
   "cell_type": "code",
   "execution_count": null,
   "metadata": {},
   "outputs": [],
   "source": [
    "inputs = k.layers.Input(shape=(10,94))\n",
    "x = []\n",
    "for t in range(Tx):\n",
    "    module = k.layers.LSTM((t+1)*10, return_sequences=True)(inputs)\n",
    "    module = k.layers.Dropout(0.7)(module)\n",
    "    x.append(module)\n",
    "x = k.layers.Concatenate()(x)\n",
    "\n",
    "out = k.layers.Dense(1000, activation=\"relu\")(x)\n",
    "out = k.layers.Dropout(0.7)(out)\n",
    "out = k.layers.Dense(250, activation=\"relu\")(out)\n",
    "out = k.layers.Dense(3, activation=\"softmax\")(out)\n",
    "\n",
    "txLstm = k.models.Model(inputs=inputs, outputs=out)"
   ]
  },
  {
   "cell_type": "code",
   "execution_count": null,
   "metadata": {},
   "outputs": [],
   "source": [
    "txLstm.summary()"
   ]
  },
  {
   "cell_type": "code",
   "execution_count": null,
   "metadata": {},
   "outputs": [],
   "source": [
    "txLstm.compile(\n",
    "    loss='categorical_crossentropy',\n",
    "    optimizer=tf.keras.optimizers.Adam(0.0001),\n",
    "    metrics=[\"accuracy\"]\n",
    ")\n",
    "\n",
    "callback = tf.keras.callbacks.EarlyStopping(monitor='accuracy', patience=3)\n",
    "\n",
    "txLstm.fit(x_train_lstm, y_train_lstm, epochs=500, callbacks=[callback], batch_size=16)"
   ]
  },
  {
   "cell_type": "code",
   "execution_count": null,
   "metadata": {},
   "outputs": [],
   "source": [
    "txLstm.evaluate(y_test_lstm, y_test_lstm)\n",
    "report(txLstm, x_train_lstm, y_train_lstm, x_test_lstm, y_test_lstm, enc)"
   ]
  },
  {
   "cell_type": "markdown",
   "metadata": {},
   "source": [
    "# GRU"
   ]
  },
  {
   "cell_type": "code",
   "execution_count": null,
   "metadata": {},
   "outputs": [],
   "source": [
    "gru = k.models.Sequential([\n",
    "    k.layers.GRU(100, return_sequences=True, activation=\"relu\"),\n",
    "    k.layers.Dropout(0.4),\n",
    "    k.layers.Dense(1000, activation=\"relu\"),\n",
    "    k.layers.Dropout(0.3),\n",
    "    k.layers.Dense(250, activation=\"relu\"),\n",
    "    k.layers.Dropout(0.2),\n",
    "    k.layers.Dense(3, activation=\"softmax\")\n",
    "])"
   ]
  },
  {
   "cell_type": "code",
   "execution_count": null,
   "metadata": {},
   "outputs": [],
   "source": [
    "gru(x_train_lstm)\n",
    "gru.summary()"
   ]
  },
  {
   "cell_type": "code",
   "execution_count": null,
   "metadata": {},
   "outputs": [],
   "source": [
    "gru.compile(\n",
    "    loss='categorical_crossentropy',\n",
    "    optimizer=tf.keras.optimizers.Adam(0.0001),\n",
    "    metrics=[\"accuracy\"]\n",
    ")\n",
    "\n",
    "callback = tf.keras.callbacks.EarlyStopping(monitor='loss', patience=5)\n",
    "\n",
    "gru.fit(x_train_lstm, y_train_lstm, epochs=500, callbacks=[callback])"
   ]
  },
  {
   "cell_type": "code",
   "execution_count": null,
   "metadata": {},
   "outputs": [],
   "source": [
    "gru.evaluate(x_test_lstm, y_test_lstm)\n",
    "report(gru, x_train_lstm, y_train_lstm, x_test_lstm, y_test_lstm, enc)"
   ]
  },
  {
   "cell_type": "markdown",
   "metadata": {},
   "source": [
    "# Time distributed"
   ]
  },
  {
   "cell_type": "code",
   "execution_count": null,
   "metadata": {},
   "outputs": [],
   "source": [
    "model = k.models.Sequential(\n",
    "    [\n",
    "        k.layers.GRU(128, dropout=0.5, return_sequences=True),\n",
    "        k.layers.Flatten(),\n",
    "        k.layers.Dense(40, activation=\"relu\"),\n",
    "        k.layers.Dropout(0.4),\n",
    "        k.layers.Dense(20, activation=\"relu\"),\n",
    "        k.layers.Dropout(0.2),\n",
    "        k.layers.Dense(10, activation=\"relu\"),\n",
    "        k.layers.Dense(3, activation=\"softmax\")\n",
    "    ]\n",
    ")"
   ]
  },
  {
   "cell_type": "code",
   "execution_count": null,
   "metadata": {},
   "outputs": [
    {
     "name": "stdout",
     "output_type": "stream",
     "text": [
      "Model: \"sequential_3\"\n",
      "_________________________________________________________________\n",
      " Layer (type)                Output Shape              Param #   \n",
      "=================================================================\n",
      " gru (GRU)                   (296, 10, 128)            86016     \n",
      "                                                                 \n",
      " flatten_1 (Flatten)         (296, 1280)               0         \n",
      "                                                                 \n",
      " dense_9 (Dense)             (296, 40)                 51240     \n",
      "                                                                 \n",
      " dropout_7 (Dropout)         (296, 40)                 0         \n",
      "                                                                 \n",
      " dense_10 (Dense)            (296, 20)                 820       \n",
      "                                                                 \n",
      " dropout_8 (Dropout)         (296, 20)                 0         \n",
      "                                                                 \n",
      " dense_11 (Dense)            (296, 10)                 210       \n",
      "                                                                 \n",
      " dense_12 (Dense)            (296, 3)                  33        \n",
      "                                                                 \n",
      "=================================================================\n",
      "Total params: 138,319\n",
      "Trainable params: 138,319\n",
      "Non-trainable params: 0\n",
      "_________________________________________________________________\n"
     ]
    }
   ],
   "source": [
    "model.compile(\n",
    "    loss='categorical_crossentropy',\n",
    "    optimizer=tf.keras.optimizers.Adam(0.0001),\n",
    "    metrics=[\"accuracy\"]\n",
    ")\n",
    "model(x_train_lstm)\n",
    "model.summary()"
   ]
  },
  {
   "cell_type": "code",
   "execution_count": null,
   "metadata": {},
   "outputs": [
    {
     "name": "stdout",
     "output_type": "stream",
     "text": [
      "Epoch 1/1000\n"
     ]
    },
    {
     "name": "stderr",
     "output_type": "stream",
     "text": [
      "2022-12-14 18:58:10.696297: I tensorflow/core/grappler/optimizers/custom_graph_optimizer_registry.cc:114] Plugin optimizer for device_type GPU is enabled.\n",
      "2022-12-14 18:58:10.845232: I tensorflow/core/grappler/optimizers/custom_graph_optimizer_registry.cc:114] Plugin optimizer for device_type GPU is enabled.\n",
      "2022-12-14 18:58:11.326873: I tensorflow/core/grappler/optimizers/custom_graph_optimizer_registry.cc:114] Plugin optimizer for device_type GPU is enabled.\n"
     ]
    },
    {
     "name": "stdout",
     "output_type": "stream",
     "text": [
      "10/10 [==============================] - 3s 107ms/step - loss: 1.1161 - accuracy: 0.4865\n",
      "Epoch 2/1000\n",
      "10/10 [==============================] - 0s 16ms/step - loss: 1.0888 - accuracy: 0.4662\n",
      "Epoch 3/1000\n",
      "10/10 [==============================] - 0s 16ms/step - loss: 1.0973 - accuracy: 0.4764\n",
      "Epoch 4/1000\n",
      "10/10 [==============================] - 0s 16ms/step - loss: 1.0625 - accuracy: 0.5169\n",
      "Epoch 5/1000\n",
      "10/10 [==============================] - 0s 16ms/step - loss: 1.0245 - accuracy: 0.5304\n",
      "Epoch 6/1000\n",
      "10/10 [==============================] - 0s 16ms/step - loss: 1.0262 - accuracy: 0.5236\n",
      "Epoch 7/1000\n",
      "10/10 [==============================] - 0s 16ms/step - loss: 1.0277 - accuracy: 0.5203\n",
      "Epoch 8/1000\n",
      "10/10 [==============================] - 0s 16ms/step - loss: 1.0053 - accuracy: 0.5304\n",
      "Epoch 9/1000\n",
      "10/10 [==============================] - 0s 16ms/step - loss: 1.0400 - accuracy: 0.5507\n",
      "Epoch 10/1000\n",
      "10/10 [==============================] - 0s 16ms/step - loss: 1.0489 - accuracy: 0.5304\n",
      "Epoch 11/1000\n",
      "10/10 [==============================] - 0s 16ms/step - loss: 1.0544 - accuracy: 0.5270\n",
      "Epoch 12/1000\n",
      "10/10 [==============================] - 0s 17ms/step - loss: 1.0353 - accuracy: 0.5439\n",
      "Epoch 13/1000\n",
      "10/10 [==============================] - 0s 16ms/step - loss: 1.0208 - accuracy: 0.5507\n",
      "Epoch 14/1000\n",
      "10/10 [==============================] - 0s 16ms/step - loss: 1.0311 - accuracy: 0.5709\n",
      "Epoch 15/1000\n",
      "10/10 [==============================] - 0s 16ms/step - loss: 0.9784 - accuracy: 0.5574\n",
      "Epoch 16/1000\n",
      "10/10 [==============================] - 0s 17ms/step - loss: 1.0356 - accuracy: 0.5541\n",
      "Epoch 17/1000\n",
      "10/10 [==============================] - 0s 17ms/step - loss: 1.0203 - accuracy: 0.5608\n",
      "Epoch 18/1000\n",
      "10/10 [==============================] - 0s 17ms/step - loss: 1.0140 - accuracy: 0.5608\n",
      "Epoch 19/1000\n",
      "10/10 [==============================] - 0s 16ms/step - loss: 1.0014 - accuracy: 0.5541\n",
      "Epoch 20/1000\n",
      "10/10 [==============================] - 0s 16ms/step - loss: 0.9740 - accuracy: 0.5946\n",
      "Epoch 21/1000\n",
      "10/10 [==============================] - 0s 16ms/step - loss: 0.9601 - accuracy: 0.5709\n",
      "Epoch 22/1000\n",
      "10/10 [==============================] - 0s 16ms/step - loss: 1.0151 - accuracy: 0.5439\n",
      "Epoch 23/1000\n",
      "10/10 [==============================] - 0s 17ms/step - loss: 0.9986 - accuracy: 0.5676\n",
      "Epoch 24/1000\n",
      "10/10 [==============================] - 0s 16ms/step - loss: 0.9601 - accuracy: 0.5507\n",
      "Epoch 25/1000\n",
      "10/10 [==============================] - 0s 16ms/step - loss: 0.9847 - accuracy: 0.5541\n",
      "Epoch 26/1000\n",
      "10/10 [==============================] - 0s 16ms/step - loss: 0.9832 - accuracy: 0.5709\n",
      "Epoch 27/1000\n",
      "10/10 [==============================] - 0s 17ms/step - loss: 0.9731 - accuracy: 0.6216\n",
      "Epoch 28/1000\n",
      "10/10 [==============================] - 0s 16ms/step - loss: 0.9674 - accuracy: 0.5439\n",
      "Epoch 29/1000\n",
      "10/10 [==============================] - 0s 16ms/step - loss: 0.9955 - accuracy: 0.5676\n",
      "Epoch 30/1000\n",
      "10/10 [==============================] - 0s 16ms/step - loss: 0.9489 - accuracy: 0.5912\n",
      "Epoch 31/1000\n",
      "10/10 [==============================] - 0s 16ms/step - loss: 0.9826 - accuracy: 0.5541\n",
      "Epoch 32/1000\n",
      "10/10 [==============================] - 0s 18ms/step - loss: 0.9640 - accuracy: 0.5946\n",
      "Epoch 33/1000\n",
      "10/10 [==============================] - 0s 16ms/step - loss: 0.9220 - accuracy: 0.5743\n",
      "Epoch 34/1000\n",
      "10/10 [==============================] - 0s 16ms/step - loss: 0.9588 - accuracy: 0.5912\n",
      "Epoch 35/1000\n",
      "10/10 [==============================] - 0s 16ms/step - loss: 0.9724 - accuracy: 0.5811\n",
      "Epoch 36/1000\n",
      "10/10 [==============================] - 0s 16ms/step - loss: 0.9653 - accuracy: 0.6014\n",
      "Epoch 37/1000\n",
      "10/10 [==============================] - 0s 16ms/step - loss: 0.9725 - accuracy: 0.5473\n",
      "Epoch 38/1000\n",
      "10/10 [==============================] - 0s 16ms/step - loss: 0.9882 - accuracy: 0.5541\n",
      "Epoch 39/1000\n",
      "10/10 [==============================] - 0s 16ms/step - loss: 0.9592 - accuracy: 0.5608\n",
      "Epoch 40/1000\n",
      "10/10 [==============================] - 0s 15ms/step - loss: 0.9504 - accuracy: 0.5743\n",
      "Epoch 41/1000\n",
      "10/10 [==============================] - 0s 16ms/step - loss: 0.9558 - accuracy: 0.5541\n",
      "Epoch 42/1000\n",
      "10/10 [==============================] - 0s 16ms/step - loss: 0.9550 - accuracy: 0.5574\n",
      "Epoch 43/1000\n",
      "10/10 [==============================] - 0s 16ms/step - loss: 0.9165 - accuracy: 0.5845\n",
      "Epoch 44/1000\n",
      "10/10 [==============================] - 0s 16ms/step - loss: 0.9270 - accuracy: 0.5811\n",
      "Epoch 45/1000\n",
      "10/10 [==============================] - 0s 16ms/step - loss: 0.9689 - accuracy: 0.5743\n",
      "Epoch 46/1000\n",
      "10/10 [==============================] - 0s 16ms/step - loss: 0.9505 - accuracy: 0.5709\n",
      "Epoch 47/1000\n",
      "10/10 [==============================] - 0s 16ms/step - loss: 0.9401 - accuracy: 0.5845\n",
      "Epoch 48/1000\n",
      "10/10 [==============================] - 0s 16ms/step - loss: 0.9663 - accuracy: 0.5676\n",
      "Epoch 49/1000\n",
      "10/10 [==============================] - 0s 16ms/step - loss: 0.9503 - accuracy: 0.5912\n",
      "Epoch 50/1000\n",
      "10/10 [==============================] - 0s 16ms/step - loss: 0.9299 - accuracy: 0.5878\n",
      "Epoch 51/1000\n",
      "10/10 [==============================] - 0s 16ms/step - loss: 0.9380 - accuracy: 0.5980\n",
      "Epoch 52/1000\n",
      "10/10 [==============================] - 0s 16ms/step - loss: 0.9515 - accuracy: 0.5709\n",
      "Epoch 53/1000\n",
      "10/10 [==============================] - 0s 16ms/step - loss: 0.9635 - accuracy: 0.5642\n"
     ]
    },
    {
     "data": {
      "text/plain": [
       "<keras.callbacks.History at 0x1743ca1f0>"
      ]
     },
     "metadata": {},
     "output_type": "display_data"
    }
   ],
   "source": [
    "callback = tf.keras.callbacks.EarlyStopping(monitor='loss', patience=10)\n",
    "\n",
    "model.fit(x_train_lstm, y_train_lstm, epochs=1000, callbacks=[callback])"
   ]
  },
  {
   "cell_type": "code",
   "execution_count": null,
   "metadata": {},
   "outputs": [
    {
     "name": "stdout",
     "output_type": "stream",
     "text": [
      "4/4 [==============================] - 0s 18ms/step - loss: 1.0243 - accuracy: 0.5405\n",
      "10/10 [==============================] - 0s 4ms/step\n",
      "TRAIN REPORT\n",
      "              precision    recall  f1-score   support\n",
      "\n",
      "           A      0.447     0.551     0.494        69\n",
      "           D      0.000     0.000     0.000        64\n",
      "           H      0.649     0.840     0.733       163\n",
      "\n",
      "    accuracy                          0.591       296\n",
      "   macro avg      0.365     0.464     0.409       296\n",
      "weighted avg      0.462     0.591     0.518       296\n",
      "\n",
      "--------------------------------------------------\n",
      "4/4 [==============================] - 0s 6ms/step\n",
      "TEST REPORT\n",
      "              precision    recall  f1-score   support\n",
      "\n",
      "           A      0.556     1.000     0.714        60\n",
      "           D      0.000     0.000     0.000        21\n",
      "           H      0.000     0.000     0.000        30\n",
      "\n",
      "    accuracy                          0.541       111\n",
      "   macro avg      0.185     0.333     0.238       111\n",
      "weighted avg      0.300     0.541     0.386       111\n",
      "\n",
      "--------------------------------------------------\n"
     ]
    },
    {
     "name": "stderr",
     "output_type": "stream",
     "text": [
      "/opt/homebrew/Caskroom/miniconda/base/envs/mdl_env/lib/python3.8/site-packages/sklearn/metrics/_classification.py:1334: UndefinedMetricWarning: Precision and F-score are ill-defined and being set to 0.0 in labels with no predicted samples. Use `zero_division` parameter to control this behavior.\n",
      "  _warn_prf(average, modifier, msg_start, len(result))\n",
      "/opt/homebrew/Caskroom/miniconda/base/envs/mdl_env/lib/python3.8/site-packages/sklearn/metrics/_classification.py:1334: UndefinedMetricWarning: Precision and F-score are ill-defined and being set to 0.0 in labels with no predicted samples. Use `zero_division` parameter to control this behavior.\n",
      "  _warn_prf(average, modifier, msg_start, len(result))\n",
      "/opt/homebrew/Caskroom/miniconda/base/envs/mdl_env/lib/python3.8/site-packages/sklearn/metrics/_classification.py:1334: UndefinedMetricWarning: Precision and F-score are ill-defined and being set to 0.0 in labels with no predicted samples. Use `zero_division` parameter to control this behavior.\n",
      "  _warn_prf(average, modifier, msg_start, len(result))\n",
      "/opt/homebrew/Caskroom/miniconda/base/envs/mdl_env/lib/python3.8/site-packages/sklearn/metrics/_classification.py:1334: UndefinedMetricWarning: Precision and F-score are ill-defined and being set to 0.0 in labels with no predicted samples. Use `zero_division` parameter to control this behavior.\n",
      "  _warn_prf(average, modifier, msg_start, len(result))\n",
      "/opt/homebrew/Caskroom/miniconda/base/envs/mdl_env/lib/python3.8/site-packages/sklearn/metrics/_classification.py:1334: UndefinedMetricWarning: Precision and F-score are ill-defined and being set to 0.0 in labels with no predicted samples. Use `zero_division` parameter to control this behavior.\n",
      "  _warn_prf(average, modifier, msg_start, len(result))\n",
      "/opt/homebrew/Caskroom/miniconda/base/envs/mdl_env/lib/python3.8/site-packages/sklearn/metrics/_classification.py:1334: UndefinedMetricWarning: Precision and F-score are ill-defined and being set to 0.0 in labels with no predicted samples. Use `zero_division` parameter to control this behavior.\n",
      "  _warn_prf(average, modifier, msg_start, len(result))\n"
     ]
    }
   ],
   "source": [
    "model.evaluate(x_test_lstm, y_test_lstm)\n",
    "\n",
    "report(model, x_train_lstm, y_train_lstm, \"train\", enc)\n",
    "report(model, x_test_lstm, y_test_lstm, \"test\", enc)"
   ]
  }
 ],
 "metadata": {
  "kernelspec": {
   "display_name": "mdl_env",
   "language": "python",
   "name": "python3"
  },
  "language_info": {
   "codemirror_mode": {
    "name": "ipython",
    "version": 3
   },
   "file_extension": ".py",
   "mimetype": "text/x-python",
   "name": "python",
   "nbconvert_exporter": "python",
   "pygments_lexer": "ipython3",
   "version": "3.8.13"
  },
  "orig_nbformat": 4,
  "vscode": {
   "interpreter": {
    "hash": "79b5e57923bea2f111e96499fff5bbb689235c6339c9e2909bc09deb6f078094"
   }
  }
 },
 "nbformat": 4,
 "nbformat_minor": 2
}
