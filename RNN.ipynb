{
 "cells": [
  {
   "cell_type": "code",
   "execution_count": 26,
   "metadata": {},
   "outputs": [],
   "source": [
    "from sklearn.model_selection import train_test_split\n",
    "from sklearn.metrics import classification_report\n",
    "\n",
    "from sklearn.model_selection import GridSearchCV\n",
    "from sklearn.preprocessing import OneHotEncoder\n",
    "from sklearn.impute import SimpleImputer\n",
    "\n",
    "from sklearn.svm import SVC, LinearSVC\n",
    "from sklearn.linear_model import SGDClassifier, RidgeClassifier\n",
    "from sklearn.ensemble import RandomForestClassifier, AdaBoostClassifier\n",
    "\n",
    "import tensorflow as tf\n",
    "from tensorflow import keras as k\n",
    "\n",
    "import pandas as pd\n",
    "from utility import *"
   ]
  },
  {
   "cell_type": "code",
   "execution_count": 27,
   "metadata": {},
   "outputs": [],
   "source": [
    "data = load_data()\n",
    "X, y = create_XY(data)\n",
    "\n",
    "enc = OneHotEncoder(sparse=False)\n",
    "y = enc.fit_transform(y)\n",
    "X_imputed = SimpleImputer().fit_transform(X)"
   ]
  },
  {
   "cell_type": "code",
   "execution_count": 28,
   "metadata": {},
   "outputs": [],
   "source": [
    "def time_step(data, label, step=10):\n",
    "    x,y = [],[]\n",
    "    for i in range(data.shape[0]-(step+1)):\n",
    "        x.append(data[i:i+step])\n",
    "        y.append(label[i+step+1])\n",
    "    return np.array(x),np.array(y)"
   ]
  },
  {
   "cell_type": "code",
   "execution_count": 29,
   "metadata": {},
   "outputs": [],
   "source": [
    "def create_dataset(data, team_name):\n",
    "    ht = data.loc[data['HomeTeam']==team_name]\n",
    "    at = data.loc[data['AwayTeam']==team_name]\n",
    "    team_data = pd.concat([ht, at])\n",
    "    team_data_label = team_data['FTR']\n",
    "    team_data_featured = pd.get_dummies(team_data[features])\n",
    "    return team_data_featured, team_data_label"
   ]
  },
  {
   "cell_type": "code",
   "execution_count": 30,
   "metadata": {},
   "outputs": [
    {
     "name": "stdout",
     "output_type": "stream",
     "text": [
      "(407, 10, 94)\n",
      "(407,)\n"
     ]
    }
   ],
   "source": [
    "team_name = 'Chelsea'\n",
    "data_f, data_l = create_dataset(data, team_name)\n",
    "data_f = SimpleImputer().fit_transform(data_f)\n",
    "x_ars, y_ars = time_step(data_f, data_l.to_numpy())\n",
    "\n",
    "print(x_ars.shape)\n",
    "print(y_ars.shape)\n",
    "\n",
    "y_ars = enc.fit_transform(y_ars.reshape(-1,1))\n",
    "\n"
   ]
  },
  {
   "cell_type": "code",
   "execution_count": 31,
   "metadata": {},
   "outputs": [],
   "source": [
    "x_train, x_test, y_train, y_test = train_test_split(x_ars, y_ars, shuffle=False, test_size=test_size)\n",
    "\n",
    "Tx = x_train.shape[1] #Time steps\n",
    "Ty = y_train.shape[1] #Time Steps"
   ]
  },
  {
   "cell_type": "markdown",
   "metadata": {},
   "source": [
    "# LSTM"
   ]
  },
  {
   "cell_type": "code",
   "execution_count": 32,
   "metadata": {},
   "outputs": [
    {
     "ename": "OSError",
     "evalue": "SavedModel file does not exist at: ./models/lstm//{saved_model.pbtxt|saved_model.pb}",
     "output_type": "error",
     "traceback": [
      "\u001b[0;31m---------------------------------------------------------------------------\u001b[0m",
      "\u001b[0;31mOSError\u001b[0m                                   Traceback (most recent call last)",
      "\u001b[1;32m/Users/davidegalletti/Repository/Github/Progetto ML DL/progetto_ml_dl/RNN.ipynb Cella 8\u001b[0m in \u001b[0;36m<cell line: 7>\u001b[0;34m()\u001b[0m\n\u001b[1;32m      <a href='vscode-notebook-cell:/Users/davidegalletti/Repository/Github/Progetto%20ML%20DL/progetto_ml_dl/RNN.ipynb#X10sZmlsZQ%3D%3D?line=8'>9</a>\u001b[0m     os\u001b[39m.\u001b[39mmkdir(model_path)\n\u001b[1;32m     <a href='vscode-notebook-cell:/Users/davidegalletti/Repository/Github/Progetto%20ML%20DL/progetto_ml_dl/RNN.ipynb#X10sZmlsZQ%3D%3D?line=11'>12</a>\u001b[0m \u001b[39melse\u001b[39;00m:\n\u001b[0;32m---> <a href='vscode-notebook-cell:/Users/davidegalletti/Repository/Github/Progetto%20ML%20DL/progetto_ml_dl/RNN.ipynb#X10sZmlsZQ%3D%3D?line=12'>13</a>\u001b[0m     model \u001b[39m=\u001b[39m k\u001b[39m.\u001b[39;49mmodels\u001b[39m.\u001b[39;49mload_model(model_path)\n\u001b[1;32m     <a href='vscode-notebook-cell:/Users/davidegalletti/Repository/Github/Progetto%20ML%20DL/progetto_ml_dl/RNN.ipynb#X10sZmlsZQ%3D%3D?line=15'>16</a>\u001b[0m \u001b[39mif\u001b[39;00m model \u001b[39m==\u001b[39m \u001b[39mNone\u001b[39;00m:\n\u001b[1;32m     <a href='vscode-notebook-cell:/Users/davidegalletti/Repository/Github/Progetto%20ML%20DL/progetto_ml_dl/RNN.ipynb#X10sZmlsZQ%3D%3D?line=16'>17</a>\u001b[0m     model \u001b[39m=\u001b[39m k\u001b[39m.\u001b[39mmodels\u001b[39m.\u001b[39mSequential(\n\u001b[1;32m     <a href='vscode-notebook-cell:/Users/davidegalletti/Repository/Github/Progetto%20ML%20DL/progetto_ml_dl/RNN.ipynb#X10sZmlsZQ%3D%3D?line=17'>18</a>\u001b[0m         [\n\u001b[1;32m     <a href='vscode-notebook-cell:/Users/davidegalletti/Repository/Github/Progetto%20ML%20DL/progetto_ml_dl/RNN.ipynb#X10sZmlsZQ%3D%3D?line=18'>19</a>\u001b[0m             k\u001b[39m.\u001b[39mlayers\u001b[39m.\u001b[39mLSTM(\u001b[39m64\u001b[39m, return_sequences\u001b[39m=\u001b[39m\u001b[39mTrue\u001b[39;00m),\n\u001b[0;32m   (...)\u001b[0m\n\u001b[1;32m     <a href='vscode-notebook-cell:/Users/davidegalletti/Repository/Github/Progetto%20ML%20DL/progetto_ml_dl/RNN.ipynb#X10sZmlsZQ%3D%3D?line=25'>26</a>\u001b[0m         ]\n\u001b[1;32m     <a href='vscode-notebook-cell:/Users/davidegalletti/Repository/Github/Progetto%20ML%20DL/progetto_ml_dl/RNN.ipynb#X10sZmlsZQ%3D%3D?line=26'>27</a>\u001b[0m     )\n",
      "File \u001b[0;32m/opt/homebrew/Caskroom/miniconda/base/envs/mdl_env/lib/python3.8/site-packages/keras/utils/traceback_utils.py:70\u001b[0m, in \u001b[0;36mfilter_traceback.<locals>.error_handler\u001b[0;34m(*args, **kwargs)\u001b[0m\n\u001b[1;32m     67\u001b[0m     filtered_tb \u001b[39m=\u001b[39m _process_traceback_frames(e\u001b[39m.\u001b[39m__traceback__)\n\u001b[1;32m     68\u001b[0m     \u001b[39m# To get the full stack trace, call:\u001b[39;00m\n\u001b[1;32m     69\u001b[0m     \u001b[39m# `tf.debugging.disable_traceback_filtering()`\u001b[39;00m\n\u001b[0;32m---> 70\u001b[0m     \u001b[39mraise\u001b[39;00m e\u001b[39m.\u001b[39mwith_traceback(filtered_tb) \u001b[39mfrom\u001b[39;00m \u001b[39mNone\u001b[39m\n\u001b[1;32m     71\u001b[0m \u001b[39mfinally\u001b[39;00m:\n\u001b[1;32m     72\u001b[0m     \u001b[39mdel\u001b[39;00m filtered_tb\n",
      "File \u001b[0;32m/opt/homebrew/Caskroom/miniconda/base/envs/mdl_env/lib/python3.8/site-packages/tensorflow/python/saved_model/loader_impl.py:115\u001b[0m, in \u001b[0;36mparse_saved_model\u001b[0;34m(export_dir)\u001b[0m\n\u001b[1;32m    113\u001b[0m     \u001b[39mraise\u001b[39;00m \u001b[39mIOError\u001b[39;00m(\u001b[39mf\u001b[39m\u001b[39m\"\u001b[39m\u001b[39mCannot parse file \u001b[39m\u001b[39m{\u001b[39;00mpath_to_pbtxt\u001b[39m}\u001b[39;00m\u001b[39m: \u001b[39m\u001b[39m{\u001b[39;00m\u001b[39mstr\u001b[39m(e)\u001b[39m}\u001b[39;00m\u001b[39m.\u001b[39m\u001b[39m\"\u001b[39m)\n\u001b[1;32m    114\u001b[0m \u001b[39melse\u001b[39;00m:\n\u001b[0;32m--> 115\u001b[0m   \u001b[39mraise\u001b[39;00m \u001b[39mIOError\u001b[39;00m(\n\u001b[1;32m    116\u001b[0m       \u001b[39mf\u001b[39m\u001b[39m\"\u001b[39m\u001b[39mSavedModel file does not exist at: \u001b[39m\u001b[39m{\u001b[39;00mexport_dir\u001b[39m}\u001b[39;00m\u001b[39m{\u001b[39;00mos\u001b[39m.\u001b[39mpath\u001b[39m.\u001b[39msep\u001b[39m}\u001b[39;00m\u001b[39m\"\u001b[39m\n\u001b[1;32m    117\u001b[0m       \u001b[39mf\u001b[39m\u001b[39m\"\u001b[39m\u001b[39m{{\u001b[39;00m\u001b[39m{\u001b[39;00mconstants\u001b[39m.\u001b[39mSAVED_MODEL_FILENAME_PBTXT\u001b[39m}\u001b[39;00m\u001b[39m|\u001b[39m\u001b[39m\"\u001b[39m\n\u001b[1;32m    118\u001b[0m       \u001b[39mf\u001b[39m\u001b[39m\"\u001b[39m\u001b[39m{\u001b[39;00mconstants\u001b[39m.\u001b[39mSAVED_MODEL_FILENAME_PB\u001b[39m}\u001b[39;00m\u001b[39m}}\u001b[39;00m\u001b[39m\"\u001b[39m)\n",
      "\u001b[0;31mOSError\u001b[0m: SavedModel file does not exist at: ./models/lstm//{saved_model.pbtxt|saved_model.pb}"
     ]
    }
   ],
   "source": [
    "import os\n",
    "\n",
    "model = None\n",
    "model_path = './models/lstm/'\n",
    "\n",
    "# Check se il modello è già salvato\n",
    "if not os.path.exists(model_path) or os.listdir(model_path):\n",
    "    os.mkdir(\"./\" + model_path.split(\"/\")[1])\n",
    "    os.mkdir(model_path)\n",
    "\n",
    "\n",
    "else:\n",
    "    model = k.models.load_model(model_path)\n",
    "\n",
    "\n",
    "if model == None:\n",
    "    model = k.models.Sequential(\n",
    "        [\n",
    "            k.layers.LSTM(64, return_sequences=True),\n",
    "            k.layers.Dropout(0.4),\n",
    "            k.layers.Dense(1000, activation=\"relu\"),\n",
    "            k.layers.Dropout(0.3),\n",
    "            k.layers.Dense(250, activation=\"relu\"),\n",
    "            k.layers.Dropout(0.2),\n",
    "            k.layers.Dense(3, activation=\"softmax\")\n",
    "        ]\n",
    "    )\n",
    "\n",
    "    model.compile(\n",
    "        loss='categorical_crossentropy',\n",
    "        optimizer=tf.keras.optimizers.Adam(0.0001),\n",
    "        metrics=[\"accuracy\"]\n",
    "    )\n",
    "\n",
    "    callback = tf.keras.callbacks.EarlyStopping(monitor='loss', patience=5)\n",
    "\n",
    "    model.fit(x_train, y_train, epochs=10, callbacks=[callback])\n",
    "    model.save('./models/lstm')"
   ]
  },
  {
   "cell_type": "code",
   "execution_count": null,
   "metadata": {},
   "outputs": [],
   "source": [
    "model.evaluate(x_test, y_test)\n",
    "report(model, x_train, y_train, x_test, y_test, enc)"
   ]
  },
  {
   "cell_type": "markdown",
   "metadata": {},
   "source": [
    "## 2 LSTM concatenate + dense e dropout in sequenza"
   ]
  },
  {
   "cell_type": "code",
   "execution_count": null,
   "metadata": {},
   "outputs": [],
   "source": [
    "inputs = k.layers.Input(shape=(10,94))\n",
    "lstm1 = k.layers.LSTM(100, return_sequences=True, activation=\"relu\")(inputs)\n",
    "lstm2 = k.layers.LSTM(50, return_sequences=True, activation=\"relu\")(inputs)\n",
    "concateneted = k.layers.Concatenate()([\n",
    "    lstm1,\n",
    "    lstm2\n",
    "])\n",
    "\n",
    "out = k.layers.Dropout(0.5)(concateneted)\n",
    "out = k.layers.Dense(1000, activation=\"relu\")(out)\n",
    "out = k.layers.Dropout(0.5)(out)\n",
    "out = k.layers.Dense(250, activation=\"relu\")(out)\n",
    "out = k.layers.Dropout(0.5)(out)\n",
    "out = k.layers.Dense(3, activation=\"softmax\")(out)\n",
    "\n",
    "model = k.models.Model(inputs=inputs, outputs=out)"
   ]
  },
  {
   "cell_type": "code",
   "execution_count": null,
   "metadata": {},
   "outputs": [],
   "source": [
    "model.summary()"
   ]
  },
  {
   "cell_type": "code",
   "execution_count": null,
   "metadata": {},
   "outputs": [],
   "source": [
    "model.compile(\n",
    "    loss='categorical_crossentropy',\n",
    "    optimizer=tf.keras.optimizers.Adam(0.0001),\n",
    "    metrics=[\"accuracy\"]\n",
    ")\n",
    "\n",
    "callback = tf.keras.callbacks.EarlyStopping(monitor='loss', patience=5)\n",
    "\n",
    "model.fit(x_train, y_train, epochs=500, callbacks=[callback])"
   ]
  },
  {
   "cell_type": "code",
   "execution_count": null,
   "metadata": {},
   "outputs": [],
   "source": [
    "model.evaluate(x_test, y_test)\n",
    "report(model, x_train, y_train, x_test, y_test, enc)"
   ]
  },
  {
   "cell_type": "markdown",
   "metadata": {},
   "source": [
    "### Fit\n",
    "loss: 0.9373 - accuracy: 0.5609\n",
    "### Evaluate\n",
    "loss: 0.9192 - accuracy: 0.5930\n",
    "### Classification report\n",
    "\n",
    "| | precision | recall | f1-score | support |\n",
    "| - | ----------- | ------ | -------- | ------- |\n",
    "| A | 0.609 | 0.614 | 0.612 | 345 |\n",
    "| D | 0.321 | 0.201 | 0.247 | 254 |\n",
    "| H | 0.652 | 0.763 | 0.704 | 541 |\n",
    "| accuracy | |  | 0.593 | 1140 |\n",
    "| macro avg | 0.527 | 0.526 | 0.521 | 1140 |\n",
    "| weighted avg | 0.565 | 0.593 | 0.574 | 1140 |"
   ]
  },
  {
   "cell_type": "markdown",
   "metadata": {},
   "source": [
    "## LSTM in parallelo"
   ]
  },
  {
   "cell_type": "code",
   "execution_count": null,
   "metadata": {},
   "outputs": [],
   "source": [
    "inputs = k.layers.Input(shape=(10,94))\n",
    "x = []\n",
    "for t in range(Tx):\n",
    "    module = k.layers.LSTM((t+1)*10, return_sequences=True)(inputs)\n",
    "    module = k.layers.Dropout(0.7)(module)\n",
    "    x.append(module)\n",
    "x = k.layers.Concatenate()(x)\n",
    "\n",
    "out = k.layers.Dense(1000, activation=\"relu\")(x)\n",
    "out = k.layers.Dropout(0.7)(out)\n",
    "out = k.layers.Dense(250, activation=\"relu\")(out)\n",
    "out = k.layers.Dense(3, activation=\"softmax\")(out)\n",
    "\n",
    "txLstm = k.models.Model(inputs=inputs, outputs=out)"
   ]
  },
  {
   "cell_type": "code",
   "execution_count": null,
   "metadata": {},
   "outputs": [],
   "source": [
    "txLstm.summary()"
   ]
  },
  {
   "cell_type": "code",
   "execution_count": null,
   "metadata": {},
   "outputs": [],
   "source": [
    "txLstm.compile(\n",
    "    loss='categorical_crossentropy',\n",
    "    optimizer=tf.keras.optimizers.Adam(0.0001),\n",
    "    metrics=[\"accuracy\"]\n",
    ")\n",
    "\n",
    "callback = tf.keras.callbacks.EarlyStopping(monitor='accuracy', patience=3)\n",
    "\n",
    "txLstm.fit(x_train_lstm, y_train_lstm, epochs=500, callbacks=[callback], batch_size=16)"
   ]
  },
  {
   "cell_type": "code",
   "execution_count": null,
   "metadata": {},
   "outputs": [],
   "source": [
    "txLstm.evaluate(y_test_lstm, y_test_lstm)\n",
    "report(txLstm, x_train_lstm, y_train_lstm, x_test_lstm, y_test_lstm, enc)"
   ]
  },
  {
   "cell_type": "markdown",
   "metadata": {},
   "source": [
    "# GRU"
   ]
  },
  {
   "cell_type": "code",
   "execution_count": null,
   "metadata": {},
   "outputs": [],
   "source": [
    "gru = k.models.Sequential([\n",
    "    k.layers.GRU(100, return_sequences=True, activation=\"relu\"),\n",
    "    k.layers.Dropout(0.4),\n",
    "    k.layers.Dense(1000, activation=\"relu\"),\n",
    "    k.layers.Dropout(0.3),\n",
    "    k.layers.Dense(250, activation=\"relu\"),\n",
    "    k.layers.Dropout(0.2),\n",
    "    k.layers.Dense(3, activation=\"softmax\")\n",
    "])"
   ]
  },
  {
   "cell_type": "code",
   "execution_count": null,
   "metadata": {},
   "outputs": [],
   "source": [
    "gru(x_train_lstm)\n",
    "gru.summary()"
   ]
  },
  {
   "cell_type": "code",
   "execution_count": null,
   "metadata": {},
   "outputs": [],
   "source": [
    "gru.compile(\n",
    "    loss='categorical_crossentropy',\n",
    "    optimizer=tf.keras.optimizers.Adam(0.0001),\n",
    "    metrics=[\"accuracy\"]\n",
    ")\n",
    "\n",
    "callback = tf.keras.callbacks.EarlyStopping(monitor='loss', patience=5)\n",
    "\n",
    "gru.fit(x_train_lstm, y_train_lstm, epochs=500, callbacks=[callback])"
   ]
  },
  {
   "cell_type": "code",
   "execution_count": null,
   "metadata": {},
   "outputs": [],
   "source": [
    "gru.evaluate(x_test_lstm, y_test_lstm)\n",
    "report(gru, x_train_lstm, y_train_lstm, x_test_lstm, y_test_lstm, enc)"
   ]
  },
  {
   "cell_type": "markdown",
   "metadata": {},
   "source": [
    "# Time distributed"
   ]
  },
  {
   "cell_type": "code",
   "execution_count": null,
   "metadata": {},
   "outputs": [
    {
     "name": "stdout",
     "output_type": "stream",
     "text": [
      "Metal device set to: Apple M1\n",
      "\n",
      "systemMemory: 8.00 GB\n",
      "maxCacheSize: 2.67 GB\n",
      "\n"
     ]
    },
    {
     "name": "stderr",
     "output_type": "stream",
     "text": [
      "2022-12-15 17:13:25.150328: I tensorflow/core/common_runtime/pluggable_device/pluggable_device_factory.cc:306] Could not identify NUMA node of platform GPU ID 0, defaulting to 0. Your kernel may not have been built with NUMA support.\n",
      "2022-12-15 17:13:25.150473: I tensorflow/core/common_runtime/pluggable_device/pluggable_device_factory.cc:272] Created TensorFlow device (/job:localhost/replica:0/task:0/device:GPU:0 with 0 MB memory) -> physical PluggableDevice (device: 0, name: METAL, pci bus id: <undefined>)\n"
     ]
    }
   ],
   "source": [
    "model = k.models.Sequential(\n",
    "    [\n",
    "        k.layers.GRU(128, dropout=0.5, return_sequences=True),\n",
    "        k.layers.Flatten(),\n",
    "        k.layers.Dense(40, activation=\"relu\"),\n",
    "        k.layers.Dropout(0.4),\n",
    "        k.layers.Dense(20, activation=\"relu\"),\n",
    "        k.layers.Dropout(0.2),\n",
    "        k.layers.Dense(10, activation=\"relu\"),\n",
    "        k.layers.Dense(3, activation=\"softmax\")\n",
    "    ]\n",
    ")"
   ]
  },
  {
   "cell_type": "code",
   "execution_count": null,
   "metadata": {},
   "outputs": [
    {
     "name": "stdout",
     "output_type": "stream",
     "text": [
      "Model: \"sequential\"\n",
      "_________________________________________________________________\n",
      " Layer (type)                Output Shape              Param #   \n",
      "=================================================================\n",
      " gru (GRU)                   (296, 10, 128)            86016     \n",
      "                                                                 \n",
      " flatten (Flatten)           (296, 1280)               0         \n",
      "                                                                 \n",
      " dense (Dense)               (296, 40)                 51240     \n",
      "                                                                 \n",
      " dropout (Dropout)           (296, 40)                 0         \n",
      "                                                                 \n",
      " dense_1 (Dense)             (296, 20)                 820       \n",
      "                                                                 \n",
      " dropout_1 (Dropout)         (296, 20)                 0         \n",
      "                                                                 \n",
      " dense_2 (Dense)             (296, 10)                 210       \n",
      "                                                                 \n",
      " dense_3 (Dense)             (296, 3)                  33        \n",
      "                                                                 \n",
      "=================================================================\n",
      "Total params: 138,319\n",
      "Trainable params: 138,319\n",
      "Non-trainable params: 0\n",
      "_________________________________________________________________\n"
     ]
    }
   ],
   "source": [
    "model.compile(\n",
    "    loss='categorical_crossentropy',\n",
    "    optimizer=tf.keras.optimizers.Adam(0.0001),\n",
    "    metrics=[\"accuracy\"]\n",
    ")\n",
    "model(x_train)\n",
    "model.summary()"
   ]
  },
  {
   "cell_type": "code",
   "execution_count": null,
   "metadata": {},
   "outputs": [
    {
     "name": "stdout",
     "output_type": "stream",
     "text": [
      "Epoch 1/1000\n"
     ]
    },
    {
     "name": "stderr",
     "output_type": "stream",
     "text": [
      "2022-12-15 17:13:58.979764: W tensorflow/core/platform/profile_utils/cpu_utils.cc:128] Failed to get CPU frequency: 0 Hz\n",
      "2022-12-15 17:14:00.554430: I tensorflow/core/grappler/optimizers/custom_graph_optimizer_registry.cc:114] Plugin optimizer for device_type GPU is enabled.\n",
      "2022-12-15 17:14:00.800466: I tensorflow/core/grappler/optimizers/custom_graph_optimizer_registry.cc:114] Plugin optimizer for device_type GPU is enabled.\n"
     ]
    },
    {
     "name": "stdout",
     "output_type": "stream",
     "text": [
      " 1/10 [==>...........................] - ETA: 20s - loss: 1.4210 - accuracy: 0.3438"
     ]
    },
    {
     "name": "stderr",
     "output_type": "stream",
     "text": [
      "2022-12-15 17:14:01.096027: I tensorflow/core/grappler/optimizers/custom_graph_optimizer_registry.cc:114] Plugin optimizer for device_type GPU is enabled.\n"
     ]
    },
    {
     "name": "stdout",
     "output_type": "stream",
     "text": [
      "10/10 [==============================] - 3s 51ms/step - loss: 1.4587 - accuracy: 0.2466\n",
      "Epoch 2/1000\n",
      "10/10 [==============================] - 0s 25ms/step - loss: 1.2842 - accuracy: 0.2534\n",
      "Epoch 3/1000\n",
      "10/10 [==============================] - 0s 26ms/step - loss: 1.1451 - accuracy: 0.3480\n",
      "Epoch 4/1000\n",
      "10/10 [==============================] - 0s 26ms/step - loss: 1.1114 - accuracy: 0.3784\n",
      "Epoch 5/1000\n",
      "10/10 [==============================] - 0s 25ms/step - loss: 1.1144 - accuracy: 0.3750\n",
      "Epoch 6/1000\n",
      "10/10 [==============================] - 0s 24ms/step - loss: 1.0633 - accuracy: 0.4324\n",
      "Epoch 7/1000\n",
      "10/10 [==============================] - 0s 24ms/step - loss: 1.0677 - accuracy: 0.4662\n",
      "Epoch 8/1000\n",
      "10/10 [==============================] - 0s 25ms/step - loss: 1.0598 - accuracy: 0.4696\n",
      "Epoch 9/1000\n",
      "10/10 [==============================] - 0s 25ms/step - loss: 1.0094 - accuracy: 0.4865\n",
      "Epoch 10/1000\n",
      "10/10 [==============================] - 0s 25ms/step - loss: 1.0654 - accuracy: 0.4865\n",
      "Epoch 11/1000\n",
      "10/10 [==============================] - 0s 25ms/step - loss: 1.0403 - accuracy: 0.4966\n",
      "Epoch 12/1000\n",
      "10/10 [==============================] - 0s 25ms/step - loss: 1.0633 - accuracy: 0.5101\n",
      "Epoch 13/1000\n",
      "10/10 [==============================] - 0s 25ms/step - loss: 1.0420 - accuracy: 0.4628\n",
      "Epoch 14/1000\n",
      "10/10 [==============================] - 0s 25ms/step - loss: 0.9932 - accuracy: 0.5574\n",
      "Epoch 15/1000\n",
      "10/10 [==============================] - 0s 25ms/step - loss: 1.0546 - accuracy: 0.4865\n",
      "Epoch 16/1000\n",
      "10/10 [==============================] - 0s 25ms/step - loss: 0.9984 - accuracy: 0.5169\n",
      "Epoch 17/1000\n",
      "10/10 [==============================] - 0s 26ms/step - loss: 0.9840 - accuracy: 0.5608\n",
      "Epoch 18/1000\n",
      "10/10 [==============================] - 0s 24ms/step - loss: 0.9871 - accuracy: 0.5304\n",
      "Epoch 19/1000\n",
      "10/10 [==============================] - 0s 25ms/step - loss: 1.0014 - accuracy: 0.5304\n",
      "Epoch 20/1000\n",
      "10/10 [==============================] - 0s 25ms/step - loss: 0.9896 - accuracy: 0.5473\n",
      "Epoch 21/1000\n",
      "10/10 [==============================] - 0s 25ms/step - loss: 1.0059 - accuracy: 0.5507\n",
      "Epoch 22/1000\n",
      "10/10 [==============================] - 0s 25ms/step - loss: 0.9908 - accuracy: 0.5034\n",
      "Epoch 23/1000\n",
      "10/10 [==============================] - 0s 24ms/step - loss: 0.9948 - accuracy: 0.5642\n",
      "Epoch 24/1000\n",
      "10/10 [==============================] - 0s 25ms/step - loss: 0.9919 - accuracy: 0.5169\n",
      "Epoch 25/1000\n",
      "10/10 [==============================] - 0s 24ms/step - loss: 0.9674 - accuracy: 0.5405\n",
      "Epoch 26/1000\n",
      "10/10 [==============================] - 0s 24ms/step - loss: 0.9978 - accuracy: 0.5473\n",
      "Epoch 27/1000\n",
      "10/10 [==============================] - 0s 25ms/step - loss: 0.9620 - accuracy: 0.5405\n",
      "Epoch 28/1000\n",
      "10/10 [==============================] - 0s 25ms/step - loss: 0.9676 - accuracy: 0.5541\n",
      "Epoch 29/1000\n",
      "10/10 [==============================] - 0s 26ms/step - loss: 0.9712 - accuracy: 0.5405\n",
      "Epoch 30/1000\n",
      "10/10 [==============================] - 0s 25ms/step - loss: 0.9787 - accuracy: 0.5304\n",
      "Epoch 31/1000\n",
      "10/10 [==============================] - 0s 25ms/step - loss: 0.9636 - accuracy: 0.5338\n",
      "Epoch 32/1000\n",
      "10/10 [==============================] - 0s 25ms/step - loss: 0.9753 - accuracy: 0.5709\n",
      "Epoch 33/1000\n",
      "10/10 [==============================] - 0s 25ms/step - loss: 0.9652 - accuracy: 0.5541\n",
      "Epoch 34/1000\n",
      "10/10 [==============================] - 0s 25ms/step - loss: 0.9787 - accuracy: 0.5676\n",
      "Epoch 35/1000\n",
      "10/10 [==============================] - 0s 24ms/step - loss: 0.9817 - accuracy: 0.5439\n",
      "Epoch 36/1000\n",
      "10/10 [==============================] - 0s 25ms/step - loss: 0.9776 - accuracy: 0.5574\n",
      "Epoch 37/1000\n",
      "10/10 [==============================] - 0s 25ms/step - loss: 0.9772 - accuracy: 0.5743\n"
     ]
    },
    {
     "data": {
      "text/plain": [
       "<keras.callbacks.History at 0x17e6a9d90>"
      ]
     },
     "execution_count": 11,
     "metadata": {},
     "output_type": "execute_result"
    }
   ],
   "source": [
    "callback = tf.keras.callbacks.EarlyStopping(monitor='loss', patience=10)\n",
    "\n",
    "model.fit(x_train, y_train, epochs=1000, callbacks=[callback])"
   ]
  },
  {
   "cell_type": "code",
   "execution_count": null,
   "metadata": {},
   "outputs": [
    {
     "name": "stdout",
     "output_type": "stream",
     "text": [
      "1/4 [======>.......................] - ETA: 1s - loss: 1.0213 - accuracy: 0.5938"
     ]
    },
    {
     "name": "stderr",
     "output_type": "stream",
     "text": [
      "2022-12-15 17:14:11.126724: I tensorflow/core/grappler/optimizers/custom_graph_optimizer_registry.cc:114] Plugin optimizer for device_type GPU is enabled.\n",
      "2022-12-15 17:14:11.207441: I tensorflow/core/grappler/optimizers/custom_graph_optimizer_registry.cc:114] Plugin optimizer for device_type GPU is enabled.\n"
     ]
    },
    {
     "name": "stdout",
     "output_type": "stream",
     "text": [
      "4/4 [==============================] - 1s 37ms/step - loss: 1.0601 - accuracy: 0.4865\n",
      " 9/10 [==========================>...] - ETA: 0s"
     ]
    },
    {
     "name": "stderr",
     "output_type": "stream",
     "text": [
      "2022-12-15 17:14:11.674269: I tensorflow/core/grappler/optimizers/custom_graph_optimizer_registry.cc:114] Plugin optimizer for device_type GPU is enabled.\n",
      "2022-12-15 17:14:11.736102: I tensorflow/core/grappler/optimizers/custom_graph_optimizer_registry.cc:114] Plugin optimizer for device_type GPU is enabled.\n"
     ]
    },
    {
     "name": "stdout",
     "output_type": "stream",
     "text": [
      "10/10 [==============================] - 0s 12ms/step\n",
      "TRAIN REPORT\n",
      "              precision    recall  f1-score   support\n",
      "\n",
      "           A      0.487     0.565     0.523        69\n",
      "           D      1.000     0.047     0.090        64\n",
      "           H      0.657     0.859     0.745       163\n",
      "\n",
      "    accuracy                          0.615       296\n",
      "   macro avg      0.715     0.490     0.453       296\n",
      "weighted avg      0.692     0.615     0.551       296\n",
      "\n",
      "--------------------------------------------------\n",
      "4/4 [==============================] - 0s 21ms/step\n",
      "TEST REPORT\n",
      "              precision    recall  f1-score   support\n",
      "\n",
      "           A      0.537     0.850     0.658        60\n",
      "           D      0.000     0.000     0.000        21\n",
      "           H      0.273     0.100     0.146        30\n",
      "\n",
      "    accuracy                          0.486       111\n",
      "   macro avg      0.270     0.317     0.268       111\n",
      "weighted avg      0.364     0.486     0.395       111\n",
      "\n",
      "--------------------------------------------------\n"
     ]
    }
   ],
   "source": [
    "model.evaluate(x_test, y_test)\n",
    "\n",
    "report(model, x_train, y_train, \"train\", enc)\n",
    "report(model, x_test, y_test, \"test\", enc)"
   ]
  }
 ],
 "metadata": {
  "kernelspec": {
   "display_name": "mdl_env",
   "language": "python",
   "name": "python3"
  },
  "language_info": {
   "codemirror_mode": {
    "name": "ipython",
    "version": 3
   },
   "file_extension": ".py",
   "mimetype": "text/x-python",
   "name": "python",
   "nbconvert_exporter": "python",
   "pygments_lexer": "ipython3",
   "version": "3.8.13 (default, Oct 19 2022, 17:52:09) \n[Clang 12.0.0 ]"
  },
  "orig_nbformat": 4,
  "vscode": {
   "interpreter": {
    "hash": "79b5e57923bea2f111e96499fff5bbb689235c6339c9e2909bc09deb6f078094"
   }
  }
 },
 "nbformat": 4,
 "nbformat_minor": 2
}
